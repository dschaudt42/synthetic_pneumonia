{
 "cells": [
  {
   "cell_type": "code",
   "execution_count": 1,
   "metadata": {},
   "outputs": [],
   "source": [
    "import os\n",
    "import random\n",
    "import glob\n",
    "import shutil\n",
    "from pathlib import Path\n",
    "import matplotlib.pyplot as plt\n",
    "from PIL import Image\n",
    "from mpl_toolkits.axes_grid1 import ImageGrid"
   ]
  },
  {
   "cell_type": "code",
   "execution_count": 2,
   "metadata": {},
   "outputs": [],
   "source": [
    "random.seed(42)"
   ]
  },
  {
   "cell_type": "code",
   "execution_count": 3,
   "metadata": {},
   "outputs": [],
   "source": [
    "def plot_img_grid(img_list,x_titles=[],y_titles=[],suptitle=None,supylabel=None,save_file=None):\n",
    "    fig = plt.figure(figsize=(10, 10),dpi=150)\n",
    "\n",
    "    grid = ImageGrid(fig, 111,  # similar to subplot(111)\n",
    "                    nrows_ncols=(5, 5),  # creates 2x2 grid of axes\n",
    "                    axes_pad=0.02,  # pad between axes in inch.\n",
    "                    share_all=True,\n",
    "                    aspect=False)\n",
    "    pad=5\n",
    "    switch = 0\n",
    "    for i, (ax,im) in enumerate(zip(grid, img_list)):\n",
    "        # Iterating over the grid returns the Axes.\n",
    "        ax.imshow(im)\n",
    "\n",
    "        ax.set_yticklabels([])\n",
    "        ax.set_yticks([])\n",
    "        ax.set_xticks([])\n",
    "        \n",
    "        if x_titles:\n",
    "            if i < 5:\n",
    "                ax.set_title(x_titles[i])\n",
    "\n",
    "        if y_titles:\n",
    "            if i>4 and i % 5 == 0:\n",
    "                switch += 1       \n",
    "            ax.set_ylabel(y_titles[switch],fontsize=14)\n",
    "\n",
    "    if suptitle:\n",
    "        fig.suptitle(suptitle, fontsize=14,y=0.91)\n",
    "\n",
    "    if supylabel:\n",
    "        fig.supylabel(supylabel,fontsize=14,x=0.1)\n",
    "\n",
    "    if save_file:\n",
    "        plt.savefig(save_file,bbox_inches='tight')\n",
    "        plt.close()\n",
    "    else:\n",
    "        plt.show()"
   ]
  },
  {
   "cell_type": "markdown",
   "metadata": {},
   "source": [
    "### Originalbilder"
   ]
  },
  {
   "cell_type": "code",
   "execution_count": 4,
   "metadata": {},
   "outputs": [],
   "source": [
    "y_titles = ['dreambooth','gan','unconditional','finetuning','lora']\n",
    "x_titles = ['Healthy','Viral','Bacterial','COVID-19','Fungal']"
   ]
  },
  {
   "cell_type": "code",
   "execution_count": 5,
   "metadata": {},
   "outputs": [],
   "source": [
    "src_folder = '/data/DS/Projekte/covid19/data/segmentation_test/train_per_class'\n",
    "c_imgs = random.sample(glob.glob(f'{src_folder}/C/*'),5)\n",
    "h_imgs = random.sample(glob.glob(f'{src_folder}/NB/*'),5)\n",
    "v_imgs = random.sample(glob.glob(f'{src_folder}/V/*'),5)\n",
    "f_imgs = random.sample(glob.glob(f'{src_folder}/P/*'),5)\n",
    "b_imgs = random.sample(glob.glob(f'{src_folder}/B/*'),5)\n",
    "\n",
    "file_list = [item for row in list(zip(h_imgs,v_imgs,b_imgs,c_imgs,f_imgs)) for item in row]\n",
    "img_list = [Image.open(x).resize((256,256)) for x in file_list]"
   ]
  },
  {
   "cell_type": "code",
   "execution_count": 6,
   "metadata": {},
   "outputs": [],
   "source": [
    "plot_img_grid(img_list,x_titles,save_file='export/image_collections/original.pdf')"
   ]
  },
  {
   "cell_type": "markdown",
   "metadata": {},
   "source": [
    "### Alle Methoden, alle Klassen"
   ]
  },
  {
   "cell_type": "code",
   "execution_count": 7,
   "metadata": {},
   "outputs": [],
   "source": [
    "src_folder = '/data/DS/Projekte/covid19/notebooks/Synth_Paper/images/assessment'\n",
    "y_titles = ['DreamBooth','Fine-tuning','GAN','LoRA','Unconditional']\n",
    "labels = ['H','V','B','C','F']\n",
    "x_titles = ['Healthy','Viral','Bacterial','COVID-19','Fungal']\n",
    "methods = ['sd_dreambooth','sd_finetuning','gan','sd_lora','unconditional']"
   ]
  },
  {
   "cell_type": "code",
   "execution_count": 8,
   "metadata": {},
   "outputs": [],
   "source": [
    "file_list = []\n",
    "for method in methods:\n",
    "    for label in labels:\n",
    "        rnd_img = random.choice(glob.glob(f'{src_folder}/{method}/{label}/*'))\n",
    "        file_list.append(rnd_img)\n",
    "img_list = [Image.open(x).resize((256,256)) for x in file_list]"
   ]
  },
  {
   "cell_type": "code",
   "execution_count": 9,
   "metadata": {},
   "outputs": [],
   "source": [
    "plot_img_grid(img_list,x_titles,y_titles, save_file='export/image_collections/all_classes_all_methods.pdf')"
   ]
  },
  {
   "cell_type": "markdown",
   "metadata": {},
   "source": [
    "### Eine Klasse, alle Methoden"
   ]
  },
  {
   "cell_type": "code",
   "execution_count": 12,
   "metadata": {},
   "outputs": [],
   "source": [
    "src_folder = '/data/DS/Projekte/covid19/notebooks/Synth_Paper/images/assessment'\n",
    "y_titles = ['DreamBooth','Fine-tuning','GAN','LoRA','Unconditional']\n",
    "x_titles = ['H','V','B','C','F']\n",
    "#x_titles = ['Healthy','Viral','Bacterial','COVID-19','Fungal']\n",
    "methods = ['sd_dreambooth','sd_finetuning','gan','sd_lora','unconditional']\n",
    "suptitles = ['Healthy/No Pneumonia','Viral Pneumonia','Bacterial Pneumonia','COVID-19 Pneumonia','Fungal Pneumonia']"
   ]
  },
  {
   "cell_type": "code",
   "execution_count": 13,
   "metadata": {},
   "outputs": [],
   "source": [
    "for suptitle,label in zip(suptitles,x_titles):\n",
    "    file_list = []\n",
    "    for method in methods:\n",
    "        rnd_imgs = random.sample(glob.glob(f'{src_folder}/{method}/{label}/*'),5)\n",
    "        file_list.extend(rnd_imgs)\n",
    "\n",
    "    img_list = [Image.open(x).resize((256,256)) for x in file_list]\n",
    "    plot_img_grid(img_list,y_titles=y_titles,suptitle=suptitle,save_file=f'export/image_collections/single_class_all_methods_{label}.pdf')"
   ]
  },
  {
   "cell_type": "markdown",
   "metadata": {},
   "source": [
    "### Eine Methode, alle Klassen"
   ]
  },
  {
   "cell_type": "code",
   "execution_count": 14,
   "metadata": {},
   "outputs": [],
   "source": [
    "src_folder = '/data/DS/Projekte/covid19/notebooks/Synth_Paper/images/assessment'\n",
    "y_titles = ['DreamBooth','Fine-tuning','GAN','LoRA','Unconditional']\n",
    "labels = ['H','V','B','C','F']\n",
    "x_titles = ['Healthy','Viral','Bacterial','COVID-19','Fungal']\n",
    "methods = ['sd_dreambooth','sd_finetuning','gan','sd_lora','unconditional']\n",
    "#suptitles = ['Healthy/No Pneumonia','Viral Pneumonia','Bacterial Pneumonia','COVID-19 Pneumonia','Fungal Pneumonia']"
   ]
  },
  {
   "cell_type": "code",
   "execution_count": 15,
   "metadata": {},
   "outputs": [],
   "source": [
    "for method,method_name in zip(methods,y_titles):\n",
    "    file_list = []\n",
    "    for label in labels:\n",
    "            rnd_imgs = random.sample(glob.glob(f'{src_folder}/{method}/{label}/*'),5)\n",
    "            file_list.extend(rnd_imgs)\n",
    "\n",
    "    sorted_list = file_list[0::5] + file_list[1::5] + file_list[2::5] + file_list[3::5] + file_list[4::5]  \n",
    "    img_list = [Image.open(x).resize((256,256)) for x in sorted_list]\n",
    "    plot_img_grid(img_list,x_titles=x_titles,supylabel=method_name,save_file=f'export/image_collections/single_method_all_classes_{method}.pdf')"
   ]
  },
  {
   "cell_type": "markdown",
   "metadata": {},
   "source": [
    "### FID progression for lora"
   ]
  },
  {
   "cell_type": "markdown",
   "metadata": {},
   "source": [
    "4 Bilder pro Checkpoint in 4 Checkpoints?"
   ]
  },
  {
   "cell_type": "code",
   "execution_count": null,
   "metadata": {},
   "outputs": [],
   "source": [
    "iterations = ['500','2000','7500','15000']\n",
    "fids = [236.28,166.55,208.46,190.50]"
   ]
  },
  {
   "cell_type": "code",
   "execution_count": null,
   "metadata": {},
   "outputs": [],
   "source": [
    "file_list = ['images/sd_lora/1e-5/sd_lora_scale1/F/checkpoint-500/image-1.png',\n",
    "             'images/sd_lora/1e-5/sd_lora_scale1/F/checkpoint-2000/image-0.png',\n",
    "             'images/sd_lora/1e-5/sd_lora_scale1/F/checkpoint-7500/image-0.png',\n",
    "             'images/sd_lora/1e-5/sd_lora_scale1/F/checkpoint-15000/image-0.png',\n",
    "             'images/sd_lora/1e-5/sd_lora_scale1/F/checkpoint-500/image-8.png',\n",
    "             'images/sd_lora/1e-5/sd_lora_scale1/F/checkpoint-2000/image-4.png',\n",
    "             'images/sd_lora/1e-5/sd_lora_scale1/F/checkpoint-7500/image-4.png',\n",
    "             'images/sd_lora/1e-5/sd_lora_scale1/F/checkpoint-15000/image-1.png',\n",
    "             'images/sd_lora/1e-5/sd_lora_scale1/F/checkpoint-500/image-11.png',\n",
    "             'images/sd_lora/1e-5/sd_lora_scale1/F/checkpoint-2000/image-7.png',\n",
    "             'images/sd_lora/1e-5/sd_lora_scale1/F/checkpoint-7500/image-7.png',\n",
    "             'images/sd_lora/1e-5/sd_lora_scale1/F/checkpoint-15000/image-2.png',\n",
    "             'images/sd_lora/1e-5/sd_lora_scale1/F/checkpoint-500/image-44.png',\n",
    "             'images/sd_lora/1e-5/sd_lora_scale1/F/checkpoint-2000/image-1.png',\n",
    "             'images/sd_lora/1e-5/sd_lora_scale1/F/checkpoint-7500/image-10.png',\n",
    "             'images/sd_lora/1e-5/sd_lora_scale1/F/checkpoint-15000/image-3.png']\n",
    "\n",
    "img_list = [Image.open(x) for x in file_list]"
   ]
  },
  {
   "cell_type": "code",
   "execution_count": null,
   "metadata": {},
   "outputs": [],
   "source": [
    "fig = plt.figure(figsize=(10, 10),dpi=150)\n",
    "\n",
    "grid = ImageGrid(fig, 111,  # similar to subplot(111)\n",
    "                nrows_ncols=(4, 4),  # creates 2x2 grid of axes\n",
    "                axes_pad=0.02,  # pad between axes in inch.\n",
    "                share_all=True,\n",
    "                aspect=False)\n",
    "\n",
    "for i, (ax,im) in enumerate(zip(grid, img_list)):\n",
    "    # Iterating over the grid returns the Axes.\n",
    "    ax.imshow(im)\n",
    "\n",
    "    ax.set_yticklabels([])\n",
    "    ax.set_yticks([])\n",
    "    ax.set_xticks([])\n",
    "    \n",
    "    if i < 4:\n",
    "        ax.set_title(f'iteration {iterations[i]}\\nFID {fids[i]}')\n",
    "\n",
    "plt.savefig('export/image_collections/fid_progression.pdf',bbox_inches='tight')\n",
    "plt.close()"
   ]
  },
  {
   "cell_type": "code",
   "execution_count": null,
   "metadata": {},
   "outputs": [],
   "source": []
  }
 ],
 "metadata": {
  "kernelspec": {
   "display_name": "pytorch_seg",
   "language": "python",
   "name": "python3"
  },
  "language_info": {
   "codemirror_mode": {
    "name": "ipython",
    "version": 3
   },
   "file_extension": ".py",
   "mimetype": "text/x-python",
   "name": "python",
   "nbconvert_exporter": "python",
   "pygments_lexer": "ipython3",
   "version": "3.9.15"
  },
  "orig_nbformat": 4
 },
 "nbformat": 4,
 "nbformat_minor": 2
}
