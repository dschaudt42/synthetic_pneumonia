{
 "cells": [
  {
   "cell_type": "markdown",
   "id": "descending-customs",
   "metadata": {},
   "source": [
    "## Training for Synth Paper 2022"
   ]
  },
  {
   "cell_type": "markdown",
   "id": "typical-personality",
   "metadata": {},
   "source": [
    "### Loading data"
   ]
  },
  {
   "cell_type": "code",
   "execution_count": 1,
   "id": "becoming-exploration",
   "metadata": {},
   "outputs": [],
   "source": [
    "import os\n",
    "import glob\n",
    "from pathlib import Path\n",
    "import numpy as np\n",
    "import pandas as pd\n",
    "import cv2\n",
    "import matplotlib.pyplot as plt\n",
    "from timm.data import IMAGENET_DEFAULT_MEAN, IMAGENET_DEFAULT_STD\n",
    "from tqdm import tqdm\n",
    "\n",
    "import torch\n",
    "import torch.nn as nn\n",
    "import torch.optim as optim\n",
    "from torchvision import models\n",
    "import numpy as np\n",
    "import timm\n",
    "\n",
    "import albumentations as albu\n",
    "from sklearn.metrics import classification_report,ConfusionMatrixDisplay\n",
    "from sklearn.model_selection import train_test_split\n",
    "\n",
    "from torch.utils.data import DataLoader\n",
    "from torch.utils.data import Dataset as BaseDataset"
   ]
  },
  {
   "cell_type": "code",
   "execution_count": 2,
   "id": "computational-blanket",
   "metadata": {},
   "outputs": [],
   "source": [
    "device = torch.device(\"cuda\" if torch.cuda.is_available() else \"cpu\")"
   ]
  },
  {
   "cell_type": "code",
   "execution_count": 3,
   "id": "incomplete-tanzania",
   "metadata": {},
   "outputs": [],
   "source": [
    "# helper function for data visualization\n",
    "def visualize(label, **images):\n",
    "    \"\"\"PLot images in one row.\"\"\"\n",
    "    n = len(images)\n",
    "    plt.figure(figsize=(16, 5))\n",
    "    for i, (name, image) in enumerate(images.items()):\n",
    "        plt.subplot(1, n, i + 1)\n",
    "        plt.xticks([])\n",
    "        plt.yticks([])\n",
    "        #plt.title(' '.join(name.split('_')).title())\n",
    "        plt.title(f'{name.title()} | GT: {label}')\n",
    "        plt.imshow(image)\n",
    "    plt.show()"
   ]
  },
  {
   "cell_type": "markdown",
   "id": "pleasant-worker",
   "metadata": {
    "tags": []
   },
   "source": [
    "### Data Preparation"
   ]
  },
  {
   "cell_type": "code",
   "execution_count": 4,
   "id": "western-north",
   "metadata": {},
   "outputs": [],
   "source": [
    "df = pd.read_csv('synth_paper_data.csv')\n",
    "df['class'] = df['class'].astype('category')"
   ]
  },
  {
   "cell_type": "code",
   "execution_count": 5,
   "id": "static-creation",
   "metadata": {},
   "outputs": [
    {
     "data": {
      "text/html": [
       "<div>\n",
       "<style scoped>\n",
       "    .dataframe tbody tr th:only-of-type {\n",
       "        vertical-align: middle;\n",
       "    }\n",
       "\n",
       "    .dataframe tbody tr th {\n",
       "        vertical-align: top;\n",
       "    }\n",
       "\n",
       "    .dataframe thead th {\n",
       "        text-align: right;\n",
       "    }\n",
       "</style>\n",
       "<table border=\"1\" class=\"dataframe\">\n",
       "  <thead>\n",
       "    <tr style=\"text-align: right;\">\n",
       "      <th></th>\n",
       "      <th>file_path</th>\n",
       "      <th>file_name</th>\n",
       "      <th>source</th>\n",
       "      <th>split</th>\n",
       "      <th>class</th>\n",
       "      <th>label_encoded</th>\n",
       "    </tr>\n",
       "  </thead>\n",
       "  <tbody>\n",
       "    <tr>\n",
       "      <th>34373</th>\n",
       "      <td>../../data/Covidx/data_with_classes/train/norm...</td>\n",
       "      <td>5699df0c-aa5a-4109-8f23-1bed85d1470e.png</td>\n",
       "      <td>Covidx</td>\n",
       "      <td>train</td>\n",
       "      <td>H</td>\n",
       "      <td>3</td>\n",
       "    </tr>\n",
       "    <tr>\n",
       "      <th>6967</th>\n",
       "      <td>../../data/generated_data/cs_uu/nb/sample_9341...</td>\n",
       "      <td>sample_9341.png</td>\n",
       "      <td>Synth</td>\n",
       "      <td>train</td>\n",
       "      <td>H</td>\n",
       "      <td>3</td>\n",
       "    </tr>\n",
       "    <tr>\n",
       "      <th>22562</th>\n",
       "      <td>../../data/Covidx/data_with_classes/train/norm...</td>\n",
       "      <td>91b8532d-9a47-4ed1-841b-ea4091f1db8c.png</td>\n",
       "      <td>Covidx</td>\n",
       "      <td>train</td>\n",
       "      <td>H</td>\n",
       "      <td>3</td>\n",
       "    </tr>\n",
       "    <tr>\n",
       "      <th>7056</th>\n",
       "      <td>../../data/generated_data/cs_uu/nb/sample_4867...</td>\n",
       "      <td>sample_4867.png</td>\n",
       "      <td>Synth</td>\n",
       "      <td>train</td>\n",
       "      <td>H</td>\n",
       "      <td>3</td>\n",
       "    </tr>\n",
       "    <tr>\n",
       "      <th>24887</th>\n",
       "      <td>../../data/Covidx/data_with_classes/train/norm...</td>\n",
       "      <td>b55db584-960a-4816-ba8b-b7fb493455ac.png</td>\n",
       "      <td>Covidx</td>\n",
       "      <td>train</td>\n",
       "      <td>H</td>\n",
       "      <td>3</td>\n",
       "    </tr>\n",
       "  </tbody>\n",
       "</table>\n",
       "</div>"
      ],
      "text/plain": [
       "                                               file_path  \\\n",
       "34373  ../../data/Covidx/data_with_classes/train/norm...   \n",
       "6967   ../../data/generated_data/cs_uu/nb/sample_9341...   \n",
       "22562  ../../data/Covidx/data_with_classes/train/norm...   \n",
       "7056   ../../data/generated_data/cs_uu/nb/sample_4867...   \n",
       "24887  ../../data/Covidx/data_with_classes/train/norm...   \n",
       "\n",
       "                                      file_name  source  split class  \\\n",
       "34373  5699df0c-aa5a-4109-8f23-1bed85d1470e.png  Covidx  train     H   \n",
       "6967                            sample_9341.png   Synth  train     H   \n",
       "22562  91b8532d-9a47-4ed1-841b-ea4091f1db8c.png  Covidx  train     H   \n",
       "7056                            sample_4867.png   Synth  train     H   \n",
       "24887  b55db584-960a-4816-ba8b-b7fb493455ac.png  Covidx  train     H   \n",
       "\n",
       "       label_encoded  \n",
       "34373              3  \n",
       "6967               3  \n",
       "22562              3  \n",
       "7056               3  \n",
       "24887              3  "
      ]
     },
     "execution_count": 5,
     "metadata": {},
     "output_type": "execute_result"
    }
   ],
   "source": [
    "df.sample(5)"
   ]
  },
  {
   "cell_type": "code",
   "execution_count": 6,
   "id": "dental-phase",
   "metadata": {},
   "outputs": [
    {
     "data": {
      "text/plain": [
       "array(['UKU_old_split', 'UKU_all', 'Synth', 'Covidx'], dtype=object)"
      ]
     },
     "execution_count": 6,
     "metadata": {},
     "output_type": "execute_result"
    }
   ],
   "source": [
    "df['source'].unique()"
   ]
  },
  {
   "cell_type": "code",
   "execution_count": 7,
   "id": "direct-safety",
   "metadata": {},
   "outputs": [
    {
     "data": {
      "text/plain": [
       "H    673\n",
       "F    125\n",
       "C    110\n",
       "B    100\n",
       "V     74\n",
       "Name: class, dtype: int64"
      ]
     },
     "execution_count": 7,
     "metadata": {},
     "output_type": "execute_result"
    }
   ],
   "source": [
    "df.loc[df['source']=='UKU_all','class'].value_counts()"
   ]
  },
  {
   "cell_type": "code",
   "execution_count": 8,
   "id": "democratic-motel",
   "metadata": {},
   "outputs": [],
   "source": [
    "df_uku_binary = df.loc[df['source']=='UKU_all'].copy()"
   ]
  },
  {
   "cell_type": "code",
   "execution_count": 9,
   "id": "fabulous-gambling",
   "metadata": {},
   "outputs": [],
   "source": [
    "cls_map = {'C' : 'P',\n",
    "           'H' : 'H',\n",
    "           'V' : 'P',\n",
    "           'F' : 'P',\n",
    "           'B' : 'P'}"
   ]
  },
  {
   "cell_type": "code",
   "execution_count": 10,
   "id": "metropolitan-appreciation",
   "metadata": {},
   "outputs": [],
   "source": [
    "df_uku_binary['class'] = df_uku_binary['class'].map(cls_map)"
   ]
  },
  {
   "cell_type": "code",
   "execution_count": 11,
   "id": "opened-instrument",
   "metadata": {},
   "outputs": [],
   "source": [
    "df_uku_binary['class'] = df_uku_binary['class'].astype('category')\n",
    "df_uku_binary['label_encoded'] = df_uku_binary['class'].cat.codes.astype('int64')"
   ]
  },
  {
   "cell_type": "code",
   "execution_count": 12,
   "id": "entire-somalia",
   "metadata": {},
   "outputs": [
    {
     "data": {
      "text/plain": [
       "train    865\n",
       "test     217\n",
       "Name: split, dtype: int64"
      ]
     },
     "execution_count": 12,
     "metadata": {},
     "output_type": "execute_result"
    }
   ],
   "source": [
    "df_uku_binary['split'].value_counts()"
   ]
  },
  {
   "cell_type": "code",
   "execution_count": 13,
   "id": "fatty-argument",
   "metadata": {},
   "outputs": [
    {
     "data": {
      "text/html": [
       "<div>\n",
       "<style scoped>\n",
       "    .dataframe tbody tr th:only-of-type {\n",
       "        vertical-align: middle;\n",
       "    }\n",
       "\n",
       "    .dataframe tbody tr th {\n",
       "        vertical-align: top;\n",
       "    }\n",
       "\n",
       "    .dataframe thead tr th {\n",
       "        text-align: left;\n",
       "    }\n",
       "\n",
       "    .dataframe thead tr:last-of-type th {\n",
       "        text-align: right;\n",
       "    }\n",
       "</style>\n",
       "<table border=\"1\" class=\"dataframe\">\n",
       "  <thead>\n",
       "    <tr>\n",
       "      <th></th>\n",
       "      <th colspan=\"2\" halign=\"left\">file_name</th>\n",
       "    </tr>\n",
       "    <tr>\n",
       "      <th>class</th>\n",
       "      <th>H</th>\n",
       "      <th>P</th>\n",
       "    </tr>\n",
       "    <tr>\n",
       "      <th>split</th>\n",
       "      <th></th>\n",
       "      <th></th>\n",
       "    </tr>\n",
       "  </thead>\n",
       "  <tbody>\n",
       "    <tr>\n",
       "      <th>test</th>\n",
       "      <td>135</td>\n",
       "      <td>82</td>\n",
       "    </tr>\n",
       "    <tr>\n",
       "      <th>train</th>\n",
       "      <td>538</td>\n",
       "      <td>327</td>\n",
       "    </tr>\n",
       "  </tbody>\n",
       "</table>\n",
       "</div>"
      ],
      "text/plain": [
       "      file_name     \n",
       "class         H    P\n",
       "split               \n",
       "test        135   82\n",
       "train       538  327"
      ]
     },
     "execution_count": 13,
     "metadata": {},
     "output_type": "execute_result"
    }
   ],
   "source": [
    "pd.pivot_table(df_uku_binary,values=['file_name'],index=['split'],columns=['class'],aggfunc='count')"
   ]
  },
  {
   "cell_type": "code",
   "execution_count": 14,
   "id": "romance-structure",
   "metadata": {},
   "outputs": [
    {
     "data": {
      "text/html": [
       "<div>\n",
       "<style scoped>\n",
       "    .dataframe tbody tr th:only-of-type {\n",
       "        vertical-align: middle;\n",
       "    }\n",
       "\n",
       "    .dataframe tbody tr th {\n",
       "        vertical-align: top;\n",
       "    }\n",
       "\n",
       "    .dataframe thead th {\n",
       "        text-align: right;\n",
       "    }\n",
       "</style>\n",
       "<table border=\"1\" class=\"dataframe\">\n",
       "  <thead>\n",
       "    <tr style=\"text-align: right;\">\n",
       "      <th></th>\n",
       "      <th>file_path</th>\n",
       "      <th>file_name</th>\n",
       "      <th>source</th>\n",
       "      <th>split</th>\n",
       "      <th>class</th>\n",
       "      <th>label_encoded</th>\n",
       "    </tr>\n",
       "  </thead>\n",
       "  <tbody>\n",
       "    <tr>\n",
       "      <th>333</th>\n",
       "      <td>../../data/segmentation_test/raw/C59.png</td>\n",
       "      <td>C59.png</td>\n",
       "      <td>UKU_all</td>\n",
       "      <td>train</td>\n",
       "      <td>P</td>\n",
       "      <td>1</td>\n",
       "    </tr>\n",
       "    <tr>\n",
       "      <th>334</th>\n",
       "      <td>../../data/segmentation_test/raw/NB46.png</td>\n",
       "      <td>NB46.png</td>\n",
       "      <td>UKU_all</td>\n",
       "      <td>train</td>\n",
       "      <td>H</td>\n",
       "      <td>0</td>\n",
       "    </tr>\n",
       "    <tr>\n",
       "      <th>335</th>\n",
       "      <td>../../data/segmentation_test/raw/NB663.png</td>\n",
       "      <td>NB663.png</td>\n",
       "      <td>UKU_all</td>\n",
       "      <td>train</td>\n",
       "      <td>H</td>\n",
       "      <td>0</td>\n",
       "    </tr>\n",
       "    <tr>\n",
       "      <th>336</th>\n",
       "      <td>../../data/segmentation_test/raw/V29.png</td>\n",
       "      <td>V29.png</td>\n",
       "      <td>UKU_all</td>\n",
       "      <td>train</td>\n",
       "      <td>P</td>\n",
       "      <td>1</td>\n",
       "    </tr>\n",
       "    <tr>\n",
       "      <th>337</th>\n",
       "      <td>../../data/segmentation_test/raw/NB626.png</td>\n",
       "      <td>NB626.png</td>\n",
       "      <td>UKU_all</td>\n",
       "      <td>train</td>\n",
       "      <td>H</td>\n",
       "      <td>0</td>\n",
       "    </tr>\n",
       "  </tbody>\n",
       "</table>\n",
       "</div>"
      ],
      "text/plain": [
       "                                      file_path  file_name   source  split  \\\n",
       "333    ../../data/segmentation_test/raw/C59.png    C59.png  UKU_all  train   \n",
       "334   ../../data/segmentation_test/raw/NB46.png   NB46.png  UKU_all  train   \n",
       "335  ../../data/segmentation_test/raw/NB663.png  NB663.png  UKU_all  train   \n",
       "336    ../../data/segmentation_test/raw/V29.png    V29.png  UKU_all  train   \n",
       "337  ../../data/segmentation_test/raw/NB626.png  NB626.png  UKU_all  train   \n",
       "\n",
       "    class  label_encoded  \n",
       "333     P              1  \n",
       "334     H              0  \n",
       "335     H              0  \n",
       "336     P              1  \n",
       "337     H              0  "
      ]
     },
     "execution_count": 14,
     "metadata": {},
     "output_type": "execute_result"
    }
   ],
   "source": [
    "df_uku_binary.head()"
   ]
  },
  {
   "cell_type": "markdown",
   "id": "incorporate-andrews",
   "metadata": {},
   "source": [
    "Split on patients to avoid overlap:"
   ]
  },
  {
   "cell_type": "code",
   "execution_count": 126,
   "id": "welcome-julian",
   "metadata": {},
   "outputs": [],
   "source": [
    "patients = pd.read_csv('../../data/segmentation_test/image_details_full.csv')"
   ]
  },
  {
   "cell_type": "code",
   "execution_count": 127,
   "id": "abroad-institute",
   "metadata": {},
   "outputs": [],
   "source": [
    "df_uku_binary_patients = pd.merge(df_uku_binary,patients,on='file_name')"
   ]
  },
  {
   "cell_type": "code",
   "execution_count": 128,
   "id": "bacterial-curve",
   "metadata": {},
   "outputs": [],
   "source": [
    "df_uku_binary_patients.drop('class_y',axis=1,inplace=True)\n",
    "df_uku_binary_patients.rename(columns={'class_x':'class'},inplace=True)"
   ]
  },
  {
   "cell_type": "code",
   "execution_count": 130,
   "id": "amino-contribution",
   "metadata": {},
   "outputs": [],
   "source": [
    "train_pat_ids, valid_pat_ids = train_test_split(df_uku_binary_patients['patient_id'].unique(),test_size=0.2, random_state=14)"
   ]
  },
  {
   "cell_type": "code",
   "execution_count": 131,
   "id": "dried-honor",
   "metadata": {},
   "outputs": [
    {
     "data": {
      "text/plain": [
       "True     867\n",
       "False    215\n",
       "Name: patient_id, dtype: int64"
      ]
     },
     "execution_count": 131,
     "metadata": {},
     "output_type": "execute_result"
    }
   ],
   "source": [
    "df_uku_binary_patients['patient_id'].isin(train_pat_ids).value_counts()"
   ]
  },
  {
   "cell_type": "code",
   "execution_count": 132,
   "id": "directed-commitment",
   "metadata": {},
   "outputs": [
    {
     "data": {
      "text/plain": [
       "train    865\n",
       "test     217\n",
       "Name: split, dtype: int64"
      ]
     },
     "execution_count": 132,
     "metadata": {},
     "output_type": "execute_result"
    }
   ],
   "source": [
    "df_uku_binary_patients['split'].value_counts()"
   ]
  },
  {
   "cell_type": "code",
   "execution_count": 133,
   "id": "efficient-mainland",
   "metadata": {},
   "outputs": [
    {
     "data": {
      "text/plain": [
       "H    0.489834\n",
       "P    0.311460\n",
       "Name: class, dtype: float64"
      ]
     },
     "execution_count": 133,
     "metadata": {},
     "output_type": "execute_result"
    }
   ],
   "source": [
    "df_uku_binary_patients.loc[df_uku_binary_patients['patient_id'].isin(train_pat_ids),'class'].value_counts()/len(df_uku_binary_patients)"
   ]
  },
  {
   "cell_type": "code",
   "execution_count": 134,
   "id": "agreed-campus",
   "metadata": {},
   "outputs": [
    {
     "data": {
      "text/plain": [
       "H    0.621996\n",
       "P    0.378004\n",
       "Name: class, dtype: float64"
      ]
     },
     "execution_count": 134,
     "metadata": {},
     "output_type": "execute_result"
    }
   ],
   "source": [
    "df_uku_binary_patients['class'].value_counts()/len(df_uku_binary_patients)"
   ]
  },
  {
   "cell_type": "code",
   "execution_count": 135,
   "id": "ongoing-benchmark",
   "metadata": {},
   "outputs": [],
   "source": [
    "df_uku_binary_patients.loc[df_uku_binary_patients['patient_id'].isin(train_pat_ids),'patient_split'] = 'train'"
   ]
  },
  {
   "cell_type": "code",
   "execution_count": 136,
   "id": "rapid-austria",
   "metadata": {},
   "outputs": [],
   "source": [
    "df_uku_binary_patients.loc[df_uku_binary_patients['patient_id'].isin(valid_pat_ids),'patient_split'] = 'valid'"
   ]
  },
  {
   "cell_type": "code",
   "execution_count": 137,
   "id": "victorian-terrace",
   "metadata": {},
   "outputs": [
    {
     "data": {
      "text/html": [
       "<div>\n",
       "<style scoped>\n",
       "    .dataframe tbody tr th:only-of-type {\n",
       "        vertical-align: middle;\n",
       "    }\n",
       "\n",
       "    .dataframe tbody tr th {\n",
       "        vertical-align: top;\n",
       "    }\n",
       "\n",
       "    .dataframe thead th {\n",
       "        text-align: right;\n",
       "    }\n",
       "</style>\n",
       "<table border=\"1\" class=\"dataframe\">\n",
       "  <thead>\n",
       "    <tr style=\"text-align: right;\">\n",
       "      <th></th>\n",
       "      <th>file_path</th>\n",
       "      <th>file_name</th>\n",
       "      <th>source</th>\n",
       "      <th>split</th>\n",
       "      <th>class</th>\n",
       "      <th>label_encoded</th>\n",
       "      <th>patient_id</th>\n",
       "      <th>patient_split</th>\n",
       "    </tr>\n",
       "  </thead>\n",
       "  <tbody>\n",
       "    <tr>\n",
       "      <th>0</th>\n",
       "      <td>../../data/segmentation_test/raw/C59.png</td>\n",
       "      <td>C59.png</td>\n",
       "      <td>UKU_all</td>\n",
       "      <td>train</td>\n",
       "      <td>P</td>\n",
       "      <td>1</td>\n",
       "      <td>C57</td>\n",
       "      <td>train</td>\n",
       "    </tr>\n",
       "    <tr>\n",
       "      <th>1</th>\n",
       "      <td>../../data/segmentation_test/raw/NB46.png</td>\n",
       "      <td>NB46.png</td>\n",
       "      <td>UKU_all</td>\n",
       "      <td>train</td>\n",
       "      <td>H</td>\n",
       "      <td>0</td>\n",
       "      <td>NB46</td>\n",
       "      <td>valid</td>\n",
       "    </tr>\n",
       "    <tr>\n",
       "      <th>2</th>\n",
       "      <td>../../data/segmentation_test/raw/NB663.png</td>\n",
       "      <td>NB663.png</td>\n",
       "      <td>UKU_all</td>\n",
       "      <td>train</td>\n",
       "      <td>H</td>\n",
       "      <td>0</td>\n",
       "      <td>NB663</td>\n",
       "      <td>train</td>\n",
       "    </tr>\n",
       "    <tr>\n",
       "      <th>3</th>\n",
       "      <td>../../data/segmentation_test/raw/V29.png</td>\n",
       "      <td>V29.png</td>\n",
       "      <td>UKU_all</td>\n",
       "      <td>train</td>\n",
       "      <td>P</td>\n",
       "      <td>1</td>\n",
       "      <td>V23</td>\n",
       "      <td>train</td>\n",
       "    </tr>\n",
       "    <tr>\n",
       "      <th>4</th>\n",
       "      <td>../../data/segmentation_test/raw/NB626.png</td>\n",
       "      <td>NB626.png</td>\n",
       "      <td>UKU_all</td>\n",
       "      <td>train</td>\n",
       "      <td>H</td>\n",
       "      <td>0</td>\n",
       "      <td>NB626</td>\n",
       "      <td>train</td>\n",
       "    </tr>\n",
       "  </tbody>\n",
       "</table>\n",
       "</div>"
      ],
      "text/plain": [
       "                                    file_path  file_name   source  split  \\\n",
       "0    ../../data/segmentation_test/raw/C59.png    C59.png  UKU_all  train   \n",
       "1   ../../data/segmentation_test/raw/NB46.png   NB46.png  UKU_all  train   \n",
       "2  ../../data/segmentation_test/raw/NB663.png  NB663.png  UKU_all  train   \n",
       "3    ../../data/segmentation_test/raw/V29.png    V29.png  UKU_all  train   \n",
       "4  ../../data/segmentation_test/raw/NB626.png  NB626.png  UKU_all  train   \n",
       "\n",
       "  class  label_encoded patient_id patient_split  \n",
       "0     P              1        C57         train  \n",
       "1     H              0       NB46         valid  \n",
       "2     H              0      NB663         train  \n",
       "3     P              1        V23         train  \n",
       "4     H              0      NB626         train  "
      ]
     },
     "execution_count": 137,
     "metadata": {},
     "output_type": "execute_result"
    }
   ],
   "source": [
    "df_uku_binary_patients.head()"
   ]
  },
  {
   "cell_type": "markdown",
   "id": "olympic-objective",
   "metadata": {},
   "source": [
    "Dataloader:"
   ]
  },
  {
   "cell_type": "code",
   "execution_count": 15,
   "id": "perfect-sender",
   "metadata": {},
   "outputs": [],
   "source": [
    "class Dataset(BaseDataset):\n",
    "    \"\"\"Read images, apply augmentation and preprocessing transformations.\"\"\"\n",
    "    \n",
    "    def __init__(\n",
    "            self,\n",
    "            df, \n",
    "            augmentation=None, \n",
    "            preprocessing=None,\n",
    "    ):\n",
    "        self.df = df.reset_index(drop=True)\n",
    "        self.ids = self.df.loc[:,'file_path'].values\n",
    "        \n",
    "        self.augmentation = augmentation\n",
    "        self.preprocessing = preprocessing\n",
    "    \n",
    "    def __getitem__(self, i):\n",
    "        \n",
    "        # read data\n",
    "        image = cv2.imread(self.ids[i])\n",
    "        image = cv2.cvtColor(image, cv2.COLOR_BGR2RGB)   \n",
    "        \n",
    "        # apply augmentations\n",
    "        if self.augmentation:\n",
    "            sample = self.augmentation(image=image)\n",
    "            image = sample['image']\n",
    "        \n",
    "        # apply preprocessing\n",
    "        if self.preprocessing:\n",
    "            sample = self.preprocessing(image=image)\n",
    "            image = sample['image']\n",
    "        \n",
    "        label = self.df.loc[i,'label_encoded']\n",
    "        \n",
    "        return image, label\n",
    "        \n",
    "    def __len__(self):\n",
    "        return len(self.ids)"
   ]
  },
  {
   "cell_type": "code",
   "execution_count": 16,
   "id": "broken-listening",
   "metadata": {},
   "outputs": [
    {
     "data": {
      "image/png": "[encoded data removed]",
      "text/plain": [
       "<Figure size 1152x360 with 1 Axes>"
      ]
     },
     "metadata": {},
     "output_type": "display_data"
    }
   ],
   "source": [
    "dataset = Dataset(df_uku_binary)\n",
    "\n",
    "image, label = dataset[3] # get some sample\n",
    "visualize(\n",
    "    label=label,\n",
    "    image=image\n",
    ")"
   ]
  },
  {
   "cell_type": "markdown",
   "id": "prospective-noise",
   "metadata": {},
   "source": [
    "### Augmentations"
   ]
  },
  {
   "cell_type": "code",
   "execution_count": 17,
   "id": "rural-choice",
   "metadata": {},
   "outputs": [],
   "source": [
    "image_size = 224"
   ]
  },
  {
   "cell_type": "code",
   "execution_count": 18,
   "id": "traditional-hundred",
   "metadata": {},
   "outputs": [],
   "source": [
    "def get_training_augmentation():\n",
    "    train_transform = [\n",
    "        \n",
    "        albu.RandomResizedCrop(height=image_size, width=image_size, scale=(0.25, 1.0), ratio=(0.75, 1.3333333333333333), interpolation=1, p=1.0),\n",
    "        albu.HorizontalFlip(p=0.5),\n",
    "\n",
    "        albu.ShiftScaleRotate(scale_limit=0.5, rotate_limit=0, shift_limit=0.1, p=1, border_mode=0),\n",
    "\n",
    "        #albu.PadIfNeeded(min_height=320, min_width=320, always_apply=True, border_mode=0),\n",
    "        #albu.RandomCrop(height=320, width=320, always_apply=True),\n",
    "\n",
    "\n",
    "        albu.OneOf(\n",
    "            [\n",
    "                albu.CLAHE(p=1),\n",
    "                albu.RandomBrightnessContrast(p=1),\n",
    "                albu.RandomGamma(p=1),\n",
    "            ],\n",
    "            p=0.9,\n",
    "        ),\n",
    "\n",
    "        albu.OneOf(\n",
    "            [\n",
    "                albu.Sharpen(p=1),\n",
    "                albu.Blur(blur_limit=3, p=1),\n",
    "                albu.MotionBlur(blur_limit=3, p=1),\n",
    "            ],\n",
    "            p=0.9,\n",
    "        ),\n",
    "\n",
    "        albu.OneOf(\n",
    "            [\n",
    "                albu.RandomBrightnessContrast(p=1),\n",
    "                albu.HueSaturationValue(p=1),\n",
    "            ],\n",
    "            p=0.9,\n",
    "        ),\n",
    "        #albu.Normalize(mean=IMAGENET_DEFAULT_MEAN, std=IMAGENET_DEFAULT_STD),\n",
    "    ]\n",
    "    return albu.Compose(train_transform)\n",
    "\n",
    "\n",
    "def get_validation_augmentation():\n",
    "    \"\"\"Add paddings to make image shape divisible by 32\"\"\"\n",
    "    test_transform = [\n",
    "        #albu.PadIfNeeded(384, 480)\n",
    "        albu.Resize(image_size, image_size),\n",
    "        #albu.Normalize(mean=IMAGENET_DEFAULT_MEAN, std=IMAGENET_DEFAULT_STD),\n",
    "    ]\n",
    "    return albu.Compose(test_transform)\n",
    "\n",
    "\n",
    "def to_tensor(x, **kwargs):\n",
    "    return x.transpose(2, 0, 1).astype('float32')\n",
    "\n",
    "\n",
    "def get_preprocessing():\n",
    "    \"\"\"Construct preprocessing transform\n",
    "    \n",
    "    Args:\n",
    "        preprocessing_fn (callbale): data normalization function \n",
    "            (can be specific for each pretrained neural network)\n",
    "    Return:\n",
    "        transform: albumentations.Compose\n",
    "    \n",
    "    \"\"\"\n",
    "    \n",
    "    _transform = [\n",
    "        albu.Normalize(mean=IMAGENET_DEFAULT_MEAN, std=IMAGENET_DEFAULT_STD,max_pixel_value=255.0),\n",
    "        albu.Lambda(image=to_tensor),\n",
    "    ]\n",
    "    return albu.Compose(_transform)"
   ]
  },
  {
   "cell_type": "code",
   "execution_count": 19,
   "id": "vulnerable-medicine",
   "metadata": {},
   "outputs": [
    {
     "data": {
      "image/png": "[encoded data removed]",
      "text/plain": [
       "<Figure size 1152x360 with 1 Axes>"
      ]
     },
     "metadata": {},
     "output_type": "display_data"
    },
    {
     "data": {
      "image/png": "[encoded data removed]",
      "text/plain": [
       "<Figure size 1152x360 with 1 Axes>"
      ]
     },
     "metadata": {},
     "output_type": "display_data"
    },
    {
     "data": {
      "image/png": "[encoded data removed]",
      "text/plain": [
       "<Figure size 1152x360 with 1 Axes>"
      ]
     },
     "metadata": {},
     "output_type": "display_data"
    }
   ],
   "source": [
    "#### Visualize resulted augmented images and masks\n",
    "\n",
    "augmented_dataset = Dataset(\n",
    "    df_uku_binary, \n",
    "    augmentation=get_training_augmentation(), \n",
    ")\n",
    "\n",
    "# same image with different random transforms\n",
    "for i in range(3):\n",
    "    image, label = augmented_dataset[3]\n",
    "    visualize(label=label,image=image)"
   ]
  },
  {
   "cell_type": "markdown",
   "id": "coastal-complaint",
   "metadata": {
    "tags": []
   },
   "source": [
    "### Create model and train"
   ]
  },
  {
   "cell_type": "markdown",
   "id": "human-harvard",
   "metadata": {},
   "source": [
    "Define model"
   ]
  },
  {
   "cell_type": "code",
   "execution_count": 20,
   "id": "quality-vegetable",
   "metadata": {},
   "outputs": [],
   "source": [
    "dropout = False\n",
    "dropout_percent = 0.5\n",
    "num_classes = 2"
   ]
  },
  {
   "cell_type": "code",
   "execution_count": 21,
   "id": "defined-corruption",
   "metadata": {},
   "outputs": [],
   "source": [
    "model = timm.create_model('resnet50', pretrained=True, num_classes=num_classes)\n",
    "num_ftrs = model.get_classifier().in_features\n",
    "if dropout:\n",
    "    model.fc = nn.Sequential(\n",
    "                            nn.Dropout(dropout_percent),\n",
    "                            nn.Linear(num_ftrs,num_classes)\n",
    "    )\n",
    "else:\n",
    "    model.fc = nn.Linear(num_ftrs, num_classes)\n",
    "\n",
    "model = model.to(device) "
   ]
  },
  {
   "cell_type": "markdown",
   "id": "involved-casting",
   "metadata": {},
   "source": [
    "Define Loss function and optimizer"
   ]
  },
  {
   "cell_type": "code",
   "execution_count": 22,
   "id": "monetary-decline",
   "metadata": {},
   "outputs": [],
   "source": [
    "epochs = 40\n",
    "val_loss_min = np.Inf"
   ]
  },
  {
   "cell_type": "code",
   "execution_count": 23,
   "id": "owned-apparatus",
   "metadata": {},
   "outputs": [],
   "source": [
    "criterion = nn.CrossEntropyLoss()"
   ]
  },
  {
   "cell_type": "code",
   "execution_count": 24,
   "id": "bacterial-prairie",
   "metadata": {},
   "outputs": [],
   "source": [
    "optimizer = optim.Adam(model.parameters(),lr=0.0001)\n",
    "scheduler = optim.lr_scheduler.CosineAnnealingLR(optimizer, epochs-1)\n",
    "\n",
    "scaler = torch.cuda.amp.GradScaler()"
   ]
  },
  {
   "cell_type": "code",
   "execution_count": 25,
   "id": "close-classification",
   "metadata": {},
   "outputs": [],
   "source": [
    "train_dataset = Dataset(\n",
    "    df_uku_binary.loc[df_uku_binary['split']=='train',:],\n",
    "    augmentation=get_training_augmentation(), \n",
    "    preprocessing=get_preprocessing()\n",
    ")\n",
    "\n",
    "valid_dataset = Dataset(\n",
    "    df_uku_binary.loc[df_uku_binary['split']=='test',:], \n",
    "    augmentation=get_validation_augmentation(), \n",
    "    preprocessing=get_preprocessing(),\n",
    ")\n",
    "\n",
    "train_loader = DataLoader(train_dataset, batch_size=16, shuffle=True, num_workers=12)\n",
    "valid_loader = DataLoader(valid_dataset, batch_size=1, shuffle=False, num_workers=4)"
   ]
  },
  {
   "cell_type": "code",
   "execution_count": 26,
   "id": "acute-russell",
   "metadata": {},
   "outputs": [],
   "source": [
    "ckpt_dir = './models'\n",
    "CHECKPOINT = f'{ckpt_dir}/resnet50_synth_uku_all_binary.pth'"
   ]
  },
  {
   "cell_type": "code",
   "execution_count": 27,
   "id": "personalized-manufacturer",
   "metadata": {
    "tags": []
   },
   "outputs": [
    {
     "name": "stderr",
     "output_type": "stream",
     "text": [
      "  0%|          | 0/55 [00:00<?, ?it/s]/data/DS/miniconda3/envs/pytorch_seg/lib/python3.9/site-packages/torch/optim/lr_scheduler.py:129: UserWarning: Detected call of `lr_scheduler.step()` before `optimizer.step()`. In PyTorch 1.1.0 and later, you should call them in the opposite order: `optimizer.step()` before `lr_scheduler.step()`.  Failure to do this will result in PyTorch skipping the first value of the learning rate schedule. See more details at https://pytorch.org/docs/stable/optim.html#how-to-adjust-learning-rate\n",
      "  warnings.warn(\"Detected call of `lr_scheduler.step()` before `optimizer.step()`. \"\n",
      "Epoch 00/39 | LR: 0.00004: 100%|██████████| 55/55 [00:13<00:00,  4.08it/s, loss=0.421]\n",
      "100%|██████████| 217/217 [00:07<00:00, 27.38it/s]\n"
     ]
    },
    {
     "name": "stdout",
     "output_type": "stream",
     "text": [
      "train loss: 0.42079 | train acc: 0.802 | val_loss: 0.17476 | val acc: 0.917\n",
      "Valid loss improved from inf to 0.17476 saving model to ./models/resnet18_synth_uku_all_binary.pth\n",
      "Best epoch 0 | val loss min: 0.17476\n"
     ]
    },
    {
     "name": "stderr",
     "output_type": "stream",
     "text": [
      "Epoch 01/39 | LR: 0.00001: 100%|██████████| 55/55 [00:13<00:00,  4.06it/s, loss=0.336]\n",
      "100%|██████████| 217/217 [00:08<00:00, 27.00it/s]\n"
     ]
    },
    {
     "name": "stdout",
     "output_type": "stream",
     "text": [
      "train loss: 0.33612 | train acc: 0.868 | val_loss: 0.24108 | val acc: 0.894\n",
      "Best epoch 0 | val loss min: 0.17476\n"
     ]
    },
    {
     "name": "stderr",
     "output_type": "stream",
     "text": [
      "Epoch 02/39 | LR: 0.00009: 100%|██████████| 55/55 [00:12<00:00,  4.24it/s, loss=0.267]\n",
      "100%|██████████| 217/217 [00:07<00:00, 27.67it/s]\n"
     ]
    },
    {
     "name": "stdout",
     "output_type": "stream",
     "text": [
      "train loss: 0.26701 | train acc: 0.887 | val_loss: 0.24465 | val acc: 0.922\n",
      "Best epoch 0 | val loss min: 0.17476\n"
     ]
    },
    {
     "name": "stderr",
     "output_type": "stream",
     "text": [
      "Epoch 03/39 | LR: 0.00007: 100%|██████████| 55/55 [00:13<00:00,  4.14it/s, loss=0.311]\n",
      "100%|██████████| 217/217 [00:07<00:00, 27.45it/s]\n"
     ]
    },
    {
     "name": "stdout",
     "output_type": "stream",
     "text": [
      "train loss: 0.31115 | train acc: 0.892 | val_loss: 0.09297 | val acc: 0.959\n",
      "Valid loss improved from 0.17476 to 0.09297 saving model to ./models/resnet18_synth_uku_all_binary.pth\n",
      "Best epoch 3 | val loss min: 0.09297\n"
     ]
    },
    {
     "name": "stderr",
     "output_type": "stream",
     "text": [
      "Epoch 04/39 | LR: 0.00000: 100%|██████████| 55/55 [00:13<00:00,  3.97it/s, loss=0.278]\n",
      "100%|██████████| 217/217 [00:07<00:00, 27.21it/s]\n"
     ]
    },
    {
     "name": "stdout",
     "output_type": "stream",
     "text": [
      "train loss: 0.27846 | train acc: 0.891 | val_loss: 0.10658 | val acc: 0.963\n",
      "Best epoch 3 | val loss min: 0.09297\n"
     ]
    },
    {
     "name": "stderr",
     "output_type": "stream",
     "text": [
      "Epoch 05/39 | LR: 0.00006: 100%|██████████| 55/55 [00:13<00:00,  4.08it/s, loss=0.259]\n",
      "100%|██████████| 217/217 [00:07<00:00, 27.31it/s]\n"
     ]
    },
    {
     "name": "stdout",
     "output_type": "stream",
     "text": [
      "train loss: 0.25908 | train acc: 0.906 | val_loss: 0.10673 | val acc: 0.968\n",
      "Best epoch 3 | val loss min: 0.09297\n"
     ]
    },
    {
     "name": "stderr",
     "output_type": "stream",
     "text": [
      "Epoch 06/39 | LR: 0.00010: 100%|██████████| 55/55 [00:13<00:00,  4.18it/s, loss=0.231]\n",
      "100%|██████████| 217/217 [00:07<00:00, 27.19it/s]\n"
     ]
    },
    {
     "name": "stdout",
     "output_type": "stream",
     "text": [
      "train loss: 0.23096 | train acc: 0.902 | val_loss: 0.09702 | val acc: 0.963\n",
      "Best epoch 3 | val loss min: 0.09297\n"
     ]
    },
    {
     "name": "stderr",
     "output_type": "stream",
     "text": [
      "Epoch 07/39 | LR: 0.00002: 100%|██████████| 55/55 [00:13<00:00,  4.17it/s, loss=0.264]\n",
      "100%|██████████| 217/217 [00:07<00:00, 27.65it/s]\n"
     ]
    },
    {
     "name": "stdout",
     "output_type": "stream",
     "text": [
      "train loss: 0.26354 | train acc: 0.899 | val_loss: 0.14276 | val acc: 0.945\n",
      "Best epoch 3 | val loss min: 0.09297\n"
     ]
    },
    {
     "name": "stderr",
     "output_type": "stream",
     "text": [
      "Epoch 08/39 | LR: 0.00002: 100%|██████████| 55/55 [00:13<00:00,  4.01it/s, loss=0.267]\n",
      "100%|██████████| 217/217 [00:07<00:00, 27.43it/s]\n"
     ]
    },
    {
     "name": "stdout",
     "output_type": "stream",
     "text": [
      "train loss: 0.26674 | train acc: 0.901 | val_loss: 0.09309 | val acc: 0.972\n",
      "Best epoch 3 | val loss min: 0.09297\n"
     ]
    },
    {
     "name": "stderr",
     "output_type": "stream",
     "text": [
      "Epoch 09/39 | LR: 0.00010: 100%|██████████| 55/55 [00:13<00:00,  4.07it/s, loss=0.23] \n",
      "100%|██████████| 217/217 [00:07<00:00, 27.40it/s]\n"
     ]
    },
    {
     "name": "stdout",
     "output_type": "stream",
     "text": [
      "train loss: 0.22997 | train acc: 0.918 | val_loss: 0.08871 | val acc: 0.982\n",
      "Valid loss improved from 0.09297 to 0.08871 saving model to ./models/resnet18_synth_uku_all_binary.pth\n",
      "Best epoch 9 | val loss min: 0.08871\n"
     ]
    },
    {
     "name": "stderr",
     "output_type": "stream",
     "text": [
      "Epoch 10/39 | LR: 0.00005: 100%|██████████| 55/55 [00:13<00:00,  4.03it/s, loss=0.247]\n",
      "100%|██████████| 217/217 [00:07<00:00, 27.39it/s]\n"
     ]
    },
    {
     "name": "stdout",
     "output_type": "stream",
     "text": [
      "train loss: 0.24700 | train acc: 0.905 | val_loss: 0.08110 | val acc: 0.972\n",
      "Valid loss improved from 0.08871 to 0.08110 saving model to ./models/resnet18_synth_uku_all_binary.pth\n",
      "Best epoch 10 | val loss min: 0.08110\n"
     ]
    },
    {
     "name": "stderr",
     "output_type": "stream",
     "text": [
      "Epoch 11/39 | LR: 0.00000: 100%|██████████| 55/55 [00:13<00:00,  4.08it/s, loss=0.242]\n",
      "100%|██████████| 217/217 [00:07<00:00, 27.28it/s]\n"
     ]
    },
    {
     "name": "stdout",
     "output_type": "stream",
     "text": [
      "train loss: 0.24162 | train acc: 0.904 | val_loss: 0.07688 | val acc: 0.972\n",
      "Valid loss improved from 0.08110 to 0.07688 saving model to ./models/resnet18_synth_uku_all_binary.pth\n",
      "Best epoch 11 | val loss min: 0.07688\n"
     ]
    },
    {
     "name": "stderr",
     "output_type": "stream",
     "text": [
      "Epoch 12/39 | LR: 0.00007: 100%|██████████| 55/55 [00:13<00:00,  4.21it/s, loss=0.199]\n",
      "100%|██████████| 217/217 [00:08<00:00, 27.02it/s]\n"
     ]
    },
    {
     "name": "stdout",
     "output_type": "stream",
     "text": [
      "train loss: 0.19950 | train acc: 0.926 | val_loss: 0.07401 | val acc: 0.972\n",
      "Valid loss improved from 0.07688 to 0.07401 saving model to ./models/resnet18_synth_uku_all_binary.pth\n",
      "Best epoch 12 | val loss min: 0.07401\n"
     ]
    },
    {
     "name": "stderr",
     "output_type": "stream",
     "text": [
      "Epoch 13/39 | LR: 0.00008: 100%|██████████| 55/55 [00:13<00:00,  4.07it/s, loss=0.21] \n",
      "100%|██████████| 217/217 [00:07<00:00, 27.41it/s]\n"
     ]
    },
    {
     "name": "stdout",
     "output_type": "stream",
     "text": [
      "train loss: 0.20970 | train acc: 0.927 | val_loss: 0.08242 | val acc: 0.972\n",
      "Best epoch 12 | val loss min: 0.07401\n"
     ]
    },
    {
     "name": "stderr",
     "output_type": "stream",
     "text": [
      "Epoch 14/39 | LR: 0.00001: 100%|██████████| 55/55 [00:13<00:00,  4.12it/s, loss=0.224]\n",
      "100%|██████████| 217/217 [00:07<00:00, 27.54it/s]\n"
     ]
    },
    {
     "name": "stdout",
     "output_type": "stream",
     "text": [
      "train loss: 0.22412 | train acc: 0.919 | val_loss: 0.05878 | val acc: 0.986\n",
      "Valid loss improved from 0.07401 to 0.05878 saving model to ./models/resnet18_synth_uku_all_binary.pth\n",
      "Best epoch 14 | val loss min: 0.05878\n"
     ]
    },
    {
     "name": "stderr",
     "output_type": "stream",
     "text": [
      "Epoch 15/39 | LR: 0.00004: 100%|██████████| 55/55 [00:13<00:00,  3.97it/s, loss=0.206]\n",
      "100%|██████████| 217/217 [00:07<00:00, 27.40it/s]\n"
     ]
    },
    {
     "name": "stdout",
     "output_type": "stream",
     "text": [
      "train loss: 0.20597 | train acc: 0.928 | val_loss: 0.06798 | val acc: 0.982\n",
      "Best epoch 14 | val loss min: 0.05878\n"
     ]
    },
    {
     "name": "stderr",
     "output_type": "stream",
     "text": [
      "Epoch 16/39 | LR: 0.00010: 100%|██████████| 55/55 [00:13<00:00,  4.06it/s, loss=0.187]\n",
      "100%|██████████| 217/217 [00:07<00:00, 27.40it/s]\n"
     ]
    },
    {
     "name": "stdout",
     "output_type": "stream",
     "text": [
      "train loss: 0.18657 | train acc: 0.932 | val_loss: 0.08691 | val acc: 0.972\n",
      "Best epoch 14 | val loss min: 0.05878\n"
     ]
    },
    {
     "name": "stderr",
     "output_type": "stream",
     "text": [
      "Epoch 17/39 | LR: 0.00003: 100%|██████████| 55/55 [00:13<00:00,  3.98it/s, loss=0.22] \n",
      "100%|██████████| 217/217 [00:07<00:00, 27.43it/s]\n"
     ]
    },
    {
     "name": "stdout",
     "output_type": "stream",
     "text": [
      "train loss: 0.21966 | train acc: 0.932 | val_loss: 0.16189 | val acc: 0.954\n",
      "Best epoch 14 | val loss min: 0.05878\n"
     ]
    },
    {
     "name": "stderr",
     "output_type": "stream",
     "text": [
      "Epoch 18/39 | LR: 0.00001: 100%|██████████| 55/55 [00:13<00:00,  4.13it/s, loss=0.183]\n",
      "100%|██████████| 217/217 [00:07<00:00, 27.26it/s]\n"
     ]
    },
    {
     "name": "stdout",
     "output_type": "stream",
     "text": [
      "train loss: 0.18290 | train acc: 0.924 | val_loss: 0.10752 | val acc: 0.959\n",
      "Best epoch 14 | val loss min: 0.05878\n"
     ]
    },
    {
     "name": "stderr",
     "output_type": "stream",
     "text": [
      "Epoch 19/39 | LR: 0.00009: 100%|██████████| 55/55 [00:13<00:00,  4.03it/s, loss=0.179]\n",
      "100%|██████████| 217/217 [00:07<00:00, 27.37it/s]\n"
     ]
    },
    {
     "name": "stdout",
     "output_type": "stream",
     "text": [
      "train loss: 0.17903 | train acc: 0.933 | val_loss: 0.09394 | val acc: 0.963\n",
      "Best epoch 14 | val loss min: 0.05878\n"
     ]
    },
    {
     "name": "stderr",
     "output_type": "stream",
     "text": [
      "Epoch 20/39 | LR: 0.00007: 100%|██████████| 55/55 [00:13<00:00,  4.06it/s, loss=0.216]\n",
      "100%|██████████| 217/217 [00:07<00:00, 27.22it/s]\n"
     ]
    },
    {
     "name": "stdout",
     "output_type": "stream",
     "text": [
      "train loss: 0.21581 | train acc: 0.919 | val_loss: 0.06400 | val acc: 0.968\n",
      "Best epoch 14 | val loss min: 0.05878\n"
     ]
    },
    {
     "name": "stderr",
     "output_type": "stream",
     "text": [
      "Epoch 21/39 | LR: 0.00000: 100%|██████████| 55/55 [00:13<00:00,  4.13it/s, loss=0.165]\n",
      "100%|██████████| 217/217 [00:07<00:00, 27.44it/s]\n"
     ]
    },
    {
     "name": "stdout",
     "output_type": "stream",
     "text": [
      "train loss: 0.16505 | train acc: 0.935 | val_loss: 0.06443 | val acc: 0.982\n",
      "Best epoch 14 | val loss min: 0.05878\n"
     ]
    },
    {
     "name": "stderr",
     "output_type": "stream",
     "text": [
      "Epoch 22/39 | LR: 0.00006: 100%|██████████| 55/55 [00:13<00:00,  4.08it/s, loss=0.186]\n",
      "100%|██████████| 217/217 [00:08<00:00, 27.01it/s]\n"
     ]
    },
    {
     "name": "stdout",
     "output_type": "stream",
     "text": [
      "train loss: 0.18560 | train acc: 0.934 | val_loss: 0.11652 | val acc: 0.963\n",
      "Best epoch 14 | val loss min: 0.05878\n"
     ]
    },
    {
     "name": "stderr",
     "output_type": "stream",
     "text": [
      "Epoch 23/39 | LR: 0.00009: 100%|██████████| 55/55 [00:13<00:00,  4.16it/s, loss=0.252]\n",
      "100%|██████████| 217/217 [00:07<00:00, 27.39it/s]\n"
     ]
    },
    {
     "name": "stdout",
     "output_type": "stream",
     "text": [
      "train loss: 0.25178 | train acc: 0.916 | val_loss: 0.09552 | val acc: 0.968\n",
      "Best epoch 14 | val loss min: 0.05878\n"
     ]
    },
    {
     "name": "stderr",
     "output_type": "stream",
     "text": [
      "Epoch 24/39 | LR: 0.00002: 100%|██████████| 55/55 [00:13<00:00,  4.22it/s, loss=0.188]\n",
      "100%|██████████| 217/217 [00:07<00:00, 27.29it/s]\n"
     ]
    },
    {
     "name": "stdout",
     "output_type": "stream",
     "text": [
      "train loss: 0.18767 | train acc: 0.929 | val_loss: 0.07563 | val acc: 0.963\n",
      "Best epoch 14 | val loss min: 0.05878\n"
     ]
    },
    {
     "name": "stderr",
     "output_type": "stream",
     "text": [
      "Epoch 25/39 | LR: 0.00002: 100%|██████████| 55/55 [00:12<00:00,  4.35it/s, loss=0.167]\n",
      "100%|██████████| 217/217 [00:07<00:00, 27.86it/s]\n"
     ]
    },
    {
     "name": "stdout",
     "output_type": "stream",
     "text": [
      "train loss: 0.16679 | train acc: 0.932 | val_loss: 0.08121 | val acc: 0.968\n",
      "Best epoch 14 | val loss min: 0.05878\n"
     ]
    },
    {
     "name": "stderr",
     "output_type": "stream",
     "text": [
      "Epoch 26/39 | LR: 0.00010: 100%|██████████| 55/55 [00:13<00:00,  4.22it/s, loss=0.2]  \n",
      "100%|██████████| 217/217 [00:07<00:00, 27.69it/s]\n"
     ]
    },
    {
     "name": "stdout",
     "output_type": "stream",
     "text": [
      "train loss: 0.19962 | train acc: 0.939 | val_loss: 0.12795 | val acc: 0.959\n",
      "Best epoch 14 | val loss min: 0.05878\n"
     ]
    },
    {
     "name": "stderr",
     "output_type": "stream",
     "text": [
      "Epoch 27/39 | LR: 0.00005: 100%|██████████| 55/55 [00:13<00:00,  3.98it/s, loss=0.179]\n",
      "100%|██████████| 217/217 [00:07<00:00, 27.82it/s]\n"
     ]
    },
    {
     "name": "stdout",
     "output_type": "stream",
     "text": [
      "train loss: 0.17893 | train acc: 0.929 | val_loss: 0.11149 | val acc: 0.963\n",
      "Best epoch 14 | val loss min: 0.05878\n"
     ]
    },
    {
     "name": "stderr",
     "output_type": "stream",
     "text": [
      "Epoch 28/39 | LR: 0.00000: 100%|██████████| 55/55 [00:13<00:00,  4.14it/s, loss=0.173]\n",
      "100%|██████████| 217/217 [00:07<00:00, 27.99it/s]\n"
     ]
    },
    {
     "name": "stdout",
     "output_type": "stream",
     "text": [
      "train loss: 0.17273 | train acc: 0.947 | val_loss: 0.06321 | val acc: 0.982\n",
      "Best epoch 14 | val loss min: 0.05878\n"
     ]
    },
    {
     "name": "stderr",
     "output_type": "stream",
     "text": [
      "Epoch 29/39 | LR: 0.00008: 100%|██████████| 55/55 [00:13<00:00,  4.12it/s, loss=0.157]\n",
      "100%|██████████| 217/217 [00:07<00:00, 27.81it/s]\n"
     ]
    },
    {
     "name": "stdout",
     "output_type": "stream",
     "text": [
      "train loss: 0.15708 | train acc: 0.945 | val_loss: 0.06206 | val acc: 0.977\n",
      "Best epoch 14 | val loss min: 0.05878\n"
     ]
    },
    {
     "name": "stderr",
     "output_type": "stream",
     "text": [
      "Epoch 30/39 | LR: 0.00008: 100%|██████████| 55/55 [00:13<00:00,  4.13it/s, loss=0.193]\n",
      "100%|██████████| 217/217 [00:07<00:00, 27.79it/s]\n"
     ]
    },
    {
     "name": "stdout",
     "output_type": "stream",
     "text": [
      "train loss: 0.19335 | train acc: 0.936 | val_loss: 0.10944 | val acc: 0.963\n",
      "Best epoch 14 | val loss min: 0.05878\n"
     ]
    },
    {
     "name": "stderr",
     "output_type": "stream",
     "text": [
      "Epoch 31/39 | LR: 0.00000: 100%|██████████| 55/55 [00:13<00:00,  4.01it/s, loss=0.153] \n",
      "100%|██████████| 217/217 [00:07<00:00, 27.26it/s]\n"
     ]
    },
    {
     "name": "stdout",
     "output_type": "stream",
     "text": [
      "train loss: 0.15327 | train acc: 0.950 | val_loss: 0.10721 | val acc: 0.963\n",
      "Best epoch 14 | val loss min: 0.05878\n"
     ]
    },
    {
     "name": "stderr",
     "output_type": "stream",
     "text": [
      "Epoch 32/39 | LR: 0.00004: 100%|██████████| 55/55 [00:13<00:00,  4.06it/s, loss=0.173]\n",
      "100%|██████████| 217/217 [00:07<00:00, 27.62it/s]\n"
     ]
    },
    {
     "name": "stdout",
     "output_type": "stream",
     "text": [
      "train loss: 0.17276 | train acc: 0.936 | val_loss: 0.10273 | val acc: 0.968\n",
      "Best epoch 14 | val loss min: 0.05878\n"
     ]
    },
    {
     "name": "stderr",
     "output_type": "stream",
     "text": [
      "Epoch 33/39 | LR: 0.00010: 100%|██████████| 55/55 [00:13<00:00,  4.07it/s, loss=0.14] \n",
      "100%|██████████| 217/217 [00:07<00:00, 27.82it/s]\n"
     ]
    },
    {
     "name": "stdout",
     "output_type": "stream",
     "text": [
      "train loss: 0.14037 | train acc: 0.943 | val_loss: 0.06572 | val acc: 0.977\n",
      "Best epoch 14 | val loss min: 0.05878\n"
     ]
    },
    {
     "name": "stderr",
     "output_type": "stream",
     "text": [
      "Epoch 34/39 | LR: 0.00003: 100%|██████████| 55/55 [00:13<00:00,  4.04it/s, loss=0.166]\n",
      "100%|██████████| 217/217 [00:07<00:00, 27.84it/s]\n"
     ]
    },
    {
     "name": "stdout",
     "output_type": "stream",
     "text": [
      "train loss: 0.16552 | train acc: 0.949 | val_loss: 0.07875 | val acc: 0.963\n",
      "Best epoch 14 | val loss min: 0.05878\n"
     ]
    },
    {
     "name": "stderr",
     "output_type": "stream",
     "text": [
      "Epoch 35/39 | LR: 0.00001: 100%|██████████| 55/55 [00:13<00:00,  4.14it/s, loss=0.155] \n",
      "100%|██████████| 217/217 [00:07<00:00, 27.91it/s]\n"
     ]
    },
    {
     "name": "stdout",
     "output_type": "stream",
     "text": [
      "train loss: 0.15549 | train acc: 0.942 | val_loss: 0.07254 | val acc: 0.959\n",
      "Best epoch 14 | val loss min: 0.05878\n"
     ]
    },
    {
     "name": "stderr",
     "output_type": "stream",
     "text": [
      "Epoch 36/39 | LR: 0.00009: 100%|██████████| 55/55 [00:13<00:00,  4.21it/s, loss=0.141]\n",
      "100%|██████████| 217/217 [00:07<00:00, 27.90it/s]\n"
     ]
    },
    {
     "name": "stdout",
     "output_type": "stream",
     "text": [
      "train loss: 0.14133 | train acc: 0.958 | val_loss: 0.14111 | val acc: 0.959\n",
      "Best epoch 14 | val loss min: 0.05878\n"
     ]
    },
    {
     "name": "stderr",
     "output_type": "stream",
     "text": [
      "Epoch 37/39 | LR: 0.00006: 100%|██████████| 55/55 [00:12<00:00,  4.35it/s, loss=0.159]\n",
      "100%|██████████| 217/217 [00:07<00:00, 27.84it/s]\n"
     ]
    },
    {
     "name": "stdout",
     "output_type": "stream",
     "text": [
      "train loss: 0.15889 | train acc: 0.943 | val_loss: 0.07746 | val acc: 0.968\n",
      "Best epoch 14 | val loss min: 0.05878\n"
     ]
    },
    {
     "name": "stderr",
     "output_type": "stream",
     "text": [
      "Epoch 38/39 | LR: 0.00000: 100%|██████████| 55/55 [00:12<00:00,  4.29it/s, loss=0.195]\n",
      "100%|██████████| 217/217 [00:07<00:00, 27.78it/s]\n"
     ]
    },
    {
     "name": "stdout",
     "output_type": "stream",
     "text": [
      "train loss: 0.19539 | train acc: 0.942 | val_loss: 0.09235 | val acc: 0.968\n",
      "Best epoch 14 | val loss min: 0.05878\n"
     ]
    },
    {
     "name": "stderr",
     "output_type": "stream",
     "text": [
      "Epoch 39/39 | LR: 0.00006: 100%|██████████| 55/55 [00:13<00:00,  4.13it/s, loss=0.157]\n",
      "100%|██████████| 217/217 [00:07<00:00, 27.71it/s]"
     ]
    },
    {
     "name": "stdout",
     "output_type": "stream",
     "text": [
      "train loss: 0.15651 | train acc: 0.945 | val_loss: 0.10467 | val acc: 0.959\n",
      "Best epoch 14 | val loss min: 0.05878\n"
     ]
    },
    {
     "name": "stderr",
     "output_type": "stream",
     "text": [
      "\n"
     ]
    }
   ],
   "source": [
    "for epoch in range(epochs):\n",
    "    model.train()\n",
    "    train_loss = []\n",
    "    train_running_corrects = 0\n",
    "    val_running_corrects = 0\n",
    "    \n",
    "    loop = tqdm(train_loader)\n",
    "    for images, labels in loop:\n",
    "        images = images.to(device)\n",
    "        labels = labels.to(device)\n",
    "        \n",
    "        optimizer.zero_grad()\n",
    "        \n",
    "        with torch.cuda.amp.autocast():\n",
    "            outputs = model(images)\n",
    "            loss = criterion(outputs, labels)\n",
    "            \n",
    "            train_loss.append(loss.item())\n",
    "            \n",
    "            _, predicted = torch.max(outputs.data, 1)\n",
    "            #_,labels = torch.max(labels.data, 1)\n",
    "            train_running_corrects += torch.sum(predicted == labels.data)\n",
    "            \n",
    "        scaler.scale(loss).backward()\n",
    "        scaler.step(optimizer)\n",
    "        scaler.update()\n",
    "        \n",
    "        scheduler.step()\n",
    "\n",
    "        loop.set_description('Epoch {:02d}/{:02d} | LR: {:.5f}'.format(epoch, epochs-1, optimizer.param_groups[0]['lr']))\n",
    "        loop.set_postfix(loss=np.mean(train_loss))\n",
    "\n",
    "    train_loss = np.mean(train_loss)\n",
    "    train_epoch_acc = train_running_corrects.double() / len(train_loader.dataset)\n",
    "    \n",
    "    model.eval()\n",
    "\n",
    "    val_loss = 0\n",
    "\n",
    "    for images, labels in tqdm(valid_loader):\n",
    "        images = images.to(device)\n",
    "        labels = labels.to(device)\n",
    "\n",
    "        with torch.cuda.amp.autocast(), torch.no_grad():\n",
    "            outputs = model(images)\n",
    "            loss = criterion(outputs, labels)\n",
    "            \n",
    "            val_loss += loss.item()\n",
    "            \n",
    "            _, predicted = torch.max(outputs.data, 1)\n",
    "            #_,labels = torch.max(labels.data, 1)\n",
    "            val_running_corrects += torch.sum(predicted == labels.data)\n",
    "\n",
    "    val_loss /= len(valid_loader.dataset)\n",
    "    val_epoch_acc = val_running_corrects.double() / len(valid_loader.dataset)\n",
    "    \n",
    "    print(f'train loss: {train_loss:.5f} | train acc: {train_epoch_acc:.3f} | val_loss: {val_loss:.5f} | val acc: {val_epoch_acc:.3f}')\n",
    "    \n",
    "    if val_loss < val_loss_min:\n",
    "            print(f'Valid loss improved from {val_loss_min:.5f} to {val_loss:.5f} saving model to {CHECKPOINT}')\n",
    "            val_loss_min = val_loss\n",
    "            best_epoch = epoch\n",
    "            torch.save(model.state_dict(), CHECKPOINT)\n",
    "    \n",
    "    print(f'Best epoch {best_epoch} | val loss min: {val_loss_min:.5f}')"
   ]
  },
  {
   "cell_type": "markdown",
   "id": "premier-glass",
   "metadata": {
    "tags": []
   },
   "source": [
    "### Visualize predictions"
   ]
  },
  {
   "cell_type": "code",
   "execution_count": 29,
   "id": "specified-blend",
   "metadata": {
    "tags": []
   },
   "outputs": [],
   "source": [
    "model_inf = timm.create_model('resnet18', pretrained=True, num_classes=num_classes)\n",
    "num_ftrs = model_inf.get_classifier().in_features\n",
    "if dropout:\n",
    "    model_inf.fc = nn.Sequential(\n",
    "                            nn.Dropout(dropout_percent),\n",
    "                            nn.Linear(num_ftrs,num_classes)\n",
    "    )\n",
    "else:\n",
    "    model_inf.fc = nn.Linear(num_ftrs, num_classes)\n",
    "\n",
    "model_inf.load_state_dict(torch.load(CHECKPOINT))\n",
    "model_inf.to(device) \n",
    "model_inf = model_inf.eval()"
   ]
  },
  {
   "cell_type": "code",
   "execution_count": 30,
   "id": "challenging-sperm",
   "metadata": {},
   "outputs": [],
   "source": [
    "valid_dataset = Dataset(\n",
    "    df_uku_binary.loc[df_uku_binary['split']=='test',:], \n",
    "    augmentation=get_validation_augmentation(), \n",
    "    preprocessing=get_preprocessing(),\n",
    ")"
   ]
  },
  {
   "cell_type": "markdown",
   "id": "functional-garage",
   "metadata": {},
   "source": [
    "#### Validation data"
   ]
  },
  {
   "cell_type": "code",
   "execution_count": 31,
   "id": "strategic-exercise",
   "metadata": {},
   "outputs": [],
   "source": [
    "# For confusion matrix\n",
    "label_array = np.array([], dtype='int64')\n",
    "prediction_array = np.array([], dtype='int64')"
   ]
  },
  {
   "cell_type": "code",
   "execution_count": 32,
   "id": "living-murray",
   "metadata": {},
   "outputs": [],
   "source": [
    "with torch.no_grad():\n",
    "    model_inf.eval()\n",
    "    for images, labels in valid_dataset:\n",
    "        images = torch.from_numpy(images).to(device).unsqueeze(0)\n",
    "        #labels = labels.to(device)\n",
    "        \n",
    "        cls_outputs = model_inf(images)\n",
    "        _, predicted = torch.max(cls_outputs.data, 1)\n",
    "        #_,labels = torch.max(labels.data, 0)\n",
    "        label_array = np.append(label_array, labels)\n",
    "        prediction_array = np.append(prediction_array, predicted.detach().cpu().numpy())"
   ]
  },
  {
   "cell_type": "code",
   "execution_count": 33,
   "id": "industrial-ancient",
   "metadata": {},
   "outputs": [],
   "source": [
    "%matplotlib inline"
   ]
  },
  {
   "cell_type": "code",
   "execution_count": 34,
   "id": "consecutive-aviation",
   "metadata": {},
   "outputs": [
    {
     "data": {
      "image/png": "[encoded data removed]",
      "text/plain": [
       "<Figure size 800x500 with 1 Axes>"
      ]
     },
     "metadata": {
      "needs_background": "light"
     },
     "output_type": "display_data"
    }
   ],
   "source": [
    "fig, ax = plt.subplots(figsize=(8,5),dpi=100)\n",
    "ConfusionMatrixDisplay.from_predictions(label_array,prediction_array,display_labels=['H','P'],cmap='Blues',colorbar=False,ax=ax)\n",
    "plt.show()"
   ]
  },
  {
   "cell_type": "code",
   "execution_count": 35,
   "id": "suitable-panic",
   "metadata": {},
   "outputs": [
    {
     "name": "stdout",
     "output_type": "stream",
     "text": [
      "              precision    recall  f1-score   support\n",
      "\n",
      "           H     0.9783    1.0000    0.9890       135\n",
      "           P     1.0000    0.9634    0.9814        82\n",
      "\n",
      "    accuracy                         0.9862       217\n",
      "   macro avg     0.9891    0.9817    0.9852       217\n",
      "weighted avg     0.9865    0.9862    0.9861       217\n",
      "\n"
     ]
    }
   ],
   "source": [
    "print(classification_report(label_array, prediction_array, digits=4,target_names=['H','P']))"
   ]
  },
  {
   "cell_type": "code",
   "execution_count": null,
   "id": "reserved-pepper",
   "metadata": {},
   "outputs": [],
   "source": []
  }
 ],
 "metadata": {
  "kernelspec": {
   "display_name": "Python 3",
   "language": "python",
   "name": "python3"
  },
  "language_info": {
   "codemirror_mode": {
    "name": "ipython",
    "version": 3
   },
   "file_extension": ".py",
   "mimetype": "text/x-python",
   "name": "python",
   "nbconvert_exporter": "python",
   "pygments_lexer": "ipython3",
   "version": "3.9.10"
  }
 },
 "nbformat": 4,
 "nbformat_minor": 5
}
