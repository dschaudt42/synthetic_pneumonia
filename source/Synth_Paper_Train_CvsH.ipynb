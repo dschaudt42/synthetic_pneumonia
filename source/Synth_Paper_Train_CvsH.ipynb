{
 "cells": [
  {
   "cell_type": "markdown",
   "id": "activated-diary",
   "metadata": {},
   "source": [
    "## Training for Synth Paper 2022"
   ]
  },
  {
   "cell_type": "markdown",
   "id": "assisted-exchange",
   "metadata": {},
   "source": [
    "### Loading data"
   ]
  },
  {
   "cell_type": "code",
   "execution_count": 1,
   "id": "unexpected-springfield",
   "metadata": {},
   "outputs": [],
   "source": [
    "import os\n",
    "import glob\n",
    "from pathlib import Path\n",
    "import numpy as np\n",
    "import pandas as pd\n",
    "import cv2\n",
    "import matplotlib.pyplot as plt\n",
    "from timm.data import IMAGENET_DEFAULT_MEAN, IMAGENET_DEFAULT_STD\n",
    "from tqdm import tqdm\n",
    "\n",
    "import torch\n",
    "import torch.nn as nn\n",
    "import torch.optim as optim\n",
    "from torchvision import models\n",
    "import numpy as np\n",
    "import timm\n",
    "\n",
    "import albumentations as albu\n",
    "from sklearn.metrics import classification_report,ConfusionMatrixDisplay\n",
    "from sklearn.model_selection import train_test_split\n",
    "\n",
    "from torch.utils.data import DataLoader\n",
    "from torch.utils.data import Dataset as BaseDataset"
   ]
  },
  {
   "cell_type": "code",
   "execution_count": 2,
   "id": "fuzzy-tennessee",
   "metadata": {},
   "outputs": [],
   "source": [
    "device = torch.device(\"cuda\" if torch.cuda.is_available() else \"cpu\")"
   ]
  },
  {
   "cell_type": "code",
   "execution_count": 3,
   "id": "decreased-convention",
   "metadata": {},
   "outputs": [],
   "source": [
    "# helper function for data visualization\n",
    "def visualize(label, **images):\n",
    "    \"\"\"PLot images in one row.\"\"\"\n",
    "    n = len(images)\n",
    "    plt.figure(figsize=(16, 5))\n",
    "    for i, (name, image) in enumerate(images.items()):\n",
    "        plt.subplot(1, n, i + 1)\n",
    "        plt.xticks([])\n",
    "        plt.yticks([])\n",
    "        #plt.title(' '.join(name.split('_')).title())\n",
    "        plt.title(f'{name.title()} | GT: {label}')\n",
    "        plt.imshow(image)\n",
    "    plt.show()"
   ]
  },
  {
   "cell_type": "markdown",
   "id": "continuing-terrain",
   "metadata": {
    "tags": []
   },
   "source": [
    "### Data Preparation"
   ]
  },
  {
   "cell_type": "code",
   "execution_count": 4,
   "id": "located-device",
   "metadata": {},
   "outputs": [],
   "source": [
    "df = pd.read_csv('synth_paper_data.csv')\n",
    "#df['class'] = df['class'].astype('category')"
   ]
  },
  {
   "cell_type": "code",
   "execution_count": 5,
   "id": "upset-tractor",
   "metadata": {},
   "outputs": [
    {
     "data": {
      "text/html": [
       "<div>\n",
       "<style scoped>\n",
       "    .dataframe tbody tr th:only-of-type {\n",
       "        vertical-align: middle;\n",
       "    }\n",
       "\n",
       "    .dataframe tbody tr th {\n",
       "        vertical-align: top;\n",
       "    }\n",
       "\n",
       "    .dataframe thead th {\n",
       "        text-align: right;\n",
       "    }\n",
       "</style>\n",
       "<table border=\"1\" class=\"dataframe\">\n",
       "  <thead>\n",
       "    <tr style=\"text-align: right;\">\n",
       "      <th></th>\n",
       "      <th>file_path</th>\n",
       "      <th>file_name</th>\n",
       "      <th>source</th>\n",
       "      <th>split</th>\n",
       "      <th>class</th>\n",
       "      <th>label_encoded</th>\n",
       "    </tr>\n",
       "  </thead>\n",
       "  <tbody>\n",
       "    <tr>\n",
       "      <th>26427</th>\n",
       "      <td>../../data/Covidx/data_with_classes/train/norm...</td>\n",
       "      <td>6c1c37f8-f8b4-4412-8dd3-9173e9f264ba.png</td>\n",
       "      <td>Covidx</td>\n",
       "      <td>train</td>\n",
       "      <td>H</td>\n",
       "      <td>3</td>\n",
       "    </tr>\n",
       "    <tr>\n",
       "      <th>1493</th>\n",
       "      <td>../../data/generated_data/cs_uu/nb/sample_367.png</td>\n",
       "      <td>sample_367.png</td>\n",
       "      <td>Synth</td>\n",
       "      <td>train</td>\n",
       "      <td>H</td>\n",
       "      <td>3</td>\n",
       "    </tr>\n",
       "    <tr>\n",
       "      <th>16370</th>\n",
       "      <td>../../data/generated_data/cs_uu/covid/sample_8...</td>\n",
       "      <td>sample_8654.png</td>\n",
       "      <td>Synth</td>\n",
       "      <td>train</td>\n",
       "      <td>C</td>\n",
       "      <td>1</td>\n",
       "    </tr>\n",
       "    <tr>\n",
       "      <th>34488</th>\n",
       "      <td>../../data/Covidx/data_with_classes/train/norm...</td>\n",
       "      <td>731074a1-40f5-43cf-ad03-8c69bfbc1636.png</td>\n",
       "      <td>Covidx</td>\n",
       "      <td>train</td>\n",
       "      <td>H</td>\n",
       "      <td>3</td>\n",
       "    </tr>\n",
       "    <tr>\n",
       "      <th>28448</th>\n",
       "      <td>../../data/Covidx/data_with_classes/train/norm...</td>\n",
       "      <td>c05d778f-0ba9-4825-94f4-27fdab33a4e6.png</td>\n",
       "      <td>Covidx</td>\n",
       "      <td>train</td>\n",
       "      <td>H</td>\n",
       "      <td>3</td>\n",
       "    </tr>\n",
       "  </tbody>\n",
       "</table>\n",
       "</div>"
      ],
      "text/plain": [
       "                                               file_path  \\\n",
       "26427  ../../data/Covidx/data_with_classes/train/norm...   \n",
       "1493   ../../data/generated_data/cs_uu/nb/sample_367.png   \n",
       "16370  ../../data/generated_data/cs_uu/covid/sample_8...   \n",
       "34488  ../../data/Covidx/data_with_classes/train/norm...   \n",
       "28448  ../../data/Covidx/data_with_classes/train/norm...   \n",
       "\n",
       "                                      file_name  source  split class  \\\n",
       "26427  6c1c37f8-f8b4-4412-8dd3-9173e9f264ba.png  Covidx  train     H   \n",
       "1493                             sample_367.png   Synth  train     H   \n",
       "16370                           sample_8654.png   Synth  train     C   \n",
       "34488  731074a1-40f5-43cf-ad03-8c69bfbc1636.png  Covidx  train     H   \n",
       "28448  c05d778f-0ba9-4825-94f4-27fdab33a4e6.png  Covidx  train     H   \n",
       "\n",
       "       label_encoded  \n",
       "26427              3  \n",
       "1493               3  \n",
       "16370              1  \n",
       "34488              3  \n",
       "28448              3  "
      ]
     },
     "execution_count": 5,
     "metadata": {},
     "output_type": "execute_result"
    }
   ],
   "source": [
    "df.sample(5)"
   ]
  },
  {
   "cell_type": "code",
   "execution_count": 6,
   "id": "complimentary-nebraska",
   "metadata": {},
   "outputs": [
    {
     "data": {
      "text/plain": [
       "array(['UKU_old_split', 'UKU_all', 'Synth', 'Covidx'], dtype=object)"
      ]
     },
     "execution_count": 6,
     "metadata": {},
     "output_type": "execute_result"
    }
   ],
   "source": [
    "df['source'].unique()"
   ]
  },
  {
   "cell_type": "code",
   "execution_count": 7,
   "id": "explicit-buddy",
   "metadata": {},
   "outputs": [
    {
     "data": {
      "text/plain": [
       "H    673\n",
       "F    125\n",
       "C    110\n",
       "B    100\n",
       "V     74\n",
       "Name: class, dtype: int64"
      ]
     },
     "execution_count": 7,
     "metadata": {},
     "output_type": "execute_result"
    }
   ],
   "source": [
    "df.loc[df['source']=='UKU_all','class'].value_counts()"
   ]
  },
  {
   "cell_type": "code",
   "execution_count": 8,
   "id": "formed-harbor",
   "metadata": {},
   "outputs": [
    {
     "data": {
      "text/html": [
       "<div>\n",
       "<style scoped>\n",
       "    .dataframe tbody tr th:only-of-type {\n",
       "        vertical-align: middle;\n",
       "    }\n",
       "\n",
       "    .dataframe tbody tr th {\n",
       "        vertical-align: top;\n",
       "    }\n",
       "\n",
       "    .dataframe thead tr th {\n",
       "        text-align: left;\n",
       "    }\n",
       "\n",
       "    .dataframe thead tr:last-of-type th {\n",
       "        text-align: right;\n",
       "    }\n",
       "</style>\n",
       "<table border=\"1\" class=\"dataframe\">\n",
       "  <thead>\n",
       "    <tr>\n",
       "      <th></th>\n",
       "      <th colspan=\"5\" halign=\"left\">file_name</th>\n",
       "    </tr>\n",
       "    <tr>\n",
       "      <th>class</th>\n",
       "      <th>B</th>\n",
       "      <th>C</th>\n",
       "      <th>F</th>\n",
       "      <th>H</th>\n",
       "      <th>V</th>\n",
       "    </tr>\n",
       "    <tr>\n",
       "      <th>split</th>\n",
       "      <th></th>\n",
       "      <th></th>\n",
       "      <th></th>\n",
       "      <th></th>\n",
       "      <th></th>\n",
       "    </tr>\n",
       "  </thead>\n",
       "  <tbody>\n",
       "    <tr>\n",
       "      <th>test</th>\n",
       "      <td>20</td>\n",
       "      <td>22</td>\n",
       "      <td>25</td>\n",
       "      <td>135</td>\n",
       "      <td>15</td>\n",
       "    </tr>\n",
       "    <tr>\n",
       "      <th>train</th>\n",
       "      <td>80</td>\n",
       "      <td>88</td>\n",
       "      <td>100</td>\n",
       "      <td>538</td>\n",
       "      <td>59</td>\n",
       "    </tr>\n",
       "  </tbody>\n",
       "</table>\n",
       "</div>"
      ],
      "text/plain": [
       "      file_name                  \n",
       "class         B   C    F    H   V\n",
       "split                            \n",
       "test         20  22   25  135  15\n",
       "train        80  88  100  538  59"
      ]
     },
     "execution_count": 8,
     "metadata": {},
     "output_type": "execute_result"
    }
   ],
   "source": [
    "pd.pivot_table(df.loc[df['source']=='UKU_all'],values=['file_name'],index=['split'],columns=['class'],aggfunc='count')"
   ]
  },
  {
   "cell_type": "code",
   "execution_count": 9,
   "id": "wrong-canberra",
   "metadata": {},
   "outputs": [],
   "source": [
    "df_uku_binary = df.loc[(df['source']=='UKU_all') & (df['class'].isin(['C','H']))].copy()"
   ]
  },
  {
   "cell_type": "code",
   "execution_count": 10,
   "id": "included-tiffany",
   "metadata": {},
   "outputs": [],
   "source": [
    "df_uku_binary['class'] = df_uku_binary['class'].astype('category')\n",
    "df_uku_binary['label_encoded'] = df_uku_binary['class'].cat.codes.astype('int64')"
   ]
  },
  {
   "cell_type": "code",
   "execution_count": 11,
   "id": "classical-spelling",
   "metadata": {},
   "outputs": [
    {
     "data": {
      "text/plain": [
       "H    673\n",
       "C    110\n",
       "Name: class, dtype: int64"
      ]
     },
     "execution_count": 11,
     "metadata": {},
     "output_type": "execute_result"
    }
   ],
   "source": [
    "df_uku_binary['class'].value_counts()"
   ]
  },
  {
   "cell_type": "code",
   "execution_count": 12,
   "id": "contemporary-swaziland",
   "metadata": {},
   "outputs": [
    {
     "data": {
      "text/html": [
       "<div>\n",
       "<style scoped>\n",
       "    .dataframe tbody tr th:only-of-type {\n",
       "        vertical-align: middle;\n",
       "    }\n",
       "\n",
       "    .dataframe tbody tr th {\n",
       "        vertical-align: top;\n",
       "    }\n",
       "\n",
       "    .dataframe thead tr th {\n",
       "        text-align: left;\n",
       "    }\n",
       "\n",
       "    .dataframe thead tr:last-of-type th {\n",
       "        text-align: right;\n",
       "    }\n",
       "</style>\n",
       "<table border=\"1\" class=\"dataframe\">\n",
       "  <thead>\n",
       "    <tr>\n",
       "      <th></th>\n",
       "      <th colspan=\"2\" halign=\"left\">file_name</th>\n",
       "    </tr>\n",
       "    <tr>\n",
       "      <th>class</th>\n",
       "      <th>C</th>\n",
       "      <th>H</th>\n",
       "    </tr>\n",
       "    <tr>\n",
       "      <th>split</th>\n",
       "      <th></th>\n",
       "      <th></th>\n",
       "    </tr>\n",
       "  </thead>\n",
       "  <tbody>\n",
       "    <tr>\n",
       "      <th>test</th>\n",
       "      <td>22</td>\n",
       "      <td>135</td>\n",
       "    </tr>\n",
       "    <tr>\n",
       "      <th>train</th>\n",
       "      <td>88</td>\n",
       "      <td>538</td>\n",
       "    </tr>\n",
       "  </tbody>\n",
       "</table>\n",
       "</div>"
      ],
      "text/plain": [
       "      file_name     \n",
       "class         C    H\n",
       "split               \n",
       "test         22  135\n",
       "train        88  538"
      ]
     },
     "execution_count": 12,
     "metadata": {},
     "output_type": "execute_result"
    }
   ],
   "source": [
    "pd.pivot_table(df_uku_binary,values=['file_name'],index=['split'],columns=['class'],aggfunc='count')"
   ]
  },
  {
   "cell_type": "code",
   "execution_count": 13,
   "id": "fixed-powder",
   "metadata": {},
   "outputs": [
    {
     "data": {
      "text/html": [
       "<div>\n",
       "<style scoped>\n",
       "    .dataframe tbody tr th:only-of-type {\n",
       "        vertical-align: middle;\n",
       "    }\n",
       "\n",
       "    .dataframe tbody tr th {\n",
       "        vertical-align: top;\n",
       "    }\n",
       "\n",
       "    .dataframe thead th {\n",
       "        text-align: right;\n",
       "    }\n",
       "</style>\n",
       "<table border=\"1\" class=\"dataframe\">\n",
       "  <thead>\n",
       "    <tr style=\"text-align: right;\">\n",
       "      <th></th>\n",
       "      <th>file_path</th>\n",
       "      <th>file_name</th>\n",
       "      <th>source</th>\n",
       "      <th>split</th>\n",
       "      <th>class</th>\n",
       "      <th>label_encoded</th>\n",
       "    </tr>\n",
       "  </thead>\n",
       "  <tbody>\n",
       "    <tr>\n",
       "      <th>333</th>\n",
       "      <td>../../data/segmentation_test/raw/C59.png</td>\n",
       "      <td>C59.png</td>\n",
       "      <td>UKU_all</td>\n",
       "      <td>train</td>\n",
       "      <td>C</td>\n",
       "      <td>0</td>\n",
       "    </tr>\n",
       "    <tr>\n",
       "      <th>334</th>\n",
       "      <td>../../data/segmentation_test/raw/NB46.png</td>\n",
       "      <td>NB46.png</td>\n",
       "      <td>UKU_all</td>\n",
       "      <td>train</td>\n",
       "      <td>H</td>\n",
       "      <td>1</td>\n",
       "    </tr>\n",
       "    <tr>\n",
       "      <th>335</th>\n",
       "      <td>../../data/segmentation_test/raw/NB663.png</td>\n",
       "      <td>NB663.png</td>\n",
       "      <td>UKU_all</td>\n",
       "      <td>train</td>\n",
       "      <td>H</td>\n",
       "      <td>1</td>\n",
       "    </tr>\n",
       "    <tr>\n",
       "      <th>337</th>\n",
       "      <td>../../data/segmentation_test/raw/NB626.png</td>\n",
       "      <td>NB626.png</td>\n",
       "      <td>UKU_all</td>\n",
       "      <td>train</td>\n",
       "      <td>H</td>\n",
       "      <td>1</td>\n",
       "    </tr>\n",
       "    <tr>\n",
       "      <th>339</th>\n",
       "      <td>../../data/segmentation_test/raw/NB696.png</td>\n",
       "      <td>NB696.png</td>\n",
       "      <td>UKU_all</td>\n",
       "      <td>train</td>\n",
       "      <td>H</td>\n",
       "      <td>1</td>\n",
       "    </tr>\n",
       "  </tbody>\n",
       "</table>\n",
       "</div>"
      ],
      "text/plain": [
       "                                      file_path  file_name   source  split  \\\n",
       "333    ../../data/segmentation_test/raw/C59.png    C59.png  UKU_all  train   \n",
       "334   ../../data/segmentation_test/raw/NB46.png   NB46.png  UKU_all  train   \n",
       "335  ../../data/segmentation_test/raw/NB663.png  NB663.png  UKU_all  train   \n",
       "337  ../../data/segmentation_test/raw/NB626.png  NB626.png  UKU_all  train   \n",
       "339  ../../data/segmentation_test/raw/NB696.png  NB696.png  UKU_all  train   \n",
       "\n",
       "    class  label_encoded  \n",
       "333     C              0  \n",
       "334     H              1  \n",
       "335     H              1  \n",
       "337     H              1  \n",
       "339     H              1  "
      ]
     },
     "execution_count": 13,
     "metadata": {},
     "output_type": "execute_result"
    }
   ],
   "source": [
    "df_uku_binary.head()"
   ]
  },
  {
   "cell_type": "markdown",
   "id": "attractive-burner",
   "metadata": {},
   "source": [
    "Dataloader:"
   ]
  },
  {
   "cell_type": "code",
   "execution_count": 14,
   "id": "clean-thanks",
   "metadata": {},
   "outputs": [],
   "source": [
    "class Dataset(BaseDataset):\n",
    "    \"\"\"Read images, apply augmentation and preprocessing transformations.\"\"\"\n",
    "    \n",
    "    def __init__(\n",
    "            self,\n",
    "            df, \n",
    "            augmentation=None, \n",
    "            preprocessing=None,\n",
    "    ):\n",
    "        self.df = df.reset_index(drop=True)\n",
    "        self.ids = self.df.loc[:,'file_path'].values\n",
    "        \n",
    "        self.augmentation = augmentation\n",
    "        self.preprocessing = preprocessing\n",
    "    \n",
    "    def __getitem__(self, i):\n",
    "        \n",
    "        # read data\n",
    "        image = cv2.imread(self.ids[i])\n",
    "        image = cv2.cvtColor(image, cv2.COLOR_BGR2RGB)   \n",
    "        \n",
    "        # apply augmentations\n",
    "        if self.augmentation:\n",
    "            sample = self.augmentation(image=image)\n",
    "            image = sample['image']\n",
    "        \n",
    "        # apply preprocessing\n",
    "        if self.preprocessing:\n",
    "            sample = self.preprocessing(image=image)\n",
    "            image = sample['image']\n",
    "        \n",
    "        label = self.df.loc[i,'label_encoded']\n",
    "        \n",
    "        return image, label\n",
    "        \n",
    "    def __len__(self):\n",
    "        return len(self.ids)"
   ]
  },
  {
   "cell_type": "code",
   "execution_count": 15,
   "id": "joined-emperor",
   "metadata": {},
   "outputs": [
    {
     "data": {
      "image/png": "[encoded data removed]",
      "text/plain": [
       "<Figure size 1152x360 with 1 Axes>"
      ]
     },
     "metadata": {},
     "output_type": "display_data"
    }
   ],
   "source": [
    "dataset = Dataset(df_uku_binary)\n",
    "\n",
    "image, label = dataset[3] # get some sample\n",
    "visualize(\n",
    "    label=label,\n",
    "    image=image\n",
    ")"
   ]
  },
  {
   "cell_type": "markdown",
   "id": "equal-credits",
   "metadata": {},
   "source": [
    "### Augmentations"
   ]
  },
  {
   "cell_type": "code",
   "execution_count": 16,
   "id": "approved-raise",
   "metadata": {},
   "outputs": [],
   "source": [
    "image_size = 224"
   ]
  },
  {
   "cell_type": "code",
   "execution_count": 17,
   "id": "aerial-lightning",
   "metadata": {},
   "outputs": [],
   "source": [
    "def get_training_augmentation():\n",
    "    train_transform = [\n",
    "        \n",
    "        albu.RandomResizedCrop(height=image_size, width=image_size, scale=(0.25, 1.0), ratio=(0.75, 1.3333333333333333), interpolation=1, p=1.0),\n",
    "        albu.HorizontalFlip(p=0.5),\n",
    "\n",
    "        albu.ShiftScaleRotate(scale_limit=0.5, rotate_limit=0, shift_limit=0.1, p=1, border_mode=0),\n",
    "\n",
    "        #albu.PadIfNeeded(min_height=320, min_width=320, always_apply=True, border_mode=0),\n",
    "        #albu.RandomCrop(height=320, width=320, always_apply=True),\n",
    "\n",
    "\n",
    "        albu.OneOf(\n",
    "            [\n",
    "                albu.CLAHE(p=1),\n",
    "                albu.RandomBrightnessContrast(p=1),\n",
    "                albu.RandomGamma(p=1),\n",
    "            ],\n",
    "            p=0.9,\n",
    "        ),\n",
    "\n",
    "        albu.OneOf(\n",
    "            [\n",
    "                albu.Sharpen(p=1),\n",
    "                albu.Blur(blur_limit=3, p=1),\n",
    "                albu.MotionBlur(blur_limit=3, p=1),\n",
    "            ],\n",
    "            p=0.9,\n",
    "        ),\n",
    "\n",
    "        albu.OneOf(\n",
    "            [\n",
    "                albu.RandomBrightnessContrast(p=1),\n",
    "                albu.HueSaturationValue(p=1),\n",
    "            ],\n",
    "            p=0.9,\n",
    "        ),\n",
    "        #albu.Normalize(mean=IMAGENET_DEFAULT_MEAN, std=IMAGENET_DEFAULT_STD),\n",
    "    ]\n",
    "    return albu.Compose(train_transform)\n",
    "\n",
    "\n",
    "def get_validation_augmentation():\n",
    "    \"\"\"Add paddings to make image shape divisible by 32\"\"\"\n",
    "    test_transform = [\n",
    "        #albu.PadIfNeeded(384, 480)\n",
    "        albu.Resize(image_size, image_size),\n",
    "        #albu.Normalize(mean=IMAGENET_DEFAULT_MEAN, std=IMAGENET_DEFAULT_STD),\n",
    "    ]\n",
    "    return albu.Compose(test_transform)\n",
    "\n",
    "\n",
    "def to_tensor(x, **kwargs):\n",
    "    return x.transpose(2, 0, 1).astype('float32')\n",
    "\n",
    "\n",
    "def get_preprocessing():\n",
    "    \"\"\"Construct preprocessing transform\n",
    "    \n",
    "    Args:\n",
    "        preprocessing_fn (callbale): data normalization function \n",
    "            (can be specific for each pretrained neural network)\n",
    "    Return:\n",
    "        transform: albumentations.Compose\n",
    "    \n",
    "    \"\"\"\n",
    "    \n",
    "    _transform = [\n",
    "        albu.Normalize(mean=IMAGENET_DEFAULT_MEAN, std=IMAGENET_DEFAULT_STD,max_pixel_value=255.0),\n",
    "        albu.Lambda(image=to_tensor),\n",
    "    ]\n",
    "    return albu.Compose(_transform)"
   ]
  },
  {
   "cell_type": "code",
   "execution_count": 18,
   "id": "presidential-diesel",
   "metadata": {},
   "outputs": [
    {
     "data": {
      "image/png": "[encoded data removed]",
      "text/plain": [
       "<Figure size 1152x360 with 1 Axes>"
      ]
     },
     "metadata": {},
     "output_type": "display_data"
    },
    {
     "data": {
      "image/png": "[encoded data removed]",
      "text/plain": [
       "<Figure size 1152x360 with 1 Axes>"
      ]
     },
     "metadata": {},
     "output_type": "display_data"
    },
    {
     "data": {
      "image/png": "[encoded data removed]",
      "text/plain": [
       "<Figure size 1152x360 with 1 Axes>"
      ]
     },
     "metadata": {},
     "output_type": "display_data"
    }
   ],
   "source": [
    "#### Visualize resulted augmented images and masks\n",
    "\n",
    "augmented_dataset = Dataset(\n",
    "    df_uku_binary, \n",
    "    augmentation=get_training_augmentation(), \n",
    ")\n",
    "\n",
    "# same image with different random transforms\n",
    "for i in range(3):\n",
    "    image, label = augmented_dataset[3]\n",
    "    visualize(label=label,image=image)"
   ]
  },
  {
   "cell_type": "markdown",
   "id": "former-franchise",
   "metadata": {
    "tags": []
   },
   "source": [
    "### Create model and train"
   ]
  },
  {
   "cell_type": "markdown",
   "id": "warming-guarantee",
   "metadata": {},
   "source": [
    "Define model"
   ]
  },
  {
   "cell_type": "code",
   "execution_count": 19,
   "id": "returning-awareness",
   "metadata": {},
   "outputs": [],
   "source": [
    "dropout = False\n",
    "dropout_percent = 0.5\n",
    "num_classes = 2"
   ]
  },
  {
   "cell_type": "code",
   "execution_count": 20,
   "id": "respiratory-granny",
   "metadata": {},
   "outputs": [],
   "source": [
    "model = timm.create_model('resnet50', pretrained=True, num_classes=num_classes)\n",
    "num_ftrs = model.get_classifier().in_features\n",
    "if dropout:\n",
    "    model.fc = nn.Sequential(\n",
    "                            nn.Dropout(dropout_percent),\n",
    "                            nn.Linear(num_ftrs,num_classes)\n",
    "    )\n",
    "else:\n",
    "    model.fc = nn.Linear(num_ftrs, num_classes)\n",
    "\n",
    "model = model.to(device) "
   ]
  },
  {
   "cell_type": "markdown",
   "id": "chronic-praise",
   "metadata": {},
   "source": [
    "Define Loss function and optimizer"
   ]
  },
  {
   "cell_type": "code",
   "execution_count": 21,
   "id": "maritime-cisco",
   "metadata": {},
   "outputs": [],
   "source": [
    "epochs = 40\n",
    "val_loss_min = np.Inf"
   ]
  },
  {
   "cell_type": "code",
   "execution_count": 22,
   "id": "weird-discharge",
   "metadata": {},
   "outputs": [],
   "source": [
    "criterion = nn.CrossEntropyLoss()"
   ]
  },
  {
   "cell_type": "code",
   "execution_count": 23,
   "id": "loaded-evaluation",
   "metadata": {},
   "outputs": [],
   "source": [
    "optimizer = optim.Adam(model.parameters(),lr=0.0001)\n",
    "scheduler = optim.lr_scheduler.CosineAnnealingLR(optimizer, epochs-1)\n",
    "\n",
    "scaler = torch.cuda.amp.GradScaler()"
   ]
  },
  {
   "cell_type": "code",
   "execution_count": 24,
   "id": "floating-sample",
   "metadata": {},
   "outputs": [],
   "source": [
    "train_dataset = Dataset(\n",
    "    df_uku_binary.loc[df_uku_binary['split']=='train',:],\n",
    "    augmentation=get_training_augmentation(), \n",
    "    preprocessing=get_preprocessing()\n",
    ")\n",
    "\n",
    "valid_dataset = Dataset(\n",
    "    df_uku_binary.loc[df_uku_binary['split']=='test',:], \n",
    "    augmentation=get_validation_augmentation(), \n",
    "    preprocessing=get_preprocessing(),\n",
    ")\n",
    "\n",
    "train_loader = DataLoader(train_dataset, batch_size=16, shuffle=True, num_workers=12)\n",
    "valid_loader = DataLoader(valid_dataset, batch_size=1, shuffle=False, num_workers=4)"
   ]
  },
  {
   "cell_type": "code",
   "execution_count": 25,
   "id": "boring-raleigh",
   "metadata": {},
   "outputs": [],
   "source": [
    "ckpt_dir = './models'\n",
    "CHECKPOINT = f'{ckpt_dir}/resnet50_synth_uku_all_binary_CvsH.pth'"
   ]
  },
  {
   "cell_type": "code",
   "execution_count": 26,
   "id": "finite-creator",
   "metadata": {
    "tags": []
   },
   "outputs": [
    {
     "name": "stderr",
     "output_type": "stream",
     "text": [
      "Epoch 00/39 | LR: 0.00000: 100%|██████████| 40/40 [00:09<00:00,  4.19it/s, loss=0.354]\n",
      "100%|██████████| 157/157 [00:04<00:00, 33.47it/s]\n"
     ]
    },
    {
     "name": "stdout",
     "output_type": "stream",
     "text": [
      "train loss: 0.35419 | train acc: 0.856 | val_loss: 0.27436 | val acc: 0.860\n",
      "Valid loss improved from inf to 0.27436 saving model to ./models/resnet50_synth_uku_all_binary_CvsH.pth\n",
      "Best epoch 0 | val loss min: 0.27436\n"
     ]
    },
    {
     "name": "stderr",
     "output_type": "stream",
     "text": [
      "Epoch 01/39 | LR: 0.00010: 100%|██████████| 40/40 [00:09<00:00,  4.35it/s, loss=0.262]\n",
      "100%|██████████| 157/157 [00:04<00:00, 33.63it/s]\n"
     ]
    },
    {
     "name": "stdout",
     "output_type": "stream",
     "text": [
      "train loss: 0.26229 | train acc: 0.871 | val_loss: 0.18076 | val acc: 0.898\n",
      "Valid loss improved from 0.27436 to 0.18076 saving model to ./models/resnet50_synth_uku_all_binary_CvsH.pth\n",
      "Best epoch 1 | val loss min: 0.18076\n"
     ]
    },
    {
     "name": "stderr",
     "output_type": "stream",
     "text": [
      "Epoch 02/39 | LR: 0.00000: 100%|██████████| 40/40 [00:09<00:00,  4.37it/s, loss=0.204]\n",
      "100%|██████████| 157/157 [00:04<00:00, 33.56it/s]\n"
     ]
    },
    {
     "name": "stdout",
     "output_type": "stream",
     "text": [
      "train loss: 0.20429 | train acc: 0.922 | val_loss: 0.13240 | val acc: 0.955\n",
      "Valid loss improved from 0.18076 to 0.13240 saving model to ./models/resnet50_synth_uku_all_binary_CvsH.pth\n",
      "Best epoch 2 | val loss min: 0.13240\n"
     ]
    },
    {
     "name": "stderr",
     "output_type": "stream",
     "text": [
      "Epoch 03/39 | LR: 0.00010: 100%|██████████| 40/40 [00:09<00:00,  4.18it/s, loss=0.212]\n",
      "100%|██████████| 157/157 [00:04<00:00, 33.40it/s]\n"
     ]
    },
    {
     "name": "stdout",
     "output_type": "stream",
     "text": [
      "train loss: 0.21205 | train acc: 0.928 | val_loss: 0.10723 | val acc: 0.987\n",
      "Valid loss improved from 0.13240 to 0.10723 saving model to ./models/resnet50_synth_uku_all_binary_CvsH.pth\n",
      "Best epoch 3 | val loss min: 0.10723\n"
     ]
    },
    {
     "name": "stderr",
     "output_type": "stream",
     "text": [
      "Epoch 04/39 | LR: 0.00000: 100%|██████████| 40/40 [00:08<00:00,  4.79it/s, loss=0.23] \n",
      "100%|██████████| 157/157 [00:04<00:00, 33.24it/s]\n"
     ]
    },
    {
     "name": "stdout",
     "output_type": "stream",
     "text": [
      "train loss: 0.22981 | train acc: 0.939 | val_loss: 0.10286 | val acc: 0.968\n",
      "Valid loss improved from 0.10723 to 0.10286 saving model to ./models/resnet50_synth_uku_all_binary_CvsH.pth\n",
      "Best epoch 4 | val loss min: 0.10286\n"
     ]
    },
    {
     "name": "stderr",
     "output_type": "stream",
     "text": [
      "Epoch 05/39 | LR: 0.00009: 100%|██████████| 40/40 [00:08<00:00,  4.58it/s, loss=0.184]\n",
      "100%|██████████| 157/157 [00:04<00:00, 33.77it/s]\n"
     ]
    },
    {
     "name": "stdout",
     "output_type": "stream",
     "text": [
      "train loss: 0.18368 | train acc: 0.935 | val_loss: 0.06701 | val acc: 0.981\n",
      "Valid loss improved from 0.10286 to 0.06701 saving model to ./models/resnet50_synth_uku_all_binary_CvsH.pth\n",
      "Best epoch 5 | val loss min: 0.06701\n"
     ]
    },
    {
     "name": "stderr",
     "output_type": "stream",
     "text": [
      "Epoch 06/39 | LR: 0.00001: 100%|██████████| 40/40 [00:09<00:00,  4.40it/s, loss=0.154]\n",
      "100%|██████████| 157/157 [00:04<00:00, 33.58it/s]\n"
     ]
    },
    {
     "name": "stdout",
     "output_type": "stream",
     "text": [
      "train loss: 0.15351 | train acc: 0.949 | val_loss: 0.07166 | val acc: 0.981\n",
      "Best epoch 5 | val loss min: 0.06701\n"
     ]
    },
    {
     "name": "stderr",
     "output_type": "stream",
     "text": [
      "Epoch 07/39 | LR: 0.00009: 100%|██████████| 40/40 [00:09<00:00,  4.34it/s, loss=0.14] \n",
      "100%|██████████| 157/157 [00:04<00:00, 33.02it/s]\n"
     ]
    },
    {
     "name": "stdout",
     "output_type": "stream",
     "text": [
      "train loss: 0.13996 | train acc: 0.950 | val_loss: 0.05251 | val acc: 0.987\n",
      "Valid loss improved from 0.06701 to 0.05251 saving model to ./models/resnet50_synth_uku_all_binary_CvsH.pth\n",
      "Best epoch 7 | val loss min: 0.05251\n"
     ]
    },
    {
     "name": "stderr",
     "output_type": "stream",
     "text": [
      "Epoch 08/39 | LR: 0.00001: 100%|██████████| 40/40 [00:08<00:00,  4.49it/s, loss=0.15] \n",
      "100%|██████████| 157/157 [00:04<00:00, 33.73it/s]\n"
     ]
    },
    {
     "name": "stdout",
     "output_type": "stream",
     "text": [
      "train loss: 0.15020 | train acc: 0.947 | val_loss: 0.05063 | val acc: 0.987\n",
      "Valid loss improved from 0.05251 to 0.05063 saving model to ./models/resnet50_synth_uku_all_binary_CvsH.pth\n",
      "Best epoch 8 | val loss min: 0.05063\n"
     ]
    },
    {
     "name": "stderr",
     "output_type": "stream",
     "text": [
      "Epoch 09/39 | LR: 0.00008: 100%|██████████| 40/40 [00:08<00:00,  4.47it/s, loss=0.155]\n",
      "100%|██████████| 157/157 [00:04<00:00, 33.25it/s]\n"
     ]
    },
    {
     "name": "stdout",
     "output_type": "stream",
     "text": [
      "train loss: 0.15481 | train acc: 0.952 | val_loss: 0.06106 | val acc: 0.987\n",
      "Best epoch 8 | val loss min: 0.05063\n"
     ]
    },
    {
     "name": "stderr",
     "output_type": "stream",
     "text": [
      "Epoch 10/39 | LR: 0.00002: 100%|██████████| 40/40 [00:08<00:00,  4.59it/s, loss=0.149]\n",
      "100%|██████████| 157/157 [00:04<00:00, 33.10it/s]\n"
     ]
    },
    {
     "name": "stdout",
     "output_type": "stream",
     "text": [
      "train loss: 0.14912 | train acc: 0.954 | val_loss: 0.06963 | val acc: 0.987\n",
      "Best epoch 8 | val loss min: 0.05063\n"
     ]
    },
    {
     "name": "stderr",
     "output_type": "stream",
     "text": [
      "Epoch 11/39 | LR: 0.00008: 100%|██████████| 40/40 [00:09<00:00,  4.39it/s, loss=0.141]\n",
      "100%|██████████| 157/157 [00:04<00:00, 33.18it/s]\n"
     ]
    },
    {
     "name": "stdout",
     "output_type": "stream",
     "text": [
      "train loss: 0.14093 | train acc: 0.957 | val_loss: 0.12323 | val acc: 0.962\n",
      "Best epoch 8 | val loss min: 0.05063\n"
     ]
    },
    {
     "name": "stderr",
     "output_type": "stream",
     "text": [
      "Epoch 12/39 | LR: 0.00003: 100%|██████████| 40/40 [00:08<00:00,  4.53it/s, loss=0.128]\n",
      "100%|██████████| 157/157 [00:04<00:00, 33.42it/s]\n"
     ]
    },
    {
     "name": "stdout",
     "output_type": "stream",
     "text": [
      "train loss: 0.12782 | train acc: 0.952 | val_loss: 0.08089 | val acc: 0.975\n",
      "Best epoch 8 | val loss min: 0.05063\n"
     ]
    },
    {
     "name": "stderr",
     "output_type": "stream",
     "text": [
      "Epoch 13/39 | LR: 0.00007: 100%|██████████| 40/40 [00:09<00:00,  4.35it/s, loss=0.133] \n",
      "100%|██████████| 157/157 [00:04<00:00, 32.82it/s]\n"
     ]
    },
    {
     "name": "stdout",
     "output_type": "stream",
     "text": [
      "train loss: 0.13347 | train acc: 0.963 | val_loss: 0.07649 | val acc: 0.981\n",
      "Best epoch 8 | val loss min: 0.05063\n"
     ]
    },
    {
     "name": "stderr",
     "output_type": "stream",
     "text": [
      "Epoch 14/39 | LR: 0.00003: 100%|██████████| 40/40 [00:09<00:00,  4.27it/s, loss=0.131] \n",
      "100%|██████████| 157/157 [00:04<00:00, 33.07it/s]\n"
     ]
    },
    {
     "name": "stdout",
     "output_type": "stream",
     "text": [
      "train loss: 0.13131 | train acc: 0.955 | val_loss: 0.04232 | val acc: 0.987\n",
      "Valid loss improved from 0.05063 to 0.04232 saving model to ./models/resnet50_synth_uku_all_binary_CvsH.pth\n",
      "Best epoch 14 | val loss min: 0.04232\n"
     ]
    },
    {
     "name": "stderr",
     "output_type": "stream",
     "text": [
      "Epoch 15/39 | LR: 0.00006: 100%|██████████| 40/40 [00:09<00:00,  4.40it/s, loss=0.123] \n",
      "100%|██████████| 157/157 [00:04<00:00, 32.43it/s]\n"
     ]
    },
    {
     "name": "stdout",
     "output_type": "stream",
     "text": [
      "train loss: 0.12255 | train acc: 0.957 | val_loss: 0.04894 | val acc: 0.987\n",
      "Best epoch 14 | val loss min: 0.04232\n"
     ]
    },
    {
     "name": "stderr",
     "output_type": "stream",
     "text": [
      "Epoch 16/39 | LR: 0.00004: 100%|██████████| 40/40 [00:09<00:00,  4.07it/s, loss=0.137] \n",
      "100%|██████████| 157/157 [00:04<00:00, 32.62it/s]\n"
     ]
    },
    {
     "name": "stdout",
     "output_type": "stream",
     "text": [
      "train loss: 0.13730 | train acc: 0.971 | val_loss: 0.04426 | val acc: 0.987\n",
      "Best epoch 14 | val loss min: 0.04232\n"
     ]
    },
    {
     "name": "stderr",
     "output_type": "stream",
     "text": [
      "Epoch 17/39 | LR: 0.00006: 100%|██████████| 40/40 [00:09<00:00,  4.02it/s, loss=0.0948]\n",
      "100%|██████████| 157/157 [00:04<00:00, 33.32it/s]\n"
     ]
    },
    {
     "name": "stdout",
     "output_type": "stream",
     "text": [
      "train loss: 0.09478 | train acc: 0.968 | val_loss: 0.07405 | val acc: 0.975\n",
      "Best epoch 14 | val loss min: 0.04232\n"
     ]
    },
    {
     "name": "stderr",
     "output_type": "stream",
     "text": [
      "Epoch 18/39 | LR: 0.00005: 100%|██████████| 40/40 [00:09<00:00,  4.41it/s, loss=0.12] \n",
      "100%|██████████| 157/157 [00:04<00:00, 32.95it/s]\n"
     ]
    },
    {
     "name": "stdout",
     "output_type": "stream",
     "text": [
      "train loss: 0.12005 | train acc: 0.963 | val_loss: 0.03060 | val acc: 0.987\n",
      "Valid loss improved from 0.04232 to 0.03060 saving model to ./models/resnet50_synth_uku_all_binary_CvsH.pth\n",
      "Best epoch 18 | val loss min: 0.03060\n"
     ]
    },
    {
     "name": "stderr",
     "output_type": "stream",
     "text": [
      "Epoch 19/39 | LR: 0.00005: 100%|██████████| 40/40 [00:09<00:00,  4.37it/s, loss=0.133]\n",
      "100%|██████████| 157/157 [00:04<00:00, 33.21it/s]\n"
     ]
    },
    {
     "name": "stdout",
     "output_type": "stream",
     "text": [
      "train loss: 0.13263 | train acc: 0.946 | val_loss: 1.06216 | val acc: 0.580\n",
      "Best epoch 18 | val loss min: 0.03060\n"
     ]
    },
    {
     "name": "stderr",
     "output_type": "stream",
     "text": [
      "Epoch 20/39 | LR: 0.00006: 100%|██████████| 40/40 [00:08<00:00,  4.51it/s, loss=0.101] \n",
      "100%|██████████| 157/157 [00:04<00:00, 32.96it/s]\n"
     ]
    },
    {
     "name": "stdout",
     "output_type": "stream",
     "text": [
      "train loss: 0.10061 | train acc: 0.963 | val_loss: 0.02569 | val acc: 0.994\n",
      "Valid loss improved from 0.03060 to 0.02569 saving model to ./models/resnet50_synth_uku_all_binary_CvsH.pth\n",
      "Best epoch 20 | val loss min: 0.02569\n"
     ]
    },
    {
     "name": "stderr",
     "output_type": "stream",
     "text": [
      "Epoch 21/39 | LR: 0.00004: 100%|██████████| 40/40 [00:09<00:00,  4.35it/s, loss=0.126]\n",
      "100%|██████████| 157/157 [00:04<00:00, 32.43it/s]\n"
     ]
    },
    {
     "name": "stdout",
     "output_type": "stream",
     "text": [
      "train loss: 0.12624 | train acc: 0.962 | val_loss: 0.05550 | val acc: 0.987\n",
      "Best epoch 20 | val loss min: 0.02569\n"
     ]
    },
    {
     "name": "stderr",
     "output_type": "stream",
     "text": [
      "Epoch 22/39 | LR: 0.00006: 100%|██████████| 40/40 [00:08<00:00,  4.48it/s, loss=0.108] \n",
      "100%|██████████| 157/157 [00:04<00:00, 33.40it/s]\n"
     ]
    },
    {
     "name": "stdout",
     "output_type": "stream",
     "text": [
      "train loss: 0.10780 | train acc: 0.968 | val_loss: 0.03356 | val acc: 0.994\n",
      "Best epoch 20 | val loss min: 0.02569\n"
     ]
    },
    {
     "name": "stderr",
     "output_type": "stream",
     "text": [
      "Epoch 23/39 | LR: 0.00003: 100%|██████████| 40/40 [00:08<00:00,  4.52it/s, loss=0.156] \n",
      "100%|██████████| 157/157 [00:04<00:00, 33.40it/s]\n"
     ]
    },
    {
     "name": "stdout",
     "output_type": "stream",
     "text": [
      "train loss: 0.15587 | train acc: 0.947 | val_loss: 0.08795 | val acc: 0.975\n",
      "Best epoch 20 | val loss min: 0.02569\n"
     ]
    },
    {
     "name": "stderr",
     "output_type": "stream",
     "text": [
      "Epoch 24/39 | LR: 0.00007: 100%|██████████| 40/40 [00:09<00:00,  4.36it/s, loss=0.104] \n",
      "100%|██████████| 157/157 [00:04<00:00, 33.19it/s]\n"
     ]
    },
    {
     "name": "stdout",
     "output_type": "stream",
     "text": [
      "train loss: 0.10449 | train acc: 0.954 | val_loss: 0.04578 | val acc: 0.981\n",
      "Best epoch 20 | val loss min: 0.02569\n"
     ]
    },
    {
     "name": "stderr",
     "output_type": "stream",
     "text": [
      "Epoch 25/39 | LR: 0.00003: 100%|██████████| 40/40 [00:09<00:00,  4.44it/s, loss=0.122] \n",
      "100%|██████████| 157/157 [00:04<00:00, 33.73it/s]\n"
     ]
    },
    {
     "name": "stdout",
     "output_type": "stream",
     "text": [
      "train loss: 0.12226 | train acc: 0.955 | val_loss: 0.05100 | val acc: 0.981\n",
      "Best epoch 20 | val loss min: 0.02569\n"
     ]
    },
    {
     "name": "stderr",
     "output_type": "stream",
     "text": [
      "Epoch 26/39 | LR: 0.00008: 100%|██████████| 40/40 [00:09<00:00,  4.42it/s, loss=0.107] \n",
      "100%|██████████| 157/157 [00:04<00:00, 33.43it/s]\n"
     ]
    },
    {
     "name": "stdout",
     "output_type": "stream",
     "text": [
      "train loss: 0.10711 | train acc: 0.963 | val_loss: 0.05851 | val acc: 0.981\n",
      "Best epoch 20 | val loss min: 0.02569\n"
     ]
    },
    {
     "name": "stderr",
     "output_type": "stream",
     "text": [
      "Epoch 27/39 | LR: 0.00002: 100%|██████████| 40/40 [00:08<00:00,  4.98it/s, loss=0.104] \n",
      "100%|██████████| 157/157 [00:04<00:00, 33.87it/s]\n"
     ]
    },
    {
     "name": "stdout",
     "output_type": "stream",
     "text": [
      "train loss: 0.10394 | train acc: 0.971 | val_loss: 0.02675 | val acc: 0.987\n",
      "Best epoch 20 | val loss min: 0.02569\n"
     ]
    },
    {
     "name": "stderr",
     "output_type": "stream",
     "text": [
      "Epoch 28/39 | LR: 0.00008: 100%|██████████| 40/40 [00:09<00:00,  4.15it/s, loss=0.0879]\n",
      "100%|██████████| 157/157 [00:04<00:00, 33.40it/s]\n"
     ]
    },
    {
     "name": "stdout",
     "output_type": "stream",
     "text": [
      "train loss: 0.08795 | train acc: 0.970 | val_loss: 0.08576 | val acc: 0.975\n",
      "Best epoch 20 | val loss min: 0.02569\n"
     ]
    },
    {
     "name": "stderr",
     "output_type": "stream",
     "text": [
      "Epoch 29/39 | LR: 0.00001: 100%|██████████| 40/40 [00:09<00:00,  4.22it/s, loss=0.096] \n",
      "100%|██████████| 157/157 [00:04<00:00, 33.90it/s]\n"
     ]
    },
    {
     "name": "stdout",
     "output_type": "stream",
     "text": [
      "train loss: 0.09595 | train acc: 0.963 | val_loss: 0.07201 | val acc: 0.975\n",
      "Best epoch 20 | val loss min: 0.02569\n"
     ]
    },
    {
     "name": "stderr",
     "output_type": "stream",
     "text": [
      "Epoch 30/39 | LR: 0.00009: 100%|██████████| 40/40 [00:09<00:00,  4.35it/s, loss=0.104] \n",
      "100%|██████████| 157/157 [00:04<00:00, 33.69it/s]\n"
     ]
    },
    {
     "name": "stdout",
     "output_type": "stream",
     "text": [
      "train loss: 0.10422 | train acc: 0.971 | val_loss: 0.03647 | val acc: 0.987\n",
      "Best epoch 20 | val loss min: 0.02569\n"
     ]
    },
    {
     "name": "stderr",
     "output_type": "stream",
     "text": [
      "Epoch 31/39 | LR: 0.00001: 100%|██████████| 40/40 [00:08<00:00,  4.57it/s, loss=0.215] \n",
      "100%|██████████| 157/157 [00:04<00:00, 33.72it/s]\n"
     ]
    },
    {
     "name": "stdout",
     "output_type": "stream",
     "text": [
      "train loss: 0.21478 | train acc: 0.952 | val_loss: 0.05876 | val acc: 0.987\n",
      "Best epoch 20 | val loss min: 0.02569\n"
     ]
    },
    {
     "name": "stderr",
     "output_type": "stream",
     "text": [
      "Epoch 32/39 | LR: 0.00009: 100%|██████████| 40/40 [00:09<00:00,  4.31it/s, loss=0.0898]\n",
      "100%|██████████| 157/157 [00:04<00:00, 33.91it/s]\n"
     ]
    },
    {
     "name": "stdout",
     "output_type": "stream",
     "text": [
      "train loss: 0.08982 | train acc: 0.965 | val_loss: 0.04483 | val acc: 0.987\n",
      "Best epoch 20 | val loss min: 0.02569\n"
     ]
    },
    {
     "name": "stderr",
     "output_type": "stream",
     "text": [
      "Epoch 33/39 | LR: 0.00000: 100%|██████████| 40/40 [00:08<00:00,  4.51it/s, loss=0.0738]\n",
      "100%|██████████| 157/157 [00:04<00:00, 33.81it/s]\n"
     ]
    },
    {
     "name": "stdout",
     "output_type": "stream",
     "text": [
      "train loss: 0.07383 | train acc: 0.971 | val_loss: 0.05526 | val acc: 0.987\n",
      "Best epoch 20 | val loss min: 0.02569\n"
     ]
    },
    {
     "name": "stderr",
     "output_type": "stream",
     "text": [
      "Epoch 34/39 | LR: 0.00010: 100%|██████████| 40/40 [00:08<00:00,  4.53it/s, loss=0.0793]\n",
      "100%|██████████| 157/157 [00:04<00:00, 33.84it/s]\n"
     ]
    },
    {
     "name": "stdout",
     "output_type": "stream",
     "text": [
      "train loss: 0.07926 | train acc: 0.970 | val_loss: 0.04856 | val acc: 0.994\n",
      "Best epoch 20 | val loss min: 0.02569\n"
     ]
    },
    {
     "name": "stderr",
     "output_type": "stream",
     "text": [
      "Epoch 35/39 | LR: 0.00000: 100%|██████████| 40/40 [00:08<00:00,  4.88it/s, loss=0.0822]\n",
      "100%|██████████| 157/157 [00:04<00:00, 33.76it/s]\n"
     ]
    },
    {
     "name": "stdout",
     "output_type": "stream",
     "text": [
      "train loss: 0.08219 | train acc: 0.971 | val_loss: 0.01541 | val acc: 1.000\n",
      "Valid loss improved from 0.02569 to 0.01541 saving model to ./models/resnet50_synth_uku_all_binary_CvsH.pth\n",
      "Best epoch 35 | val loss min: 0.01541\n"
     ]
    },
    {
     "name": "stderr",
     "output_type": "stream",
     "text": [
      "Epoch 36/39 | LR: 0.00010: 100%|██████████| 40/40 [00:09<00:00,  4.42it/s, loss=0.0834]\n",
      "100%|██████████| 157/157 [00:04<00:00, 33.89it/s]\n"
     ]
    },
    {
     "name": "stdout",
     "output_type": "stream",
     "text": [
      "train loss: 0.08342 | train acc: 0.970 | val_loss: 0.05477 | val acc: 0.994\n",
      "Best epoch 35 | val loss min: 0.01541\n"
     ]
    },
    {
     "name": "stderr",
     "output_type": "stream",
     "text": [
      "Epoch 37/39 | LR: 0.00000: 100%|██████████| 40/40 [00:08<00:00,  4.45it/s, loss=0.0835]\n",
      "100%|██████████| 157/157 [00:04<00:00, 33.91it/s]\n"
     ]
    },
    {
     "name": "stdout",
     "output_type": "stream",
     "text": [
      "train loss: 0.08345 | train acc: 0.976 | val_loss: 0.02329 | val acc: 0.987\n",
      "Best epoch 35 | val loss min: 0.01541\n"
     ]
    },
    {
     "name": "stderr",
     "output_type": "stream",
     "text": [
      "Epoch 38/39 | LR: 0.00010: 100%|██████████| 40/40 [00:09<00:00,  4.35it/s, loss=0.0583]\n",
      "100%|██████████| 157/157 [00:04<00:00, 33.89it/s]\n"
     ]
    },
    {
     "name": "stdout",
     "output_type": "stream",
     "text": [
      "train loss: 0.05826 | train acc: 0.986 | val_loss: 0.04084 | val acc: 0.987\n",
      "Best epoch 35 | val loss min: 0.01541\n"
     ]
    },
    {
     "name": "stderr",
     "output_type": "stream",
     "text": [
      "Epoch 39/39 | LR: 0.00000: 100%|██████████| 40/40 [00:09<00:00,  4.32it/s, loss=0.129]\n",
      "100%|██████████| 157/157 [00:04<00:00, 33.75it/s]"
     ]
    },
    {
     "name": "stdout",
     "output_type": "stream",
     "text": [
      "train loss: 0.12862 | train acc: 0.954 | val_loss: 0.03456 | val acc: 0.994\n",
      "Best epoch 35 | val loss min: 0.01541\n"
     ]
    },
    {
     "name": "stderr",
     "output_type": "stream",
     "text": [
      "\n"
     ]
    }
   ],
   "source": [
    "for epoch in range(epochs):\n",
    "    model.train()\n",
    "    train_loss = []\n",
    "    train_running_corrects = 0\n",
    "    val_running_corrects = 0\n",
    "    \n",
    "    loop = tqdm(train_loader)\n",
    "    for images, labels in loop:\n",
    "        images = images.to(device)\n",
    "        labels = labels.to(device)\n",
    "        \n",
    "        optimizer.zero_grad()\n",
    "        \n",
    "        with torch.cuda.amp.autocast():\n",
    "            outputs = model(images)\n",
    "            loss = criterion(outputs, labels)\n",
    "            \n",
    "            train_loss.append(loss.item())\n",
    "            \n",
    "            _, predicted = torch.max(outputs.data, 1)\n",
    "            #_,labels = torch.max(labels.data, 1)\n",
    "            train_running_corrects += torch.sum(predicted == labels.data)\n",
    "            \n",
    "        scaler.scale(loss).backward()\n",
    "        scaler.step(optimizer)\n",
    "        scaler.update()\n",
    "        \n",
    "        scheduler.step()\n",
    "\n",
    "        loop.set_description('Epoch {:02d}/{:02d} | LR: {:.5f}'.format(epoch, epochs-1, optimizer.param_groups[0]['lr']))\n",
    "        loop.set_postfix(loss=np.mean(train_loss))\n",
    "\n",
    "    train_loss = np.mean(train_loss)\n",
    "    train_epoch_acc = train_running_corrects.double() / len(train_loader.dataset)\n",
    "    \n",
    "    model.eval()\n",
    "\n",
    "    val_loss = 0\n",
    "\n",
    "    for images, labels in tqdm(valid_loader):\n",
    "        images = images.to(device)\n",
    "        labels = labels.to(device)\n",
    "\n",
    "        with torch.cuda.amp.autocast(), torch.no_grad():\n",
    "            outputs = model(images)\n",
    "            loss = criterion(outputs, labels)\n",
    "            \n",
    "            val_loss += loss.item()\n",
    "            \n",
    "            _, predicted = torch.max(outputs.data, 1)\n",
    "            #_,labels = torch.max(labels.data, 1)\n",
    "            val_running_corrects += torch.sum(predicted == labels.data)\n",
    "\n",
    "    val_loss /= len(valid_loader.dataset)\n",
    "    val_epoch_acc = val_running_corrects.double() / len(valid_loader.dataset)\n",
    "    \n",
    "    print(f'train loss: {train_loss:.5f} | train acc: {train_epoch_acc:.3f} | val_loss: {val_loss:.5f} | val acc: {val_epoch_acc:.3f}')\n",
    "    \n",
    "    if val_loss < val_loss_min:\n",
    "            print(f'Valid loss improved from {val_loss_min:.5f} to {val_loss:.5f} saving model to {CHECKPOINT}')\n",
    "            val_loss_min = val_loss\n",
    "            best_epoch = epoch\n",
    "            torch.save(model.state_dict(), CHECKPOINT)\n",
    "    \n",
    "    print(f'Best epoch {best_epoch} | val loss min: {val_loss_min:.5f}')"
   ]
  },
  {
   "cell_type": "markdown",
   "id": "sharing-assistant",
   "metadata": {
    "tags": []
   },
   "source": [
    "### Visualize predictions"
   ]
  },
  {
   "cell_type": "code",
   "execution_count": 27,
   "id": "passing-jumping",
   "metadata": {
    "tags": []
   },
   "outputs": [],
   "source": [
    "model_inf = timm.create_model('resnet50', pretrained=True, num_classes=num_classes)\n",
    "num_ftrs = model_inf.get_classifier().in_features\n",
    "if dropout:\n",
    "    model_inf.fc = nn.Sequential(\n",
    "                            nn.Dropout(dropout_percent),\n",
    "                            nn.Linear(num_ftrs,num_classes)\n",
    "    )\n",
    "else:\n",
    "    model_inf.fc = nn.Linear(num_ftrs, num_classes)\n",
    "\n",
    "model_inf.load_state_dict(torch.load(CHECKPOINT))\n",
    "model_inf.to(device) \n",
    "model_inf = model_inf.eval()"
   ]
  },
  {
   "cell_type": "code",
   "execution_count": 28,
   "id": "terminal-transformation",
   "metadata": {},
   "outputs": [],
   "source": [
    "valid_dataset = Dataset(\n",
    "    df_uku_binary.loc[df_uku_binary['split']=='test',:], \n",
    "    augmentation=get_validation_augmentation(), \n",
    "    preprocessing=get_preprocessing(),\n",
    ")"
   ]
  },
  {
   "cell_type": "markdown",
   "id": "instrumental-silence",
   "metadata": {},
   "source": [
    "#### Validation data"
   ]
  },
  {
   "cell_type": "code",
   "execution_count": 29,
   "id": "comparative-programming",
   "metadata": {},
   "outputs": [],
   "source": [
    "# For confusion matrix\n",
    "label_array = np.array([], dtype='int64')\n",
    "prediction_array = np.array([], dtype='int64')"
   ]
  },
  {
   "cell_type": "code",
   "execution_count": 30,
   "id": "differential-portland",
   "metadata": {},
   "outputs": [],
   "source": [
    "with torch.no_grad():\n",
    "    model_inf.eval()\n",
    "    for images, labels in valid_dataset:\n",
    "        images = torch.from_numpy(images).to(device).unsqueeze(0)\n",
    "        #labels = labels.to(device)\n",
    "        \n",
    "        cls_outputs = model_inf(images)\n",
    "        _, predicted = torch.max(cls_outputs.data, 1)\n",
    "        #_,labels = torch.max(labels.data, 0)\n",
    "        label_array = np.append(label_array, labels)\n",
    "        prediction_array = np.append(prediction_array, predicted.detach().cpu().numpy())"
   ]
  },
  {
   "cell_type": "code",
   "execution_count": 31,
   "id": "supported-apartment",
   "metadata": {},
   "outputs": [],
   "source": [
    "%matplotlib inline"
   ]
  },
  {
   "cell_type": "code",
   "execution_count": 33,
   "id": "elder-longitude",
   "metadata": {},
   "outputs": [
    {
     "data": {
      "image/png": "[encoded data removed]",
      "text/plain": [
       "<Figure size 800x500 with 1 Axes>"
      ]
     },
     "metadata": {
      "needs_background": "light"
     },
     "output_type": "display_data"
    }
   ],
   "source": [
    "fig, ax = plt.subplots(figsize=(8,5),dpi=100)\n",
    "ConfusionMatrixDisplay.from_predictions(label_array,prediction_array,display_labels=df_uku_binary['class'].cat.categories,cmap='Blues',colorbar=False,ax=ax)\n",
    "plt.show()"
   ]
  },
  {
   "cell_type": "code",
   "execution_count": 34,
   "id": "opened-charity",
   "metadata": {},
   "outputs": [
    {
     "name": "stdout",
     "output_type": "stream",
     "text": [
      "              precision    recall  f1-score   support\n",
      "\n",
      "           C     1.0000    1.0000    1.0000        22\n",
      "           H     1.0000    1.0000    1.0000       135\n",
      "\n",
      "    accuracy                         1.0000       157\n",
      "   macro avg     1.0000    1.0000    1.0000       157\n",
      "weighted avg     1.0000    1.0000    1.0000       157\n",
      "\n"
     ]
    }
   ],
   "source": [
    "print(classification_report(label_array, prediction_array, digits=4,target_names=df_uku_binary['class'].cat.categories))"
   ]
  },
  {
   "cell_type": "code",
   "execution_count": null,
   "id": "suspended-cosmetic",
   "metadata": {},
   "outputs": [],
   "source": []
  }
 ],
 "metadata": {
  "kernelspec": {
   "display_name": "Python 3",
   "language": "python",
   "name": "python3"
  },
  "language_info": {
   "codemirror_mode": {
    "name": "ipython",
    "version": 3
   },
   "file_extension": ".py",
   "mimetype": "text/x-python",
   "name": "python",
   "nbconvert_exporter": "python",
   "pygments_lexer": "ipython3",
   "version": "3.9.10"
  }
 },
 "nbformat": 4,
 "nbformat_minor": 5
}
