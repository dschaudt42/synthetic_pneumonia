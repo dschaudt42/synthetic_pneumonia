{
 "cells": [
  {
   "cell_type": "code",
   "execution_count": 1,
   "metadata": {},
   "outputs": [],
   "source": [
    "import pandas as pd\n",
    "from tqdm import tqdm\n",
    "import shutil\n",
    "from pathlib import Path"
   ]
  },
  {
   "cell_type": "code",
   "execution_count": 2,
   "metadata": {},
   "outputs": [],
   "source": [
    "src_dir = '../../data/segmentation_test/raw'\n",
    "tar_dir = '../../data/segmentation_test/train_per_class'\n",
    "tar_dir2 = '../../data/segmentation_test/test_per_class'\n",
    "metadata_file = '../../data/segmentation_test/image_patient_splits.csv'"
   ]
  },
  {
   "cell_type": "code",
   "execution_count": 3,
   "metadata": {},
   "outputs": [],
   "source": [
    "df = pd.read_csv(metadata_file)"
   ]
  },
  {
   "cell_type": "code",
   "execution_count": 4,
   "metadata": {},
   "outputs": [
    {
     "data": {
      "text/html": [
       "<div>\n",
       "<style scoped>\n",
       "    .dataframe tbody tr th:only-of-type {\n",
       "        vertical-align: middle;\n",
       "    }\n",
       "\n",
       "    .dataframe tbody tr th {\n",
       "        vertical-align: top;\n",
       "    }\n",
       "\n",
       "    .dataframe thead th {\n",
       "        text-align: right;\n",
       "    }\n",
       "</style>\n",
       "<table border=\"1\" class=\"dataframe\">\n",
       "  <thead>\n",
       "    <tr style=\"text-align: right;\">\n",
       "      <th></th>\n",
       "      <th>file_name</th>\n",
       "      <th>class</th>\n",
       "      <th>split_old</th>\n",
       "      <th>patient_id</th>\n",
       "      <th>split</th>\n",
       "    </tr>\n",
       "  </thead>\n",
       "  <tbody>\n",
       "    <tr>\n",
       "      <th>0</th>\n",
       "      <td>C59.png</td>\n",
       "      <td>C</td>\n",
       "      <td>train</td>\n",
       "      <td>C57</td>\n",
       "      <td>train</td>\n",
       "    </tr>\n",
       "    <tr>\n",
       "      <th>1</th>\n",
       "      <td>NB46.png</td>\n",
       "      <td>NB</td>\n",
       "      <td>train</td>\n",
       "      <td>NB46</td>\n",
       "      <td>valid</td>\n",
       "    </tr>\n",
       "    <tr>\n",
       "      <th>2</th>\n",
       "      <td>NB663.png</td>\n",
       "      <td>NB</td>\n",
       "      <td>valid</td>\n",
       "      <td>NB663</td>\n",
       "      <td>train</td>\n",
       "    </tr>\n",
       "    <tr>\n",
       "      <th>3</th>\n",
       "      <td>V29.png</td>\n",
       "      <td>V</td>\n",
       "      <td>train</td>\n",
       "      <td>V23</td>\n",
       "      <td>valid</td>\n",
       "    </tr>\n",
       "    <tr>\n",
       "      <th>4</th>\n",
       "      <td>NB626.png</td>\n",
       "      <td>NB</td>\n",
       "      <td>train</td>\n",
       "      <td>NB626</td>\n",
       "      <td>valid</td>\n",
       "    </tr>\n",
       "  </tbody>\n",
       "</table>\n",
       "</div>"
      ],
      "text/plain": [
       "   file_name class split_old patient_id  split\n",
       "0    C59.png     C     train        C57  train\n",
       "1   NB46.png    NB     train       NB46  valid\n",
       "2  NB663.png    NB     valid      NB663  train\n",
       "3    V29.png     V     train        V23  valid\n",
       "4  NB626.png    NB     train      NB626  valid"
      ]
     },
     "execution_count": 4,
     "metadata": {},
     "output_type": "execute_result"
    }
   ],
   "source": [
    "df.head()"
   ]
  },
  {
   "cell_type": "code",
   "execution_count": 17,
   "metadata": {},
   "outputs": [
    {
     "name": "stderr",
     "output_type": "stream",
     "text": [
      "865it [00:08, 107.65it/s]\n"
     ]
    }
   ],
   "source": [
    "for index, row in tqdm(df[df['split']=='train'].iterrows()):\n",
    "    source = f'{src_dir}/{row[\"file_name\"]}'\n",
    "    target = f'{tar_dir}/{row[\"class\"]}/{row[\"file_name\"]}'\n",
    "    if not Path(target).parent.exists():\n",
    "        Path(target).parent.mkdir(parents=True, exist_ok=True)\n",
    "\n",
    "    shutil.copy2(source,target)"
   ]
  },
  {
   "cell_type": "code",
   "execution_count": 5,
   "metadata": {},
   "outputs": [
    {
     "name": "stderr",
     "output_type": "stream",
     "text": [
      "217it [00:01, 138.51it/s]\n"
     ]
    }
   ],
   "source": [
    "for index, row in tqdm(df[df['split']=='valid'].iterrows()):\n",
    "    source = f'{src_dir}/{row[\"file_name\"]}'\n",
    "    target = f'{tar_dir2}/{row[\"class\"]}/{row[\"file_name\"]}'\n",
    "    if not Path(target).parent.exists():\n",
    "        Path(target).parent.mkdir(parents=True, exist_ok=True)\n",
    "\n",
    "    shutil.copy2(source,target)"
   ]
  }
 ],
 "metadata": {
  "kernelspec": {
   "display_name": "pytorch_seg",
   "language": "python",
   "name": "python3"
  },
  "language_info": {
   "codemirror_mode": {
    "name": "ipython",
    "version": 3
   },
   "file_extension": ".py",
   "mimetype": "text/x-python",
   "name": "python",
   "nbconvert_exporter": "python",
   "pygments_lexer": "ipython3",
   "version": "3.9.15"
  },
  "orig_nbformat": 4
 },
 "nbformat": 4,
 "nbformat_minor": 2
}
