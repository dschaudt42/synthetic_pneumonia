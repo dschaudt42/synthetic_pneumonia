{
 "cells": [
  {
   "cell_type": "markdown",
   "id": "colonial-quilt",
   "metadata": {},
   "source": [
    "## Training for Synth Paper 2022"
   ]
  },
  {
   "cell_type": "markdown",
   "id": "signed-flour",
   "metadata": {},
   "source": [
    "### Loading data"
   ]
  },
  {
   "cell_type": "code",
   "execution_count": 1,
   "id": "crude-water",
   "metadata": {},
   "outputs": [],
   "source": [
    "import os\n",
    "import glob\n",
    "from pathlib import Path\n",
    "import numpy as np\n",
    "import pandas as pd\n",
    "import cv2\n",
    "import matplotlib.pyplot as plt\n",
    "from timm.data import IMAGENET_DEFAULT_MEAN, IMAGENET_DEFAULT_STD\n",
    "from tqdm import tqdm\n",
    "\n",
    "import torch\n",
    "import torch.nn as nn\n",
    "import torch.optim as optim\n",
    "from torchvision import models\n",
    "import numpy as np\n",
    "import timm\n",
    "\n",
    "import albumentations as albu\n",
    "from sklearn.metrics import classification_report,ConfusionMatrixDisplay\n",
    "from sklearn.model_selection import train_test_split\n",
    "\n",
    "from torch.utils.data import DataLoader\n",
    "from torch.utils.data import Dataset as BaseDataset"
   ]
  },
  {
   "cell_type": "code",
   "execution_count": 2,
   "id": "dimensional-mills",
   "metadata": {},
   "outputs": [],
   "source": [
    "device = torch.device(\"cuda\" if torch.cuda.is_available() else \"cpu\")"
   ]
  },
  {
   "cell_type": "code",
   "execution_count": 3,
   "id": "reasonable-anatomy",
   "metadata": {},
   "outputs": [],
   "source": [
    "# helper function for data visualization\n",
    "def visualize(label, **images):\n",
    "    \"\"\"PLot images in one row.\"\"\"\n",
    "    n = len(images)\n",
    "    plt.figure(figsize=(16, 5))\n",
    "    for i, (name, image) in enumerate(images.items()):\n",
    "        plt.subplot(1, n, i + 1)\n",
    "        plt.xticks([])\n",
    "        plt.yticks([])\n",
    "        #plt.title(' '.join(name.split('_')).title())\n",
    "        plt.title(f'{name.title()} | GT: {label}')\n",
    "        plt.imshow(image)\n",
    "    plt.show()"
   ]
  },
  {
   "cell_type": "markdown",
   "id": "prompt-edwards",
   "metadata": {
    "tags": []
   },
   "source": [
    "### Data Preparation"
   ]
  },
  {
   "cell_type": "code",
   "execution_count": 4,
   "id": "stretch-arcade",
   "metadata": {},
   "outputs": [],
   "source": [
    "df = pd.read_csv('synth_paper_data.csv')\n",
    "df['class'] = df['class'].astype('category')"
   ]
  },
  {
   "cell_type": "code",
   "execution_count": 5,
   "id": "protecting-train",
   "metadata": {},
   "outputs": [
    {
     "data": {
      "text/html": [
       "<div>\n",
       "<style scoped>\n",
       "    .dataframe tbody tr th:only-of-type {\n",
       "        vertical-align: middle;\n",
       "    }\n",
       "\n",
       "    .dataframe tbody tr th {\n",
       "        vertical-align: top;\n",
       "    }\n",
       "\n",
       "    .dataframe thead th {\n",
       "        text-align: right;\n",
       "    }\n",
       "</style>\n",
       "<table border=\"1\" class=\"dataframe\">\n",
       "  <thead>\n",
       "    <tr style=\"text-align: right;\">\n",
       "      <th></th>\n",
       "      <th>file_path</th>\n",
       "      <th>file_name</th>\n",
       "      <th>source</th>\n",
       "      <th>split</th>\n",
       "      <th>class</th>\n",
       "      <th>label_encoded</th>\n",
       "    </tr>\n",
       "  </thead>\n",
       "  <tbody>\n",
       "    <tr>\n",
       "      <th>18009</th>\n",
       "      <td>../../data/generated_data/cs_uu/covid/sample_6...</td>\n",
       "      <td>sample_6626.png</td>\n",
       "      <td>Synth</td>\n",
       "      <td>train</td>\n",
       "      <td>C</td>\n",
       "      <td>1</td>\n",
       "    </tr>\n",
       "    <tr>\n",
       "      <th>30924</th>\n",
       "      <td>../../data/Covidx/data_with_classes/train/norm...</td>\n",
       "      <td>f27252da-ac5d-46b2-8df9-32e09763574b.png</td>\n",
       "      <td>Covidx</td>\n",
       "      <td>train</td>\n",
       "      <td>H</td>\n",
       "      <td>3</td>\n",
       "    </tr>\n",
       "    <tr>\n",
       "      <th>3671</th>\n",
       "      <td>../../data/generated_data/cs_uu/nb/sample_1931...</td>\n",
       "      <td>sample_1931.png</td>\n",
       "      <td>Synth</td>\n",
       "      <td>train</td>\n",
       "      <td>H</td>\n",
       "      <td>3</td>\n",
       "    </tr>\n",
       "    <tr>\n",
       "      <th>27725</th>\n",
       "      <td>../../data/Covidx/data_with_classes/train/norm...</td>\n",
       "      <td>b33610c9-a152-47f8-8ee5-4f81dce62938.png</td>\n",
       "      <td>Covidx</td>\n",
       "      <td>train</td>\n",
       "      <td>H</td>\n",
       "      <td>3</td>\n",
       "    </tr>\n",
       "    <tr>\n",
       "      <th>30891</th>\n",
       "      <td>../../data/Covidx/data_with_classes/train/norm...</td>\n",
       "      <td>4cced631-6710-435c-b822-e7880a448a63.png</td>\n",
       "      <td>Covidx</td>\n",
       "      <td>train</td>\n",
       "      <td>H</td>\n",
       "      <td>3</td>\n",
       "    </tr>\n",
       "  </tbody>\n",
       "</table>\n",
       "</div>"
      ],
      "text/plain": [
       "                                               file_path  \\\n",
       "18009  ../../data/generated_data/cs_uu/covid/sample_6...   \n",
       "30924  ../../data/Covidx/data_with_classes/train/norm...   \n",
       "3671   ../../data/generated_data/cs_uu/nb/sample_1931...   \n",
       "27725  ../../data/Covidx/data_with_classes/train/norm...   \n",
       "30891  ../../data/Covidx/data_with_classes/train/norm...   \n",
       "\n",
       "                                      file_name  source  split class  \\\n",
       "18009                           sample_6626.png   Synth  train     C   \n",
       "30924  f27252da-ac5d-46b2-8df9-32e09763574b.png  Covidx  train     H   \n",
       "3671                            sample_1931.png   Synth  train     H   \n",
       "27725  b33610c9-a152-47f8-8ee5-4f81dce62938.png  Covidx  train     H   \n",
       "30891  4cced631-6710-435c-b822-e7880a448a63.png  Covidx  train     H   \n",
       "\n",
       "       label_encoded  \n",
       "18009              1  \n",
       "30924              3  \n",
       "3671               3  \n",
       "27725              3  \n",
       "30891              3  "
      ]
     },
     "execution_count": 5,
     "metadata": {},
     "output_type": "execute_result"
    }
   ],
   "source": [
    "df.sample(5)"
   ]
  },
  {
   "cell_type": "code",
   "execution_count": 6,
   "id": "composed-canyon",
   "metadata": {},
   "outputs": [
    {
     "data": {
      "text/plain": [
       "array(['UKU_old_split', 'UKU_all', 'Synth', 'Covidx'], dtype=object)"
      ]
     },
     "execution_count": 6,
     "metadata": {},
     "output_type": "execute_result"
    }
   ],
   "source": [
    "df['source'].unique()"
   ]
  },
  {
   "cell_type": "code",
   "execution_count": 7,
   "id": "innovative-assembly",
   "metadata": {},
   "outputs": [
    {
     "data": {
      "text/plain": [
       "H    673\n",
       "F    125\n",
       "C    110\n",
       "B    100\n",
       "V     74\n",
       "Name: class, dtype: int64"
      ]
     },
     "execution_count": 7,
     "metadata": {},
     "output_type": "execute_result"
    }
   ],
   "source": [
    "df.loc[df['source']=='UKU_all','class'].value_counts()"
   ]
  },
  {
   "cell_type": "code",
   "execution_count": 8,
   "id": "greek-costume",
   "metadata": {},
   "outputs": [],
   "source": [
    "df_uku_binary = df.loc[df['source']=='UKU_all'].copy()"
   ]
  },
  {
   "cell_type": "code",
   "execution_count": 9,
   "id": "sweet-sheffield",
   "metadata": {},
   "outputs": [],
   "source": [
    "cls_map = {'C' : 'P',\n",
    "           'H' : 'H',\n",
    "           'V' : 'P',\n",
    "           'F' : 'P',\n",
    "           'B' : 'P'}"
   ]
  },
  {
   "cell_type": "code",
   "execution_count": 10,
   "id": "divine-victim",
   "metadata": {},
   "outputs": [],
   "source": [
    "df_uku_binary['class'] = df_uku_binary['class'].map(cls_map)"
   ]
  },
  {
   "cell_type": "code",
   "execution_count": 11,
   "id": "female-satellite",
   "metadata": {},
   "outputs": [],
   "source": [
    "df_uku_binary['class'] = df_uku_binary['class'].astype('category')\n",
    "df_uku_binary['label_encoded'] = df_uku_binary['class'].cat.codes.astype('int64')"
   ]
  },
  {
   "cell_type": "code",
   "execution_count": 12,
   "id": "gothic-sector",
   "metadata": {},
   "outputs": [
    {
     "data": {
      "text/plain": [
       "train    865\n",
       "test     217\n",
       "Name: split, dtype: int64"
      ]
     },
     "execution_count": 12,
     "metadata": {},
     "output_type": "execute_result"
    }
   ],
   "source": [
    "df_uku_binary['split'].value_counts()"
   ]
  },
  {
   "cell_type": "code",
   "execution_count": 13,
   "id": "advanced-oakland",
   "metadata": {},
   "outputs": [
    {
     "data": {
      "text/html": [
       "<div>\n",
       "<style scoped>\n",
       "    .dataframe tbody tr th:only-of-type {\n",
       "        vertical-align: middle;\n",
       "    }\n",
       "\n",
       "    .dataframe tbody tr th {\n",
       "        vertical-align: top;\n",
       "    }\n",
       "\n",
       "    .dataframe thead tr th {\n",
       "        text-align: left;\n",
       "    }\n",
       "\n",
       "    .dataframe thead tr:last-of-type th {\n",
       "        text-align: right;\n",
       "    }\n",
       "</style>\n",
       "<table border=\"1\" class=\"dataframe\">\n",
       "  <thead>\n",
       "    <tr>\n",
       "      <th></th>\n",
       "      <th colspan=\"2\" halign=\"left\">file_name</th>\n",
       "    </tr>\n",
       "    <tr>\n",
       "      <th>class</th>\n",
       "      <th>H</th>\n",
       "      <th>P</th>\n",
       "    </tr>\n",
       "    <tr>\n",
       "      <th>split</th>\n",
       "      <th></th>\n",
       "      <th></th>\n",
       "    </tr>\n",
       "  </thead>\n",
       "  <tbody>\n",
       "    <tr>\n",
       "      <th>test</th>\n",
       "      <td>135</td>\n",
       "      <td>82</td>\n",
       "    </tr>\n",
       "    <tr>\n",
       "      <th>train</th>\n",
       "      <td>538</td>\n",
       "      <td>327</td>\n",
       "    </tr>\n",
       "  </tbody>\n",
       "</table>\n",
       "</div>"
      ],
      "text/plain": [
       "      file_name     \n",
       "class         H    P\n",
       "split               \n",
       "test        135   82\n",
       "train       538  327"
      ]
     },
     "execution_count": 13,
     "metadata": {},
     "output_type": "execute_result"
    }
   ],
   "source": [
    "pd.pivot_table(df_uku_binary,values=['file_name'],index=['split'],columns=['class'],aggfunc='count')"
   ]
  },
  {
   "cell_type": "code",
   "execution_count": 14,
   "id": "elder-legislature",
   "metadata": {},
   "outputs": [
    {
     "data": {
      "text/html": [
       "<div>\n",
       "<style scoped>\n",
       "    .dataframe tbody tr th:only-of-type {\n",
       "        vertical-align: middle;\n",
       "    }\n",
       "\n",
       "    .dataframe tbody tr th {\n",
       "        vertical-align: top;\n",
       "    }\n",
       "\n",
       "    .dataframe thead th {\n",
       "        text-align: right;\n",
       "    }\n",
       "</style>\n",
       "<table border=\"1\" class=\"dataframe\">\n",
       "  <thead>\n",
       "    <tr style=\"text-align: right;\">\n",
       "      <th></th>\n",
       "      <th>file_path</th>\n",
       "      <th>file_name</th>\n",
       "      <th>source</th>\n",
       "      <th>split</th>\n",
       "      <th>class</th>\n",
       "      <th>label_encoded</th>\n",
       "    </tr>\n",
       "  </thead>\n",
       "  <tbody>\n",
       "    <tr>\n",
       "      <th>333</th>\n",
       "      <td>../../data/segmentation_test/raw/C59.png</td>\n",
       "      <td>C59.png</td>\n",
       "      <td>UKU_all</td>\n",
       "      <td>train</td>\n",
       "      <td>P</td>\n",
       "      <td>1</td>\n",
       "    </tr>\n",
       "    <tr>\n",
       "      <th>334</th>\n",
       "      <td>../../data/segmentation_test/raw/NB46.png</td>\n",
       "      <td>NB46.png</td>\n",
       "      <td>UKU_all</td>\n",
       "      <td>train</td>\n",
       "      <td>H</td>\n",
       "      <td>0</td>\n",
       "    </tr>\n",
       "    <tr>\n",
       "      <th>335</th>\n",
       "      <td>../../data/segmentation_test/raw/NB663.png</td>\n",
       "      <td>NB663.png</td>\n",
       "      <td>UKU_all</td>\n",
       "      <td>train</td>\n",
       "      <td>H</td>\n",
       "      <td>0</td>\n",
       "    </tr>\n",
       "    <tr>\n",
       "      <th>336</th>\n",
       "      <td>../../data/segmentation_test/raw/V29.png</td>\n",
       "      <td>V29.png</td>\n",
       "      <td>UKU_all</td>\n",
       "      <td>train</td>\n",
       "      <td>P</td>\n",
       "      <td>1</td>\n",
       "    </tr>\n",
       "    <tr>\n",
       "      <th>337</th>\n",
       "      <td>../../data/segmentation_test/raw/NB626.png</td>\n",
       "      <td>NB626.png</td>\n",
       "      <td>UKU_all</td>\n",
       "      <td>train</td>\n",
       "      <td>H</td>\n",
       "      <td>0</td>\n",
       "    </tr>\n",
       "  </tbody>\n",
       "</table>\n",
       "</div>"
      ],
      "text/plain": [
       "                                      file_path  file_name   source  split  \\\n",
       "333    ../../data/segmentation_test/raw/C59.png    C59.png  UKU_all  train   \n",
       "334   ../../data/segmentation_test/raw/NB46.png   NB46.png  UKU_all  train   \n",
       "335  ../../data/segmentation_test/raw/NB663.png  NB663.png  UKU_all  train   \n",
       "336    ../../data/segmentation_test/raw/V29.png    V29.png  UKU_all  train   \n",
       "337  ../../data/segmentation_test/raw/NB626.png  NB626.png  UKU_all  train   \n",
       "\n",
       "    class  label_encoded  \n",
       "333     P              1  \n",
       "334     H              0  \n",
       "335     H              0  \n",
       "336     P              1  \n",
       "337     H              0  "
      ]
     },
     "execution_count": 14,
     "metadata": {},
     "output_type": "execute_result"
    }
   ],
   "source": [
    "df_uku_binary.head()"
   ]
  },
  {
   "cell_type": "markdown",
   "id": "convertible-sperm",
   "metadata": {},
   "source": [
    "Split on patients to avoid overlap:"
   ]
  },
  {
   "cell_type": "code",
   "execution_count": 15,
   "id": "efficient-information",
   "metadata": {},
   "outputs": [],
   "source": [
    "patients = pd.read_csv('../../data/segmentation_test/image_details_full.csv')"
   ]
  },
  {
   "cell_type": "code",
   "execution_count": 16,
   "id": "toxic-expert",
   "metadata": {},
   "outputs": [],
   "source": [
    "df_uku_binary_patients = pd.merge(df_uku_binary,patients,on='file_name')"
   ]
  },
  {
   "cell_type": "code",
   "execution_count": 17,
   "id": "harmful-diversity",
   "metadata": {},
   "outputs": [],
   "source": [
    "df_uku_binary_patients.drop('class_y',axis=1,inplace=True)\n",
    "df_uku_binary_patients.rename(columns={'class_x':'class'},inplace=True)"
   ]
  },
  {
   "cell_type": "code",
   "execution_count": 18,
   "id": "modified-pharmaceutical",
   "metadata": {},
   "outputs": [],
   "source": [
    "train_pat_ids, valid_pat_ids = train_test_split(df_uku_binary_patients['patient_id'].unique(),test_size=0.2, random_state=14)"
   ]
  },
  {
   "cell_type": "code",
   "execution_count": 19,
   "id": "funny-hartford",
   "metadata": {},
   "outputs": [
    {
     "data": {
      "text/plain": [
       "True     867\n",
       "False    215\n",
       "Name: patient_id, dtype: int64"
      ]
     },
     "execution_count": 19,
     "metadata": {},
     "output_type": "execute_result"
    }
   ],
   "source": [
    "df_uku_binary_patients['patient_id'].isin(train_pat_ids).value_counts()"
   ]
  },
  {
   "cell_type": "code",
   "execution_count": 20,
   "id": "imposed-completion",
   "metadata": {},
   "outputs": [
    {
     "data": {
      "text/plain": [
       "train    865\n",
       "test     217\n",
       "Name: split, dtype: int64"
      ]
     },
     "execution_count": 20,
     "metadata": {},
     "output_type": "execute_result"
    }
   ],
   "source": [
    "df_uku_binary_patients['split'].value_counts()"
   ]
  },
  {
   "cell_type": "code",
   "execution_count": 21,
   "id": "published-envelope",
   "metadata": {},
   "outputs": [
    {
     "data": {
      "text/plain": [
       "H    0.489834\n",
       "P    0.311460\n",
       "Name: class, dtype: float64"
      ]
     },
     "execution_count": 21,
     "metadata": {},
     "output_type": "execute_result"
    }
   ],
   "source": [
    "df_uku_binary_patients.loc[df_uku_binary_patients['patient_id'].isin(train_pat_ids),'class'].value_counts()/len(df_uku_binary_patients)"
   ]
  },
  {
   "cell_type": "code",
   "execution_count": 22,
   "id": "behind-values",
   "metadata": {},
   "outputs": [
    {
     "data": {
      "text/plain": [
       "H    0.621996\n",
       "P    0.378004\n",
       "Name: class, dtype: float64"
      ]
     },
     "execution_count": 22,
     "metadata": {},
     "output_type": "execute_result"
    }
   ],
   "source": [
    "df_uku_binary_patients['class'].value_counts()/len(df_uku_binary_patients)"
   ]
  },
  {
   "cell_type": "code",
   "execution_count": 23,
   "id": "consecutive-healing",
   "metadata": {},
   "outputs": [],
   "source": [
    "df_uku_binary_patients.loc[df_uku_binary_patients['patient_id'].isin(train_pat_ids),'patient_split'] = 'train'"
   ]
  },
  {
   "cell_type": "code",
   "execution_count": 24,
   "id": "textile-train",
   "metadata": {},
   "outputs": [],
   "source": [
    "df_uku_binary_patients.loc[df_uku_binary_patients['patient_id'].isin(valid_pat_ids),'patient_split'] = 'test'"
   ]
  },
  {
   "cell_type": "code",
   "execution_count": 25,
   "id": "short-disorder",
   "metadata": {},
   "outputs": [
    {
     "data": {
      "text/html": [
       "<div>\n",
       "<style scoped>\n",
       "    .dataframe tbody tr th:only-of-type {\n",
       "        vertical-align: middle;\n",
       "    }\n",
       "\n",
       "    .dataframe tbody tr th {\n",
       "        vertical-align: top;\n",
       "    }\n",
       "\n",
       "    .dataframe thead th {\n",
       "        text-align: right;\n",
       "    }\n",
       "</style>\n",
       "<table border=\"1\" class=\"dataframe\">\n",
       "  <thead>\n",
       "    <tr style=\"text-align: right;\">\n",
       "      <th></th>\n",
       "      <th>file_path</th>\n",
       "      <th>file_name</th>\n",
       "      <th>source</th>\n",
       "      <th>split</th>\n",
       "      <th>class</th>\n",
       "      <th>label_encoded</th>\n",
       "      <th>patient_id</th>\n",
       "      <th>patient_split</th>\n",
       "    </tr>\n",
       "  </thead>\n",
       "  <tbody>\n",
       "    <tr>\n",
       "      <th>0</th>\n",
       "      <td>../../data/segmentation_test/raw/C59.png</td>\n",
       "      <td>C59.png</td>\n",
       "      <td>UKU_all</td>\n",
       "      <td>train</td>\n",
       "      <td>P</td>\n",
       "      <td>1</td>\n",
       "      <td>C57</td>\n",
       "      <td>train</td>\n",
       "    </tr>\n",
       "    <tr>\n",
       "      <th>1</th>\n",
       "      <td>../../data/segmentation_test/raw/NB46.png</td>\n",
       "      <td>NB46.png</td>\n",
       "      <td>UKU_all</td>\n",
       "      <td>train</td>\n",
       "      <td>H</td>\n",
       "      <td>0</td>\n",
       "      <td>NB46</td>\n",
       "      <td>test</td>\n",
       "    </tr>\n",
       "    <tr>\n",
       "      <th>2</th>\n",
       "      <td>../../data/segmentation_test/raw/NB663.png</td>\n",
       "      <td>NB663.png</td>\n",
       "      <td>UKU_all</td>\n",
       "      <td>train</td>\n",
       "      <td>H</td>\n",
       "      <td>0</td>\n",
       "      <td>NB663</td>\n",
       "      <td>train</td>\n",
       "    </tr>\n",
       "    <tr>\n",
       "      <th>3</th>\n",
       "      <td>../../data/segmentation_test/raw/V29.png</td>\n",
       "      <td>V29.png</td>\n",
       "      <td>UKU_all</td>\n",
       "      <td>train</td>\n",
       "      <td>P</td>\n",
       "      <td>1</td>\n",
       "      <td>V23</td>\n",
       "      <td>train</td>\n",
       "    </tr>\n",
       "    <tr>\n",
       "      <th>4</th>\n",
       "      <td>../../data/segmentation_test/raw/NB626.png</td>\n",
       "      <td>NB626.png</td>\n",
       "      <td>UKU_all</td>\n",
       "      <td>train</td>\n",
       "      <td>H</td>\n",
       "      <td>0</td>\n",
       "      <td>NB626</td>\n",
       "      <td>train</td>\n",
       "    </tr>\n",
       "  </tbody>\n",
       "</table>\n",
       "</div>"
      ],
      "text/plain": [
       "                                    file_path  file_name   source  split  \\\n",
       "0    ../../data/segmentation_test/raw/C59.png    C59.png  UKU_all  train   \n",
       "1   ../../data/segmentation_test/raw/NB46.png   NB46.png  UKU_all  train   \n",
       "2  ../../data/segmentation_test/raw/NB663.png  NB663.png  UKU_all  train   \n",
       "3    ../../data/segmentation_test/raw/V29.png    V29.png  UKU_all  train   \n",
       "4  ../../data/segmentation_test/raw/NB626.png  NB626.png  UKU_all  train   \n",
       "\n",
       "  class  label_encoded patient_id patient_split  \n",
       "0     P              1        C57         train  \n",
       "1     H              0       NB46          test  \n",
       "2     H              0      NB663         train  \n",
       "3     P              1        V23         train  \n",
       "4     H              0      NB626         train  "
      ]
     },
     "execution_count": 25,
     "metadata": {},
     "output_type": "execute_result"
    }
   ],
   "source": [
    "df_uku_binary_patients.head()"
   ]
  },
  {
   "cell_type": "markdown",
   "id": "initial-acoustic",
   "metadata": {},
   "source": [
    "Dataloader:"
   ]
  },
  {
   "cell_type": "code",
   "execution_count": 26,
   "id": "authentic-roberts",
   "metadata": {},
   "outputs": [],
   "source": [
    "class Dataset(BaseDataset):\n",
    "    \"\"\"Read images, apply augmentation and preprocessing transformations.\"\"\"\n",
    "    \n",
    "    def __init__(\n",
    "            self,\n",
    "            df, \n",
    "            augmentation=None, \n",
    "            preprocessing=None,\n",
    "    ):\n",
    "        self.df = df.reset_index(drop=True)\n",
    "        self.ids = self.df.loc[:,'file_path'].values\n",
    "        \n",
    "        self.augmentation = augmentation\n",
    "        self.preprocessing = preprocessing\n",
    "    \n",
    "    def __getitem__(self, i):\n",
    "        \n",
    "        # read data\n",
    "        image = cv2.imread(self.ids[i])\n",
    "        image = cv2.cvtColor(image, cv2.COLOR_BGR2RGB)   \n",
    "        \n",
    "        # apply augmentations\n",
    "        if self.augmentation:\n",
    "            sample = self.augmentation(image=image)\n",
    "            image = sample['image']\n",
    "        \n",
    "        # apply preprocessing\n",
    "        if self.preprocessing:\n",
    "            sample = self.preprocessing(image=image)\n",
    "            image = sample['image']\n",
    "        \n",
    "        label = self.df.loc[i,'label_encoded']\n",
    "        \n",
    "        return image, label\n",
    "        \n",
    "    def __len__(self):\n",
    "        return len(self.ids)"
   ]
  },
  {
   "cell_type": "code",
   "execution_count": 27,
   "id": "resistant-semiconductor",
   "metadata": {},
   "outputs": [
    {
     "data": {
      "image/png": "[encoded data removed]",
      "text/plain": [
       "<Figure size 1152x360 with 1 Axes>"
      ]
     },
     "metadata": {},
     "output_type": "display_data"
    }
   ],
   "source": [
    "dataset = Dataset(df_uku_binary_patients)\n",
    "\n",
    "image, label = dataset[3] # get some sample\n",
    "visualize(\n",
    "    label=label,\n",
    "    image=image\n",
    ")"
   ]
  },
  {
   "cell_type": "markdown",
   "id": "interim-holmes",
   "metadata": {},
   "source": [
    "### Augmentations"
   ]
  },
  {
   "cell_type": "code",
   "execution_count": 28,
   "id": "indie-providence",
   "metadata": {},
   "outputs": [],
   "source": [
    "image_size = 224"
   ]
  },
  {
   "cell_type": "code",
   "execution_count": 29,
   "id": "common-packet",
   "metadata": {},
   "outputs": [],
   "source": [
    "def get_training_augmentation():\n",
    "    train_transform = [\n",
    "        \n",
    "        albu.RandomResizedCrop(height=image_size, width=image_size, scale=(0.25, 1.0), ratio=(0.75, 1.3333333333333333), interpolation=1, p=1.0),\n",
    "        albu.HorizontalFlip(p=0.5),\n",
    "\n",
    "        albu.ShiftScaleRotate(scale_limit=0.5, rotate_limit=0, shift_limit=0.1, p=1, border_mode=0),\n",
    "\n",
    "        #albu.PadIfNeeded(min_height=320, min_width=320, always_apply=True, border_mode=0),\n",
    "        #albu.RandomCrop(height=320, width=320, always_apply=True),\n",
    "\n",
    "\n",
    "        albu.OneOf(\n",
    "            [\n",
    "                albu.CLAHE(p=1),\n",
    "                albu.RandomBrightnessContrast(p=1),\n",
    "                albu.RandomGamma(p=1),\n",
    "            ],\n",
    "            p=0.9,\n",
    "        ),\n",
    "\n",
    "        albu.OneOf(\n",
    "            [\n",
    "                albu.Sharpen(p=1),\n",
    "                albu.Blur(blur_limit=3, p=1),\n",
    "                albu.MotionBlur(blur_limit=3, p=1),\n",
    "            ],\n",
    "            p=0.9,\n",
    "        ),\n",
    "\n",
    "        albu.OneOf(\n",
    "            [\n",
    "                albu.RandomBrightnessContrast(p=1),\n",
    "                albu.HueSaturationValue(p=1),\n",
    "            ],\n",
    "            p=0.9,\n",
    "        ),\n",
    "        #albu.Normalize(mean=IMAGENET_DEFAULT_MEAN, std=IMAGENET_DEFAULT_STD),\n",
    "    ]\n",
    "    return albu.Compose(train_transform)\n",
    "\n",
    "\n",
    "def get_validation_augmentation():\n",
    "    \"\"\"Add paddings to make image shape divisible by 32\"\"\"\n",
    "    test_transform = [\n",
    "        #albu.PadIfNeeded(384, 480)\n",
    "        albu.Resize(image_size, image_size),\n",
    "        #albu.Normalize(mean=IMAGENET_DEFAULT_MEAN, std=IMAGENET_DEFAULT_STD),\n",
    "    ]\n",
    "    return albu.Compose(test_transform)\n",
    "\n",
    "\n",
    "def to_tensor(x, **kwargs):\n",
    "    return x.transpose(2, 0, 1).astype('float32')\n",
    "\n",
    "\n",
    "def get_preprocessing():\n",
    "    \"\"\"Construct preprocessing transform\n",
    "    \n",
    "    Args:\n",
    "        preprocessing_fn (callbale): data normalization function \n",
    "            (can be specific for each pretrained neural network)\n",
    "    Return:\n",
    "        transform: albumentations.Compose\n",
    "    \n",
    "    \"\"\"\n",
    "    \n",
    "    _transform = [\n",
    "        albu.Normalize(mean=IMAGENET_DEFAULT_MEAN, std=IMAGENET_DEFAULT_STD,max_pixel_value=255.0),\n",
    "        albu.Lambda(image=to_tensor),\n",
    "    ]\n",
    "    return albu.Compose(_transform)"
   ]
  },
  {
   "cell_type": "code",
   "execution_count": 30,
   "id": "acquired-flash",
   "metadata": {},
   "outputs": [
    {
     "data": {
      "image/png": "[encoded data removed]",
      "text/plain": [
       "<Figure size 1152x360 with 1 Axes>"
      ]
     },
     "metadata": {},
     "output_type": "display_data"
    },
    {
     "data": {
      "image/png": "[encoded data removed]",
      "text/plain": [
       "<Figure size 1152x360 with 1 Axes>"
      ]
     },
     "metadata": {},
     "output_type": "display_data"
    },
    {
     "data": {
      "image/png": "[encoded data removed]",
      "text/plain": [
       "<Figure size 1152x360 with 1 Axes>"
      ]
     },
     "metadata": {},
     "output_type": "display_data"
    }
   ],
   "source": [
    "#### Visualize resulted augmented images and masks\n",
    "\n",
    "augmented_dataset = Dataset(\n",
    "    df_uku_binary_patients, \n",
    "    augmentation=get_training_augmentation(), \n",
    ")\n",
    "\n",
    "# same image with different random transforms\n",
    "for i in range(3):\n",
    "    image, label = augmented_dataset[3]\n",
    "    visualize(label=label,image=image)"
   ]
  },
  {
   "cell_type": "markdown",
   "id": "organic-compensation",
   "metadata": {
    "tags": []
   },
   "source": [
    "### Create model and train"
   ]
  },
  {
   "cell_type": "markdown",
   "id": "royal-vacuum",
   "metadata": {},
   "source": [
    "Define model"
   ]
  },
  {
   "cell_type": "code",
   "execution_count": 31,
   "id": "suburban-spine",
   "metadata": {},
   "outputs": [],
   "source": [
    "dropout = False\n",
    "dropout_percent = 0.5\n",
    "num_classes = 2"
   ]
  },
  {
   "cell_type": "code",
   "execution_count": 32,
   "id": "italic-evans",
   "metadata": {},
   "outputs": [],
   "source": [
    "model = timm.create_model('resnet50', pretrained=True, num_classes=num_classes)\n",
    "num_ftrs = model.get_classifier().in_features\n",
    "if dropout:\n",
    "    model.fc = nn.Sequential(\n",
    "                            nn.Dropout(dropout_percent),\n",
    "                            nn.Linear(num_ftrs,num_classes)\n",
    "    )\n",
    "else:\n",
    "    model.fc = nn.Linear(num_ftrs, num_classes)\n",
    "\n",
    "model = model.to(device) "
   ]
  },
  {
   "cell_type": "markdown",
   "id": "copyrighted-finland",
   "metadata": {},
   "source": [
    "Define Loss function and optimizer"
   ]
  },
  {
   "cell_type": "code",
   "execution_count": 33,
   "id": "final-mount",
   "metadata": {},
   "outputs": [],
   "source": [
    "epochs = 40\n",
    "val_loss_min = np.Inf"
   ]
  },
  {
   "cell_type": "code",
   "execution_count": 34,
   "id": "standing-doubt",
   "metadata": {},
   "outputs": [],
   "source": [
    "criterion = nn.CrossEntropyLoss()"
   ]
  },
  {
   "cell_type": "code",
   "execution_count": 35,
   "id": "blank-mention",
   "metadata": {},
   "outputs": [],
   "source": [
    "optimizer = optim.Adam(model.parameters(),lr=0.0001)\n",
    "scheduler = optim.lr_scheduler.CosineAnnealingLR(optimizer, epochs-1)\n",
    "\n",
    "scaler = torch.cuda.amp.GradScaler()"
   ]
  },
  {
   "cell_type": "code",
   "execution_count": 37,
   "id": "attractive-trout",
   "metadata": {},
   "outputs": [],
   "source": [
    "train_dataset = Dataset(\n",
    "    df_uku_binary_patients.loc[df_uku_binary_patients['patient_split']=='train',:],\n",
    "    augmentation=get_training_augmentation(), \n",
    "    preprocessing=get_preprocessing()\n",
    ")\n",
    "\n",
    "valid_dataset = Dataset(\n",
    "    df_uku_binary_patients.loc[df_uku_binary_patients['patient_split']=='test',:], \n",
    "    augmentation=get_validation_augmentation(), \n",
    "    preprocessing=get_preprocessing(),\n",
    ")\n",
    "\n",
    "train_loader = DataLoader(train_dataset, batch_size=16, shuffle=True, num_workers=12)\n",
    "valid_loader = DataLoader(valid_dataset, batch_size=1, shuffle=False, num_workers=4)"
   ]
  },
  {
   "cell_type": "code",
   "execution_count": 38,
   "id": "judicial-angel",
   "metadata": {},
   "outputs": [],
   "source": [
    "ckpt_dir = './models'\n",
    "CHECKPOINT = f'{ckpt_dir}/resnet50_synth_uku_all_binary_patient_split.pth'"
   ]
  },
  {
   "cell_type": "code",
   "execution_count": 39,
   "id": "commercial-number",
   "metadata": {
    "tags": []
   },
   "outputs": [
    {
     "name": "stderr",
     "output_type": "stream",
     "text": [
      "Epoch 00/39 | LR: 0.00004: 100%|██████████| 55/55 [00:13<00:00,  3.96it/s, loss=0.413]\n",
      "100%|██████████| 215/215 [00:07<00:00, 30.01it/s]\n"
     ]
    },
    {
     "name": "stdout",
     "output_type": "stream",
     "text": [
      "train loss: 0.41329 | train acc: 0.827 | val_loss: 0.20018 | val acc: 0.940\n",
      "Valid loss improved from inf to 0.20018 saving model to ./models/resnet50_synth_uku_all_binary_patient_split.pth\n",
      "Best epoch 0 | val loss min: 0.20018\n"
     ]
    },
    {
     "name": "stderr",
     "output_type": "stream",
     "text": [
      "Epoch 01/39 | LR: 0.00001: 100%|██████████| 55/55 [00:13<00:00,  4.05it/s, loss=0.343]\n",
      "100%|██████████| 215/215 [00:07<00:00, 29.82it/s]\n"
     ]
    },
    {
     "name": "stdout",
     "output_type": "stream",
     "text": [
      "train loss: 0.34257 | train acc: 0.855 | val_loss: 0.17809 | val acc: 0.940\n",
      "Valid loss improved from 0.20018 to 0.17809 saving model to ./models/resnet50_synth_uku_all_binary_patient_split.pth\n",
      "Best epoch 1 | val loss min: 0.17809\n"
     ]
    },
    {
     "name": "stderr",
     "output_type": "stream",
     "text": [
      "Epoch 02/39 | LR: 0.00009: 100%|██████████| 55/55 [00:13<00:00,  3.93it/s, loss=0.263]\n",
      "100%|██████████| 215/215 [00:07<00:00, 30.03it/s]\n"
     ]
    },
    {
     "name": "stdout",
     "output_type": "stream",
     "text": [
      "train loss: 0.26326 | train acc: 0.896 | val_loss: 0.14712 | val acc: 0.953\n",
      "Valid loss improved from 0.17809 to 0.14712 saving model to ./models/resnet50_synth_uku_all_binary_patient_split.pth\n",
      "Best epoch 2 | val loss min: 0.14712\n"
     ]
    },
    {
     "name": "stderr",
     "output_type": "stream",
     "text": [
      "Epoch 03/39 | LR: 0.00007: 100%|██████████| 55/55 [00:13<00:00,  4.18it/s, loss=0.274]\n",
      "100%|██████████| 215/215 [00:07<00:00, 29.93it/s]\n"
     ]
    },
    {
     "name": "stdout",
     "output_type": "stream",
     "text": [
      "train loss: 0.27403 | train acc: 0.893 | val_loss: 0.19533 | val acc: 0.930\n",
      "Best epoch 2 | val loss min: 0.14712\n"
     ]
    },
    {
     "name": "stderr",
     "output_type": "stream",
     "text": [
      "Epoch 04/39 | LR: 0.00000: 100%|██████████| 55/55 [00:13<00:00,  3.99it/s, loss=0.253]\n",
      "100%|██████████| 215/215 [00:07<00:00, 29.95it/s]\n"
     ]
    },
    {
     "name": "stdout",
     "output_type": "stream",
     "text": [
      "train loss: 0.25339 | train acc: 0.920 | val_loss: 0.12304 | val acc: 0.958\n",
      "Valid loss improved from 0.14712 to 0.12304 saving model to ./models/resnet50_synth_uku_all_binary_patient_split.pth\n",
      "Best epoch 4 | val loss min: 0.12304\n"
     ]
    },
    {
     "name": "stderr",
     "output_type": "stream",
     "text": [
      "Epoch 05/39 | LR: 0.00006: 100%|██████████| 55/55 [00:13<00:00,  4.14it/s, loss=0.225]\n",
      "100%|██████████| 215/215 [00:07<00:00, 29.79it/s]\n"
     ]
    },
    {
     "name": "stdout",
     "output_type": "stream",
     "text": [
      "train loss: 0.22539 | train acc: 0.915 | val_loss: 0.14785 | val acc: 0.958\n",
      "Best epoch 4 | val loss min: 0.12304\n"
     ]
    },
    {
     "name": "stderr",
     "output_type": "stream",
     "text": [
      "Epoch 06/39 | LR: 0.00010: 100%|██████████| 55/55 [00:13<00:00,  4.09it/s, loss=0.234]\n",
      "100%|██████████| 215/215 [00:07<00:00, 29.84it/s]\n"
     ]
    },
    {
     "name": "stdout",
     "output_type": "stream",
     "text": [
      "train loss: 0.23356 | train acc: 0.915 | val_loss: 0.11401 | val acc: 0.963\n",
      "Valid loss improved from 0.12304 to 0.11401 saving model to ./models/resnet50_synth_uku_all_binary_patient_split.pth\n",
      "Best epoch 6 | val loss min: 0.11401\n"
     ]
    },
    {
     "name": "stderr",
     "output_type": "stream",
     "text": [
      "Epoch 07/39 | LR: 0.00002: 100%|██████████| 55/55 [00:13<00:00,  4.06it/s, loss=0.245]\n",
      "100%|██████████| 215/215 [00:07<00:00, 29.81it/s]\n"
     ]
    },
    {
     "name": "stdout",
     "output_type": "stream",
     "text": [
      "train loss: 0.24520 | train acc: 0.905 | val_loss: 0.14320 | val acc: 0.940\n",
      "Best epoch 6 | val loss min: 0.11401\n"
     ]
    },
    {
     "name": "stderr",
     "output_type": "stream",
     "text": [
      "Epoch 08/39 | LR: 0.00002: 100%|██████████| 55/55 [00:13<00:00,  3.94it/s, loss=0.237]\n",
      "100%|██████████| 215/215 [00:07<00:00, 29.79it/s]\n"
     ]
    },
    {
     "name": "stdout",
     "output_type": "stream",
     "text": [
      "train loss: 0.23705 | train acc: 0.908 | val_loss: 0.11255 | val acc: 0.967\n",
      "Valid loss improved from 0.11401 to 0.11255 saving model to ./models/resnet50_synth_uku_all_binary_patient_split.pth\n",
      "Best epoch 8 | val loss min: 0.11255\n"
     ]
    },
    {
     "name": "stderr",
     "output_type": "stream",
     "text": [
      "Epoch 09/39 | LR: 0.00010: 100%|██████████| 55/55 [00:13<00:00,  4.06it/s, loss=0.208]\n",
      "100%|██████████| 215/215 [00:07<00:00, 29.79it/s]\n"
     ]
    },
    {
     "name": "stdout",
     "output_type": "stream",
     "text": [
      "train loss: 0.20798 | train acc: 0.919 | val_loss: 0.15572 | val acc: 0.926\n",
      "Best epoch 8 | val loss min: 0.11255\n"
     ]
    },
    {
     "name": "stderr",
     "output_type": "stream",
     "text": [
      "Epoch 10/39 | LR: 0.00005: 100%|██████████| 55/55 [00:13<00:00,  4.12it/s, loss=0.23] \n",
      "100%|██████████| 215/215 [00:07<00:00, 29.67it/s]\n"
     ]
    },
    {
     "name": "stdout",
     "output_type": "stream",
     "text": [
      "train loss: 0.23018 | train acc: 0.910 | val_loss: 0.12024 | val acc: 0.953\n",
      "Best epoch 8 | val loss min: 0.11255\n"
     ]
    },
    {
     "name": "stderr",
     "output_type": "stream",
     "text": [
      "Epoch 11/39 | LR: 0.00000: 100%|██████████| 55/55 [00:13<00:00,  3.96it/s, loss=0.214]\n",
      "100%|██████████| 215/215 [00:07<00:00, 28.21it/s]\n"
     ]
    },
    {
     "name": "stdout",
     "output_type": "stream",
     "text": [
      "train loss: 0.21433 | train acc: 0.919 | val_loss: 0.12319 | val acc: 0.967\n",
      "Best epoch 8 | val loss min: 0.11255\n"
     ]
    },
    {
     "name": "stderr",
     "output_type": "stream",
     "text": [
      "Epoch 12/39 | LR: 0.00007: 100%|██████████| 55/55 [00:13<00:00,  3.97it/s, loss=0.192]\n",
      "100%|██████████| 215/215 [00:07<00:00, 29.64it/s]\n"
     ]
    },
    {
     "name": "stdout",
     "output_type": "stream",
     "text": [
      "train loss: 0.19178 | train acc: 0.934 | val_loss: 0.13040 | val acc: 0.953\n",
      "Best epoch 8 | val loss min: 0.11255\n"
     ]
    },
    {
     "name": "stderr",
     "output_type": "stream",
     "text": [
      "Epoch 13/39 | LR: 0.00008: 100%|██████████| 55/55 [00:13<00:00,  4.10it/s, loss=0.19] \n",
      "100%|██████████| 215/215 [00:07<00:00, 30.09it/s]\n"
     ]
    },
    {
     "name": "stdout",
     "output_type": "stream",
     "text": [
      "train loss: 0.18952 | train acc: 0.934 | val_loss: 0.10595 | val acc: 0.958\n",
      "Valid loss improved from 0.11255 to 0.10595 saving model to ./models/resnet50_synth_uku_all_binary_patient_split.pth\n",
      "Best epoch 13 | val loss min: 0.10595\n"
     ]
    },
    {
     "name": "stderr",
     "output_type": "stream",
     "text": [
      "Epoch 14/39 | LR: 0.00001: 100%|██████████| 55/55 [00:13<00:00,  4.13it/s, loss=0.204]\n",
      "100%|██████████| 215/215 [00:07<00:00, 30.09it/s]\n"
     ]
    },
    {
     "name": "stdout",
     "output_type": "stream",
     "text": [
      "train loss: 0.20365 | train acc: 0.927 | val_loss: 0.09910 | val acc: 0.967\n",
      "Valid loss improved from 0.10595 to 0.09910 saving model to ./models/resnet50_synth_uku_all_binary_patient_split.pth\n",
      "Best epoch 14 | val loss min: 0.09910\n"
     ]
    },
    {
     "name": "stderr",
     "output_type": "stream",
     "text": [
      "Epoch 15/39 | LR: 0.00004: 100%|██████████| 55/55 [00:13<00:00,  4.10it/s, loss=0.215]\n",
      "100%|██████████| 215/215 [00:07<00:00, 29.93it/s]\n"
     ]
    },
    {
     "name": "stdout",
     "output_type": "stream",
     "text": [
      "train loss: 0.21543 | train acc: 0.930 | val_loss: 0.08216 | val acc: 0.981\n",
      "Valid loss improved from 0.09910 to 0.08216 saving model to ./models/resnet50_synth_uku_all_binary_patient_split.pth\n",
      "Best epoch 15 | val loss min: 0.08216\n"
     ]
    },
    {
     "name": "stderr",
     "output_type": "stream",
     "text": [
      "Epoch 16/39 | LR: 0.00010: 100%|██████████| 55/55 [00:14<00:00,  3.83it/s, loss=0.177]\n",
      "100%|██████████| 215/215 [00:07<00:00, 29.63it/s]\n"
     ]
    },
    {
     "name": "stdout",
     "output_type": "stream",
     "text": [
      "train loss: 0.17737 | train acc: 0.928 | val_loss: 0.08561 | val acc: 0.972\n",
      "Best epoch 15 | val loss min: 0.08216\n"
     ]
    },
    {
     "name": "stderr",
     "output_type": "stream",
     "text": [
      "Epoch 17/39 | LR: 0.00003: 100%|██████████| 55/55 [00:13<00:00,  4.04it/s, loss=0.18] \n",
      "100%|██████████| 215/215 [00:07<00:00, 29.54it/s]\n"
     ]
    },
    {
     "name": "stdout",
     "output_type": "stream",
     "text": [
      "train loss: 0.18013 | train acc: 0.927 | val_loss: 0.08018 | val acc: 0.967\n",
      "Valid loss improved from 0.08216 to 0.08018 saving model to ./models/resnet50_synth_uku_all_binary_patient_split.pth\n",
      "Best epoch 17 | val loss min: 0.08018\n"
     ]
    },
    {
     "name": "stderr",
     "output_type": "stream",
     "text": [
      "Epoch 18/39 | LR: 0.00001: 100%|██████████| 55/55 [00:14<00:00,  3.88it/s, loss=0.174]\n",
      "100%|██████████| 215/215 [00:07<00:00, 29.76it/s]\n"
     ]
    },
    {
     "name": "stdout",
     "output_type": "stream",
     "text": [
      "train loss: 0.17443 | train acc: 0.942 | val_loss: 0.10288 | val acc: 0.972\n",
      "Best epoch 17 | val loss min: 0.08018\n"
     ]
    },
    {
     "name": "stderr",
     "output_type": "stream",
     "text": [
      "Epoch 19/39 | LR: 0.00009: 100%|██████████| 55/55 [00:13<00:00,  3.99it/s, loss=0.132]\n",
      "100%|██████████| 215/215 [00:07<00:00, 29.58it/s]\n"
     ]
    },
    {
     "name": "stdout",
     "output_type": "stream",
     "text": [
      "train loss: 0.13185 | train acc: 0.953 | val_loss: 0.16891 | val acc: 0.953\n",
      "Best epoch 17 | val loss min: 0.08018\n"
     ]
    },
    {
     "name": "stderr",
     "output_type": "stream",
     "text": [
      "Epoch 20/39 | LR: 0.00007: 100%|██████████| 55/55 [00:13<00:00,  4.03it/s, loss=0.216]\n",
      "100%|██████████| 215/215 [00:07<00:00, 29.90it/s]\n"
     ]
    },
    {
     "name": "stdout",
     "output_type": "stream",
     "text": [
      "train loss: 0.21610 | train acc: 0.918 | val_loss: 0.09149 | val acc: 0.953\n",
      "Best epoch 17 | val loss min: 0.08018\n"
     ]
    },
    {
     "name": "stderr",
     "output_type": "stream",
     "text": [
      "Epoch 21/39 | LR: 0.00000: 100%|██████████| 55/55 [00:13<00:00,  4.09it/s, loss=0.228]\n",
      "100%|██████████| 215/215 [00:07<00:00, 29.79it/s]\n"
     ]
    },
    {
     "name": "stdout",
     "output_type": "stream",
     "text": [
      "train loss: 0.22812 | train acc: 0.917 | val_loss: 0.12668 | val acc: 0.940\n",
      "Best epoch 17 | val loss min: 0.08018\n"
     ]
    },
    {
     "name": "stderr",
     "output_type": "stream",
     "text": [
      "Epoch 22/39 | LR: 0.00006: 100%|██████████| 55/55 [00:13<00:00,  4.04it/s, loss=0.191]\n",
      "100%|██████████| 215/215 [00:07<00:00, 29.84it/s]\n"
     ]
    },
    {
     "name": "stdout",
     "output_type": "stream",
     "text": [
      "train loss: 0.19103 | train acc: 0.926 | val_loss: 0.09733 | val acc: 0.958\n",
      "Best epoch 17 | val loss min: 0.08018\n"
     ]
    },
    {
     "name": "stderr",
     "output_type": "stream",
     "text": [
      "Epoch 23/39 | LR: 0.00009: 100%|██████████| 55/55 [00:13<00:00,  4.00it/s, loss=0.165]\n",
      "100%|██████████| 215/215 [00:07<00:00, 29.85it/s]\n"
     ]
    },
    {
     "name": "stdout",
     "output_type": "stream",
     "text": [
      "train loss: 0.16524 | train acc: 0.941 | val_loss: 0.11711 | val acc: 0.953\n",
      "Best epoch 17 | val loss min: 0.08018\n"
     ]
    },
    {
     "name": "stderr",
     "output_type": "stream",
     "text": [
      "Epoch 24/39 | LR: 0.00002: 100%|██████████| 55/55 [00:13<00:00,  3.94it/s, loss=0.203]\n",
      "100%|██████████| 215/215 [00:07<00:00, 29.76it/s]\n"
     ]
    },
    {
     "name": "stdout",
     "output_type": "stream",
     "text": [
      "train loss: 0.20268 | train acc: 0.913 | val_loss: 0.10221 | val acc: 0.958\n",
      "Best epoch 17 | val loss min: 0.08018\n"
     ]
    },
    {
     "name": "stderr",
     "output_type": "stream",
     "text": [
      "Epoch 25/39 | LR: 0.00002: 100%|██████████| 55/55 [00:14<00:00,  3.91it/s, loss=0.176]\n",
      "100%|██████████| 215/215 [00:07<00:00, 30.18it/s]\n"
     ]
    },
    {
     "name": "stdout",
     "output_type": "stream",
     "text": [
      "train loss: 0.17556 | train acc: 0.945 | val_loss: 0.07623 | val acc: 0.967\n",
      "Valid loss improved from 0.08018 to 0.07623 saving model to ./models/resnet50_synth_uku_all_binary_patient_split.pth\n",
      "Best epoch 25 | val loss min: 0.07623\n"
     ]
    },
    {
     "name": "stderr",
     "output_type": "stream",
     "text": [
      "Epoch 26/39 | LR: 0.00010: 100%|██████████| 55/55 [00:14<00:00,  3.78it/s, loss=0.134]\n",
      "100%|██████████| 215/215 [00:07<00:00, 30.25it/s]\n"
     ]
    },
    {
     "name": "stdout",
     "output_type": "stream",
     "text": [
      "train loss: 0.13424 | train acc: 0.953 | val_loss: 0.10057 | val acc: 0.967\n",
      "Best epoch 25 | val loss min: 0.07623\n"
     ]
    },
    {
     "name": "stderr",
     "output_type": "stream",
     "text": [
      "Epoch 27/39 | LR: 0.00005: 100%|██████████| 55/55 [00:13<00:00,  4.11it/s, loss=0.143]\n",
      "100%|██████████| 215/215 [00:07<00:00, 30.20it/s]\n"
     ]
    },
    {
     "name": "stdout",
     "output_type": "stream",
     "text": [
      "train loss: 0.14289 | train acc: 0.941 | val_loss: 0.07967 | val acc: 0.977\n",
      "Best epoch 25 | val loss min: 0.07623\n"
     ]
    },
    {
     "name": "stderr",
     "output_type": "stream",
     "text": [
      "Epoch 28/39 | LR: 0.00000: 100%|██████████| 55/55 [00:13<00:00,  3.95it/s, loss=0.162] \n",
      "100%|██████████| 215/215 [00:07<00:00, 30.17it/s]\n"
     ]
    },
    {
     "name": "stdout",
     "output_type": "stream",
     "text": [
      "train loss: 0.16191 | train acc: 0.938 | val_loss: 0.07589 | val acc: 0.977\n",
      "Valid loss improved from 0.07623 to 0.07589 saving model to ./models/resnet50_synth_uku_all_binary_patient_split.pth\n",
      "Best epoch 28 | val loss min: 0.07589\n"
     ]
    },
    {
     "name": "stderr",
     "output_type": "stream",
     "text": [
      "Epoch 29/39 | LR: 0.00008: 100%|██████████| 55/55 [00:13<00:00,  4.12it/s, loss=0.154]\n",
      "100%|██████████| 215/215 [00:07<00:00, 29.83it/s]\n"
     ]
    },
    {
     "name": "stdout",
     "output_type": "stream",
     "text": [
      "train loss: 0.15384 | train acc: 0.945 | val_loss: 0.11490 | val acc: 0.949\n",
      "Best epoch 28 | val loss min: 0.07589\n"
     ]
    },
    {
     "name": "stderr",
     "output_type": "stream",
     "text": [
      "Epoch 30/39 | LR: 0.00008: 100%|██████████| 55/55 [00:13<00:00,  4.16it/s, loss=0.144]\n",
      "100%|██████████| 215/215 [00:07<00:00, 30.22it/s]\n"
     ]
    },
    {
     "name": "stdout",
     "output_type": "stream",
     "text": [
      "train loss: 0.14444 | train acc: 0.948 | val_loss: 0.07690 | val acc: 0.963\n",
      "Best epoch 28 | val loss min: 0.07589\n"
     ]
    },
    {
     "name": "stderr",
     "output_type": "stream",
     "text": [
      "Epoch 31/39 | LR: 0.00000: 100%|██████████| 55/55 [00:13<00:00,  4.04it/s, loss=0.159] \n",
      "100%|██████████| 215/215 [00:07<00:00, 30.34it/s]\n"
     ]
    },
    {
     "name": "stdout",
     "output_type": "stream",
     "text": [
      "train loss: 0.15906 | train acc: 0.949 | val_loss: 0.07711 | val acc: 0.972\n",
      "Best epoch 28 | val loss min: 0.07589\n"
     ]
    },
    {
     "name": "stderr",
     "output_type": "stream",
     "text": [
      "Epoch 32/39 | LR: 0.00004: 100%|██████████| 55/55 [00:13<00:00,  4.02it/s, loss=0.133]\n",
      "100%|██████████| 215/215 [00:07<00:00, 30.24it/s]\n"
     ]
    },
    {
     "name": "stdout",
     "output_type": "stream",
     "text": [
      "train loss: 0.13280 | train acc: 0.950 | val_loss: 0.10075 | val acc: 0.958\n",
      "Best epoch 28 | val loss min: 0.07589\n"
     ]
    },
    {
     "name": "stderr",
     "output_type": "stream",
     "text": [
      "Epoch 33/39 | LR: 0.00010: 100%|██████████| 55/55 [00:13<00:00,  4.01it/s, loss=0.169] \n",
      "100%|██████████| 215/215 [00:07<00:00, 30.16it/s]\n"
     ]
    },
    {
     "name": "stdout",
     "output_type": "stream",
     "text": [
      "train loss: 0.16859 | train acc: 0.940 | val_loss: 0.08925 | val acc: 0.963\n",
      "Best epoch 28 | val loss min: 0.07589\n"
     ]
    },
    {
     "name": "stderr",
     "output_type": "stream",
     "text": [
      "Epoch 34/39 | LR: 0.00003: 100%|██████████| 55/55 [00:13<00:00,  4.07it/s, loss=0.191]\n",
      "100%|██████████| 215/215 [00:07<00:00, 30.05it/s]\n"
     ]
    },
    {
     "name": "stdout",
     "output_type": "stream",
     "text": [
      "train loss: 0.19122 | train acc: 0.932 | val_loss: 0.12071 | val acc: 0.963\n",
      "Best epoch 28 | val loss min: 0.07589\n"
     ]
    },
    {
     "name": "stderr",
     "output_type": "stream",
     "text": [
      "Epoch 35/39 | LR: 0.00001: 100%|██████████| 55/55 [00:13<00:00,  4.21it/s, loss=0.162]\n",
      "100%|██████████| 215/215 [00:07<00:00, 30.18it/s]\n"
     ]
    },
    {
     "name": "stdout",
     "output_type": "stream",
     "text": [
      "train loss: 0.16158 | train acc: 0.934 | val_loss: 0.10984 | val acc: 0.963\n",
      "Best epoch 28 | val loss min: 0.07589\n"
     ]
    },
    {
     "name": "stderr",
     "output_type": "stream",
     "text": [
      "Epoch 36/39 | LR: 0.00009: 100%|██████████| 55/55 [00:13<00:00,  4.16it/s, loss=0.144]\n",
      "100%|██████████| 215/215 [00:07<00:00, 30.25it/s]\n"
     ]
    },
    {
     "name": "stdout",
     "output_type": "stream",
     "text": [
      "train loss: 0.14427 | train acc: 0.952 | val_loss: 0.08539 | val acc: 0.977\n",
      "Best epoch 28 | val loss min: 0.07589\n"
     ]
    },
    {
     "name": "stderr",
     "output_type": "stream",
     "text": [
      "Epoch 37/39 | LR: 0.00006: 100%|██████████| 55/55 [00:13<00:00,  3.98it/s, loss=0.125] \n",
      "100%|██████████| 215/215 [00:07<00:00, 30.35it/s]\n"
     ]
    },
    {
     "name": "stdout",
     "output_type": "stream",
     "text": [
      "train loss: 0.12489 | train acc: 0.956 | val_loss: 0.07849 | val acc: 0.967\n",
      "Best epoch 28 | val loss min: 0.07589\n"
     ]
    },
    {
     "name": "stderr",
     "output_type": "stream",
     "text": [
      "Epoch 38/39 | LR: 0.00000: 100%|██████████| 55/55 [00:13<00:00,  3.94it/s, loss=0.13] \n",
      "100%|██████████| 215/215 [00:07<00:00, 30.26it/s]\n"
     ]
    },
    {
     "name": "stdout",
     "output_type": "stream",
     "text": [
      "train loss: 0.12961 | train acc: 0.957 | val_loss: 0.07821 | val acc: 0.963\n",
      "Best epoch 28 | val loss min: 0.07589\n"
     ]
    },
    {
     "name": "stderr",
     "output_type": "stream",
     "text": [
      "Epoch 39/39 | LR: 0.00006: 100%|██████████| 55/55 [00:13<00:00,  4.09it/s, loss=0.111] \n",
      "100%|██████████| 215/215 [00:07<00:00, 30.19it/s]"
     ]
    },
    {
     "name": "stdout",
     "output_type": "stream",
     "text": [
      "train loss: 0.11083 | train acc: 0.964 | val_loss: 0.07635 | val acc: 0.977\n",
      "Best epoch 28 | val loss min: 0.07589\n"
     ]
    },
    {
     "name": "stderr",
     "output_type": "stream",
     "text": [
      "\n"
     ]
    }
   ],
   "source": [
    "for epoch in range(epochs):\n",
    "    model.train()\n",
    "    train_loss = []\n",
    "    train_running_corrects = 0\n",
    "    val_running_corrects = 0\n",
    "    \n",
    "    loop = tqdm(train_loader)\n",
    "    for images, labels in loop:\n",
    "        images = images.to(device)\n",
    "        labels = labels.to(device)\n",
    "        \n",
    "        optimizer.zero_grad()\n",
    "        \n",
    "        with torch.cuda.amp.autocast():\n",
    "            outputs = model(images)\n",
    "            loss = criterion(outputs, labels)\n",
    "            \n",
    "            train_loss.append(loss.item())\n",
    "            \n",
    "            _, predicted = torch.max(outputs.data, 1)\n",
    "            #_,labels = torch.max(labels.data, 1)\n",
    "            train_running_corrects += torch.sum(predicted == labels.data)\n",
    "            \n",
    "        scaler.scale(loss).backward()\n",
    "        scaler.step(optimizer)\n",
    "        scaler.update()\n",
    "        \n",
    "        scheduler.step()\n",
    "\n",
    "        loop.set_description('Epoch {:02d}/{:02d} | LR: {:.5f}'.format(epoch, epochs-1, optimizer.param_groups[0]['lr']))\n",
    "        loop.set_postfix(loss=np.mean(train_loss))\n",
    "\n",
    "    train_loss = np.mean(train_loss)\n",
    "    train_epoch_acc = train_running_corrects.double() / len(train_loader.dataset)\n",
    "    \n",
    "    model.eval()\n",
    "\n",
    "    val_loss = 0\n",
    "\n",
    "    for images, labels in tqdm(valid_loader):\n",
    "        images = images.to(device)\n",
    "        labels = labels.to(device)\n",
    "\n",
    "        with torch.cuda.amp.autocast(), torch.no_grad():\n",
    "            outputs = model(images)\n",
    "            loss = criterion(outputs, labels)\n",
    "            \n",
    "            val_loss += loss.item()\n",
    "            \n",
    "            _, predicted = torch.max(outputs.data, 1)\n",
    "            #_,labels = torch.max(labels.data, 1)\n",
    "            val_running_corrects += torch.sum(predicted == labels.data)\n",
    "\n",
    "    val_loss /= len(valid_loader.dataset)\n",
    "    val_epoch_acc = val_running_corrects.double() / len(valid_loader.dataset)\n",
    "    \n",
    "    print(f'train loss: {train_loss:.5f} | train acc: {train_epoch_acc:.3f} | val_loss: {val_loss:.5f} | val acc: {val_epoch_acc:.3f}')\n",
    "    \n",
    "    if val_loss < val_loss_min:\n",
    "            print(f'Valid loss improved from {val_loss_min:.5f} to {val_loss:.5f} saving model to {CHECKPOINT}')\n",
    "            val_loss_min = val_loss\n",
    "            best_epoch = epoch\n",
    "            torch.save(model.state_dict(), CHECKPOINT)\n",
    "    \n",
    "    print(f'Best epoch {best_epoch} | val loss min: {val_loss_min:.5f}')"
   ]
  },
  {
   "cell_type": "markdown",
   "id": "romantic-arkansas",
   "metadata": {
    "tags": []
   },
   "source": [
    "### Visualize predictions"
   ]
  },
  {
   "cell_type": "code",
   "execution_count": 40,
   "id": "located-nitrogen",
   "metadata": {
    "tags": []
   },
   "outputs": [],
   "source": [
    "model_inf = timm.create_model('resnet50', pretrained=True, num_classes=num_classes)\n",
    "num_ftrs = model_inf.get_classifier().in_features\n",
    "if dropout:\n",
    "    model_inf.fc = nn.Sequential(\n",
    "                            nn.Dropout(dropout_percent),\n",
    "                            nn.Linear(num_ftrs,num_classes)\n",
    "    )\n",
    "else:\n",
    "    model_inf.fc = nn.Linear(num_ftrs, num_classes)\n",
    "\n",
    "model_inf.load_state_dict(torch.load(CHECKPOINT))\n",
    "model_inf.to(device) \n",
    "model_inf = model_inf.eval()"
   ]
  },
  {
   "cell_type": "code",
   "execution_count": 41,
   "id": "packed-underwear",
   "metadata": {},
   "outputs": [],
   "source": [
    "valid_dataset = Dataset(\n",
    "    df_uku_binary_patients.loc[df_uku_binary_patients['patient_split']=='test',:], \n",
    "    augmentation=get_validation_augmentation(), \n",
    "    preprocessing=get_preprocessing(),\n",
    ")"
   ]
  },
  {
   "cell_type": "markdown",
   "id": "humanitarian-nature",
   "metadata": {},
   "source": [
    "#### Validation data"
   ]
  },
  {
   "cell_type": "code",
   "execution_count": 42,
   "id": "usual-brick",
   "metadata": {},
   "outputs": [],
   "source": [
    "# For confusion matrix\n",
    "label_array = np.array([], dtype='int64')\n",
    "prediction_array = np.array([], dtype='int64')"
   ]
  },
  {
   "cell_type": "code",
   "execution_count": 43,
   "id": "synthetic-grammar",
   "metadata": {},
   "outputs": [],
   "source": [
    "with torch.no_grad():\n",
    "    model_inf.eval()\n",
    "    for images, labels in valid_dataset:\n",
    "        images = torch.from_numpy(images).to(device).unsqueeze(0)\n",
    "        #labels = labels.to(device)\n",
    "        \n",
    "        cls_outputs = model_inf(images)\n",
    "        _, predicted = torch.max(cls_outputs.data, 1)\n",
    "        #_,labels = torch.max(labels.data, 0)\n",
    "        label_array = np.append(label_array, labels)\n",
    "        prediction_array = np.append(prediction_array, predicted.detach().cpu().numpy())"
   ]
  },
  {
   "cell_type": "code",
   "execution_count": 44,
   "id": "democratic-alexandria",
   "metadata": {},
   "outputs": [],
   "source": [
    "%matplotlib inline"
   ]
  },
  {
   "cell_type": "code",
   "execution_count": 45,
   "id": "suspected-carry",
   "metadata": {},
   "outputs": [
    {
     "data": {
      "image/png": "[encoded data removed]",
      "text/plain": [
       "<Figure size 800x500 with 1 Axes>"
      ]
     },
     "metadata": {
      "needs_background": "light"
     },
     "output_type": "display_data"
    }
   ],
   "source": [
    "fig, ax = plt.subplots(figsize=(8,5),dpi=100)\n",
    "ConfusionMatrixDisplay.from_predictions(label_array,prediction_array,display_labels=['H','P'],cmap='Blues',colorbar=False,ax=ax)\n",
    "plt.show()"
   ]
  },
  {
   "cell_type": "code",
   "execution_count": 46,
   "id": "accompanied-cannon",
   "metadata": {},
   "outputs": [
    {
     "name": "stdout",
     "output_type": "stream",
     "text": [
      "              precision    recall  f1-score   support\n",
      "\n",
      "           H     0.9662    1.0000    0.9828       143\n",
      "           P     1.0000    0.9306    0.9640        72\n",
      "\n",
      "    accuracy                         0.9767       215\n",
      "   macro avg     0.9831    0.9653    0.9734       215\n",
      "weighted avg     0.9775    0.9767    0.9765       215\n",
      "\n"
     ]
    }
   ],
   "source": [
    "print(classification_report(label_array, prediction_array, digits=4,target_names=['H','P']))"
   ]
  },
  {
   "cell_type": "code",
   "execution_count": null,
   "id": "spoken-mainstream",
   "metadata": {},
   "outputs": [],
   "source": []
  }
 ],
 "metadata": {
  "kernelspec": {
   "display_name": "Python 3",
   "language": "python",
   "name": "python3"
  },
  "language_info": {
   "codemirror_mode": {
    "name": "ipython",
    "version": 3
   },
   "file_extension": ".py",
   "mimetype": "text/x-python",
   "name": "python",
   "nbconvert_exporter": "python",
   "pygments_lexer": "ipython3",
   "version": "3.9.10"
  }
 },
 "nbformat": 4,
 "nbformat_minor": 5
}
