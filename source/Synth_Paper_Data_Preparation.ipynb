{
 "cells": [
  {
   "cell_type": "markdown",
   "id": "activated-basics",
   "metadata": {},
   "source": [
    "## Data Preparation for Synth Paper 2022"
   ]
  },
  {
   "cell_type": "markdown",
   "id": "spatial-overview",
   "metadata": {},
   "source": [
    "### Loading data"
   ]
  },
  {
   "cell_type": "code",
   "execution_count": 56,
   "id": "urban-concern",
   "metadata": {},
   "outputs": [],
   "source": [
    "import os\n",
    "import glob\n",
    "from pathlib import Path\n",
    "import shutil\n",
    "import numpy as np\n",
    "import pandas as pd\n",
    "import cv2\n",
    "import matplotlib.pyplot as plt\n",
    "from timm.data import IMAGENET_DEFAULT_MEAN, IMAGENET_DEFAULT_STD\n",
    "from tqdm import tqdm\n",
    "\n",
    "import torch\n",
    "import torch.nn as nn\n",
    "import torch.optim as optim\n",
    "from torchvision import models\n",
    "import numpy as np\n",
    "import timm\n",
    "\n",
    "import albumentations as albu\n",
    "from sklearn.metrics import classification_report,ConfusionMatrixDisplay\n",
    "from sklearn.model_selection import train_test_split\n",
    "\n",
    "from torch.utils.data import DataLoader\n",
    "from torch.utils.data import Dataset as BaseDataset"
   ]
  },
  {
   "cell_type": "code",
   "execution_count": 2,
   "id": "mounted-estate",
   "metadata": {},
   "outputs": [],
   "source": [
    "device = torch.device(\"cuda\" if torch.cuda.is_available() else \"cpu\")"
   ]
  },
  {
   "cell_type": "code",
   "execution_count": 3,
   "id": "found-synthetic",
   "metadata": {},
   "outputs": [],
   "source": [
    "# helper function for data visualization\n",
    "def visualize(label, **images):\n",
    "    \"\"\"PLot images in one row.\"\"\"\n",
    "    n = len(images)\n",
    "    plt.figure(figsize=(16, 5))\n",
    "    for i, (name, image) in enumerate(images.items()):\n",
    "        plt.subplot(1, n, i + 1)\n",
    "        plt.xticks([])\n",
    "        plt.yticks([])\n",
    "        #plt.title(' '.join(name.split('_')).title())\n",
    "        plt.title(f'{name.title()} | GT: {label}')\n",
    "        plt.imshow(image)\n",
    "    plt.show()"
   ]
  },
  {
   "cell_type": "markdown",
   "id": "protecting-advice",
   "metadata": {},
   "source": [
    "### Data Preparation"
   ]
  },
  {
   "cell_type": "markdown",
   "id": "elementary-employer",
   "metadata": {},
   "source": [
    "UKU Images (old split):"
   ]
  },
  {
   "cell_type": "code",
   "execution_count": 4,
   "id": "cleared-practice",
   "metadata": {},
   "outputs": [],
   "source": [
    "dir_only_uku = '../../data/spaete_splits/only_uu/'"
   ]
  },
  {
   "cell_type": "code",
   "execution_count": 5,
   "id": "heated-showcase",
   "metadata": {},
   "outputs": [],
   "source": [
    "file_paths = [str(Path(x)) for x in glob.glob(f'{dir_only_uku}/*/*/*')]"
   ]
  },
  {
   "cell_type": "code",
   "execution_count": 6,
   "id": "fundamental-prediction",
   "metadata": {},
   "outputs": [],
   "source": [
    "df_uku = pd.DataFrame(file_paths,columns=['file_path'])"
   ]
  },
  {
   "cell_type": "code",
   "execution_count": 7,
   "id": "aquatic-granny",
   "metadata": {},
   "outputs": [],
   "source": [
    "df_uku['file_name'] = [Path(x).name for x in file_paths]"
   ]
  },
  {
   "cell_type": "code",
   "execution_count": 8,
   "id": "individual-catch",
   "metadata": {},
   "outputs": [],
   "source": [
    "df_uku['source'] = 'UKU_old_split'"
   ]
  },
  {
   "cell_type": "code",
   "execution_count": 9,
   "id": "behavioral-harvey",
   "metadata": {},
   "outputs": [],
   "source": [
    "df_uku['split'] = df_uku['file_path'].str.contains('train',regex=False)"
   ]
  },
  {
   "cell_type": "code",
   "execution_count": 10,
   "id": "lucky-virginia",
   "metadata": {},
   "outputs": [],
   "source": [
    "df_uku['split'] = np.where(df_uku['split']==True,'train','test')"
   ]
  },
  {
   "cell_type": "code",
   "execution_count": 11,
   "id": "fewer-filing",
   "metadata": {},
   "outputs": [],
   "source": [
    "df_uku['class'] = df_uku['file_name'].str.extract('^(NB|C)')"
   ]
  },
  {
   "cell_type": "code",
   "execution_count": 12,
   "id": "northern-compilation",
   "metadata": {},
   "outputs": [],
   "source": [
    "cls_map = {'C' : 'C',\n",
    "           'NB' : 'H'}"
   ]
  },
  {
   "cell_type": "code",
   "execution_count": 13,
   "id": "funded-nudist",
   "metadata": {},
   "outputs": [],
   "source": [
    "df_uku['class'] = df_uku['class'].map(cls_map)"
   ]
  },
  {
   "cell_type": "code",
   "execution_count": 14,
   "id": "egyptian-console",
   "metadata": {},
   "outputs": [
    {
     "data": {
      "text/html": [
       "<div>\n",
       "<style scoped>\n",
       "    .dataframe tbody tr th:only-of-type {\n",
       "        vertical-align: middle;\n",
       "    }\n",
       "\n",
       "    .dataframe tbody tr th {\n",
       "        vertical-align: top;\n",
       "    }\n",
       "\n",
       "    .dataframe thead th {\n",
       "        text-align: right;\n",
       "    }\n",
       "</style>\n",
       "<table border=\"1\" class=\"dataframe\">\n",
       "  <thead>\n",
       "    <tr style=\"text-align: right;\">\n",
       "      <th></th>\n",
       "      <th>file_path</th>\n",
       "      <th>file_name</th>\n",
       "      <th>source</th>\n",
       "      <th>split</th>\n",
       "      <th>class</th>\n",
       "    </tr>\n",
       "  </thead>\n",
       "  <tbody>\n",
       "    <tr>\n",
       "      <th>0</th>\n",
       "      <td>../../data/spaete_splits/only_uu/valid/nb/NB21...</td>\n",
       "      <td>NB219a.jpg</td>\n",
       "      <td>UKU_old_split</td>\n",
       "      <td>test</td>\n",
       "      <td>H</td>\n",
       "    </tr>\n",
       "    <tr>\n",
       "      <th>1</th>\n",
       "      <td>../../data/spaete_splits/only_uu/valid/nb/NB17...</td>\n",
       "      <td>NB177a.jpg</td>\n",
       "      <td>UKU_old_split</td>\n",
       "      <td>test</td>\n",
       "      <td>H</td>\n",
       "    </tr>\n",
       "    <tr>\n",
       "      <th>2</th>\n",
       "      <td>../../data/spaete_splits/only_uu/valid/nb/NB24...</td>\n",
       "      <td>NB242a.jpg</td>\n",
       "      <td>UKU_old_split</td>\n",
       "      <td>test</td>\n",
       "      <td>H</td>\n",
       "    </tr>\n",
       "    <tr>\n",
       "      <th>3</th>\n",
       "      <td>../../data/spaete_splits/only_uu/valid/nb/NB25...</td>\n",
       "      <td>NB254a.jpg</td>\n",
       "      <td>UKU_old_split</td>\n",
       "      <td>test</td>\n",
       "      <td>H</td>\n",
       "    </tr>\n",
       "    <tr>\n",
       "      <th>4</th>\n",
       "      <td>../../data/spaete_splits/only_uu/valid/nb/NB19...</td>\n",
       "      <td>NB195a.jpg</td>\n",
       "      <td>UKU_old_split</td>\n",
       "      <td>test</td>\n",
       "      <td>H</td>\n",
       "    </tr>\n",
       "  </tbody>\n",
       "</table>\n",
       "</div>"
      ],
      "text/plain": [
       "                                           file_path   file_name  \\\n",
       "0  ../../data/spaete_splits/only_uu/valid/nb/NB21...  NB219a.jpg   \n",
       "1  ../../data/spaete_splits/only_uu/valid/nb/NB17...  NB177a.jpg   \n",
       "2  ../../data/spaete_splits/only_uu/valid/nb/NB24...  NB242a.jpg   \n",
       "3  ../../data/spaete_splits/only_uu/valid/nb/NB25...  NB254a.jpg   \n",
       "4  ../../data/spaete_splits/only_uu/valid/nb/NB19...  NB195a.jpg   \n",
       "\n",
       "          source split class  \n",
       "0  UKU_old_split  test     H  \n",
       "1  UKU_old_split  test     H  \n",
       "2  UKU_old_split  test     H  \n",
       "3  UKU_old_split  test     H  \n",
       "4  UKU_old_split  test     H  "
      ]
     },
     "execution_count": 14,
     "metadata": {},
     "output_type": "execute_result"
    }
   ],
   "source": [
    "df_uku.head()"
   ]
  },
  {
   "cell_type": "markdown",
   "id": "ignored-injection",
   "metadata": {},
   "source": [
    "UKU All Images:"
   ]
  },
  {
   "cell_type": "code",
   "execution_count": 15,
   "id": "embedded-minister",
   "metadata": {},
   "outputs": [],
   "source": [
    "dir_uku_all = '../../data/segmentation_test/raw/'"
   ]
  },
  {
   "cell_type": "code",
   "execution_count": 16,
   "id": "associate-swaziland",
   "metadata": {},
   "outputs": [],
   "source": [
    "file_paths = [str(Path(x)) for x in glob.glob(f'{dir_uku_all}/*')]"
   ]
  },
  {
   "cell_type": "code",
   "execution_count": 17,
   "id": "fatal-spell",
   "metadata": {},
   "outputs": [],
   "source": [
    "df_uku_all = pd.DataFrame(file_paths,columns=['file_path'])"
   ]
  },
  {
   "cell_type": "code",
   "execution_count": 18,
   "id": "realistic-gender",
   "metadata": {},
   "outputs": [],
   "source": [
    "df_uku_all['file_name'] = [Path(x).name for x in file_paths]"
   ]
  },
  {
   "cell_type": "code",
   "execution_count": 19,
   "id": "soviet-fault",
   "metadata": {},
   "outputs": [],
   "source": [
    "df_uku_all['source'] = 'UKU_all'"
   ]
  },
  {
   "cell_type": "code",
   "execution_count": 20,
   "id": "refined-representative",
   "metadata": {},
   "outputs": [],
   "source": [
    "df_uku_all['class'] = df_uku_all['file_name'].str.extract('^(NB|P|B|V|C)')"
   ]
  },
  {
   "cell_type": "code",
   "execution_count": 21,
   "id": "scheduled-fusion",
   "metadata": {},
   "outputs": [],
   "source": [
    "cls_map = {'C' : 'C',\n",
    "           'NB' : 'H',\n",
    "           'V' : 'V',\n",
    "           'P' : 'F',\n",
    "           'B' : 'B'}"
   ]
  },
  {
   "cell_type": "code",
   "execution_count": 22,
   "id": "unable-authority",
   "metadata": {},
   "outputs": [],
   "source": [
    "df_uku_all['class'] = df_uku_all['class'].map(cls_map)"
   ]
  },
  {
   "cell_type": "code",
   "execution_count": 23,
   "id": "freelance-hardwood",
   "metadata": {},
   "outputs": [],
   "source": [
    "X_train, _ = train_test_split(df_uku_all['file_name'].values,test_size=0.2,random_state=1,stratify=df_uku_all['class'].values)"
   ]
  },
  {
   "cell_type": "code",
   "execution_count": 24,
   "id": "public-brazil",
   "metadata": {},
   "outputs": [],
   "source": [
    "df_uku_all['split'] = ['train' if x in X_train else 'test' for x in df_uku_all['file_name'].values]"
   ]
  },
  {
   "cell_type": "code",
   "execution_count": 25,
   "id": "saved-victor",
   "metadata": {},
   "outputs": [
    {
     "data": {
      "text/html": [
       "<div>\n",
       "<style scoped>\n",
       "    .dataframe tbody tr th:only-of-type {\n",
       "        vertical-align: middle;\n",
       "    }\n",
       "\n",
       "    .dataframe tbody tr th {\n",
       "        vertical-align: top;\n",
       "    }\n",
       "\n",
       "    .dataframe thead th {\n",
       "        text-align: right;\n",
       "    }\n",
       "</style>\n",
       "<table border=\"1\" class=\"dataframe\">\n",
       "  <thead>\n",
       "    <tr style=\"text-align: right;\">\n",
       "      <th></th>\n",
       "      <th>file_path</th>\n",
       "      <th>file_name</th>\n",
       "      <th>source</th>\n",
       "      <th>class</th>\n",
       "      <th>split</th>\n",
       "    </tr>\n",
       "  </thead>\n",
       "  <tbody>\n",
       "    <tr>\n",
       "      <th>0</th>\n",
       "      <td>../../data/segmentation_test/raw/C59.png</td>\n",
       "      <td>C59.png</td>\n",
       "      <td>UKU_all</td>\n",
       "      <td>C</td>\n",
       "      <td>train</td>\n",
       "    </tr>\n",
       "    <tr>\n",
       "      <th>1</th>\n",
       "      <td>../../data/segmentation_test/raw/NB46.png</td>\n",
       "      <td>NB46.png</td>\n",
       "      <td>UKU_all</td>\n",
       "      <td>H</td>\n",
       "      <td>train</td>\n",
       "    </tr>\n",
       "    <tr>\n",
       "      <th>2</th>\n",
       "      <td>../../data/segmentation_test/raw/NB663.png</td>\n",
       "      <td>NB663.png</td>\n",
       "      <td>UKU_all</td>\n",
       "      <td>H</td>\n",
       "      <td>train</td>\n",
       "    </tr>\n",
       "    <tr>\n",
       "      <th>3</th>\n",
       "      <td>../../data/segmentation_test/raw/V29.png</td>\n",
       "      <td>V29.png</td>\n",
       "      <td>UKU_all</td>\n",
       "      <td>V</td>\n",
       "      <td>train</td>\n",
       "    </tr>\n",
       "    <tr>\n",
       "      <th>4</th>\n",
       "      <td>../../data/segmentation_test/raw/NB626.png</td>\n",
       "      <td>NB626.png</td>\n",
       "      <td>UKU_all</td>\n",
       "      <td>H</td>\n",
       "      <td>train</td>\n",
       "    </tr>\n",
       "  </tbody>\n",
       "</table>\n",
       "</div>"
      ],
      "text/plain": [
       "                                    file_path  file_name   source class  split\n",
       "0    ../../data/segmentation_test/raw/C59.png    C59.png  UKU_all     C  train\n",
       "1   ../../data/segmentation_test/raw/NB46.png   NB46.png  UKU_all     H  train\n",
       "2  ../../data/segmentation_test/raw/NB663.png  NB663.png  UKU_all     H  train\n",
       "3    ../../data/segmentation_test/raw/V29.png    V29.png  UKU_all     V  train\n",
       "4  ../../data/segmentation_test/raw/NB626.png  NB626.png  UKU_all     H  train"
      ]
     },
     "execution_count": 25,
     "metadata": {},
     "output_type": "execute_result"
    }
   ],
   "source": [
    "df_uku_all.head()"
   ]
  },
  {
   "cell_type": "code",
   "execution_count": 26,
   "id": "about-struggle",
   "metadata": {},
   "outputs": [
    {
     "data": {
      "text/plain": [
       "1082"
      ]
     },
     "execution_count": 26,
     "metadata": {},
     "output_type": "execute_result"
    }
   ],
   "source": [
    "len(df_uku_all)"
   ]
  },
  {
   "cell_type": "markdown",
   "id": "governing-tactics",
   "metadata": {},
   "source": [
    "Synthetic data:"
   ]
  },
  {
   "cell_type": "code",
   "execution_count": 27,
   "id": "working-bradford",
   "metadata": {},
   "outputs": [],
   "source": [
    "dir_synth = '../../data/generated_data/cs_uu/'"
   ]
  },
  {
   "cell_type": "code",
   "execution_count": 28,
   "id": "occasional-mortality",
   "metadata": {},
   "outputs": [],
   "source": [
    "file_paths = [str(Path(x)) for x in glob.glob(f'{dir_synth}/*/*')]"
   ]
  },
  {
   "cell_type": "code",
   "execution_count": 29,
   "id": "amateur-monte",
   "metadata": {},
   "outputs": [],
   "source": [
    "df_synth = pd.DataFrame(file_paths,columns=['file_path'])"
   ]
  },
  {
   "cell_type": "code",
   "execution_count": 30,
   "id": "descending-listening",
   "metadata": {},
   "outputs": [],
   "source": [
    "df_synth['file_name'] = [Path(x).name for x in file_paths]"
   ]
  },
  {
   "cell_type": "code",
   "execution_count": 31,
   "id": "enabling-minister",
   "metadata": {},
   "outputs": [],
   "source": [
    "df_synth['source'] = 'Synth'"
   ]
  },
  {
   "cell_type": "code",
   "execution_count": 32,
   "id": "subjective-karen",
   "metadata": {},
   "outputs": [],
   "source": [
    "df_synth['split'] = 'train'"
   ]
  },
  {
   "cell_type": "code",
   "execution_count": 33,
   "id": "exclusive-exercise",
   "metadata": {},
   "outputs": [],
   "source": [
    "df_synth['class'] = df_synth['file_path'].str.contains('nb',regex=False)"
   ]
  },
  {
   "cell_type": "code",
   "execution_count": 34,
   "id": "boring-butterfly",
   "metadata": {},
   "outputs": [],
   "source": [
    "df_synth['class'] = np.where(df_synth['class']==True,'H','C')"
   ]
  },
  {
   "cell_type": "code",
   "execution_count": 35,
   "id": "monetary-premises",
   "metadata": {},
   "outputs": [
    {
     "data": {
      "text/html": [
       "<div>\n",
       "<style scoped>\n",
       "    .dataframe tbody tr th:only-of-type {\n",
       "        vertical-align: middle;\n",
       "    }\n",
       "\n",
       "    .dataframe tbody tr th {\n",
       "        vertical-align: top;\n",
       "    }\n",
       "\n",
       "    .dataframe thead th {\n",
       "        text-align: right;\n",
       "    }\n",
       "</style>\n",
       "<table border=\"1\" class=\"dataframe\">\n",
       "  <thead>\n",
       "    <tr style=\"text-align: right;\">\n",
       "      <th></th>\n",
       "      <th>file_path</th>\n",
       "      <th>file_name</th>\n",
       "      <th>source</th>\n",
       "      <th>split</th>\n",
       "      <th>class</th>\n",
       "    </tr>\n",
       "  </thead>\n",
       "  <tbody>\n",
       "    <tr>\n",
       "      <th>0</th>\n",
       "      <td>../../data/generated_data/cs_uu/nb/sample_5975...</td>\n",
       "      <td>sample_5975.png</td>\n",
       "      <td>Synth</td>\n",
       "      <td>train</td>\n",
       "      <td>H</td>\n",
       "    </tr>\n",
       "    <tr>\n",
       "      <th>1</th>\n",
       "      <td>../../data/generated_data/cs_uu/nb/sample_7059...</td>\n",
       "      <td>sample_7059.png</td>\n",
       "      <td>Synth</td>\n",
       "      <td>train</td>\n",
       "      <td>H</td>\n",
       "    </tr>\n",
       "    <tr>\n",
       "      <th>2</th>\n",
       "      <td>../../data/generated_data/cs_uu/nb/sample_3288...</td>\n",
       "      <td>sample_3288.png</td>\n",
       "      <td>Synth</td>\n",
       "      <td>train</td>\n",
       "      <td>H</td>\n",
       "    </tr>\n",
       "    <tr>\n",
       "      <th>3</th>\n",
       "      <td>../../data/generated_data/cs_uu/nb/sample_4932...</td>\n",
       "      <td>sample_4932.png</td>\n",
       "      <td>Synth</td>\n",
       "      <td>train</td>\n",
       "      <td>H</td>\n",
       "    </tr>\n",
       "    <tr>\n",
       "      <th>4</th>\n",
       "      <td>../../data/generated_data/cs_uu/nb/sample_7125...</td>\n",
       "      <td>sample_7125.png</td>\n",
       "      <td>Synth</td>\n",
       "      <td>train</td>\n",
       "      <td>H</td>\n",
       "    </tr>\n",
       "  </tbody>\n",
       "</table>\n",
       "</div>"
      ],
      "text/plain": [
       "                                           file_path        file_name source  \\\n",
       "0  ../../data/generated_data/cs_uu/nb/sample_5975...  sample_5975.png  Synth   \n",
       "1  ../../data/generated_data/cs_uu/nb/sample_7059...  sample_7059.png  Synth   \n",
       "2  ../../data/generated_data/cs_uu/nb/sample_3288...  sample_3288.png  Synth   \n",
       "3  ../../data/generated_data/cs_uu/nb/sample_4932...  sample_4932.png  Synth   \n",
       "4  ../../data/generated_data/cs_uu/nb/sample_7125...  sample_7125.png  Synth   \n",
       "\n",
       "   split class  \n",
       "0  train     H  \n",
       "1  train     H  \n",
       "2  train     H  \n",
       "3  train     H  \n",
       "4  train     H  "
      ]
     },
     "execution_count": 35,
     "metadata": {},
     "output_type": "execute_result"
    }
   ],
   "source": [
    "df_synth.head()"
   ]
  },
  {
   "cell_type": "markdown",
   "id": "computational-biology",
   "metadata": {},
   "source": [
    "Covidx:"
   ]
  },
  {
   "cell_type": "code",
   "execution_count": 36,
   "id": "collaborative-outline",
   "metadata": {},
   "outputs": [],
   "source": [
    "dir_covidx = '../../data/Covidx/data_with_classes/'"
   ]
  },
  {
   "cell_type": "code",
   "execution_count": 37,
   "id": "light-adapter",
   "metadata": {},
   "outputs": [],
   "source": [
    "file_paths = [str(Path(x)) for x in glob.glob(f'{dir_covidx}/*/*/*')]"
   ]
  },
  {
   "cell_type": "code",
   "execution_count": 38,
   "id": "satellite-begin",
   "metadata": {},
   "outputs": [],
   "source": [
    "df_covidx = pd.DataFrame(file_paths,columns=['file_path'])"
   ]
  },
  {
   "cell_type": "code",
   "execution_count": 39,
   "id": "incredible-ensemble",
   "metadata": {},
   "outputs": [],
   "source": [
    "df_covidx['file_name'] = [Path(x).name for x in file_paths]"
   ]
  },
  {
   "cell_type": "code",
   "execution_count": 40,
   "id": "rolled-ferry",
   "metadata": {},
   "outputs": [],
   "source": [
    "df_covidx['source'] = 'Covidx'"
   ]
  },
  {
   "cell_type": "code",
   "execution_count": 41,
   "id": "czech-instruction",
   "metadata": {},
   "outputs": [],
   "source": [
    "df_covidx['split'] = df_covidx['file_path'].str.contains('train',regex=False)"
   ]
  },
  {
   "cell_type": "code",
   "execution_count": 42,
   "id": "saved-tucson",
   "metadata": {},
   "outputs": [],
   "source": [
    "df_covidx['split'] = np.where(df_covidx['split']==True,'train','test')"
   ]
  },
  {
   "cell_type": "code",
   "execution_count": 43,
   "id": "hazardous-bishop",
   "metadata": {},
   "outputs": [],
   "source": [
    "df_covidx['class'] = df_covidx['file_path'].str.contains('normal',regex=False)"
   ]
  },
  {
   "cell_type": "code",
   "execution_count": 44,
   "id": "metropolitan-local",
   "metadata": {},
   "outputs": [],
   "source": [
    "df_covidx['class'] = np.where(df_covidx['class']==True,'H','C')"
   ]
  },
  {
   "cell_type": "code",
   "execution_count": 45,
   "id": "adolescent-france",
   "metadata": {},
   "outputs": [
    {
     "data": {
      "text/html": [
       "<div>\n",
       "<style scoped>\n",
       "    .dataframe tbody tr th:only-of-type {\n",
       "        vertical-align: middle;\n",
       "    }\n",
       "\n",
       "    .dataframe tbody tr th {\n",
       "        vertical-align: top;\n",
       "    }\n",
       "\n",
       "    .dataframe thead th {\n",
       "        text-align: right;\n",
       "    }\n",
       "</style>\n",
       "<table border=\"1\" class=\"dataframe\">\n",
       "  <thead>\n",
       "    <tr style=\"text-align: right;\">\n",
       "      <th></th>\n",
       "      <th>file_path</th>\n",
       "      <th>file_name</th>\n",
       "      <th>source</th>\n",
       "      <th>split</th>\n",
       "      <th>class</th>\n",
       "    </tr>\n",
       "  </thead>\n",
       "  <tbody>\n",
       "    <tr>\n",
       "      <th>0</th>\n",
       "      <td>../../data/Covidx/data_with_classes/valid/norm...</td>\n",
       "      <td>99432aa3-8d61-4ff2-a79a-f0a0218d6fa2.png</td>\n",
       "      <td>Covidx</td>\n",
       "      <td>test</td>\n",
       "      <td>H</td>\n",
       "    </tr>\n",
       "    <tr>\n",
       "      <th>1</th>\n",
       "      <td>../../data/Covidx/data_with_classes/valid/norm...</td>\n",
       "      <td>27b32500-40ef-4c14-ab88-ace5e9ceea27.png</td>\n",
       "      <td>Covidx</td>\n",
       "      <td>test</td>\n",
       "      <td>H</td>\n",
       "    </tr>\n",
       "    <tr>\n",
       "      <th>2</th>\n",
       "      <td>../../data/Covidx/data_with_classes/valid/norm...</td>\n",
       "      <td>3c8cc0d1-be7f-493d-9570-542d851f623b.png</td>\n",
       "      <td>Covidx</td>\n",
       "      <td>test</td>\n",
       "      <td>H</td>\n",
       "    </tr>\n",
       "    <tr>\n",
       "      <th>3</th>\n",
       "      <td>../../data/Covidx/data_with_classes/valid/norm...</td>\n",
       "      <td>6804008c-94eb-4870-ba6e-b06514073e71.png</td>\n",
       "      <td>Covidx</td>\n",
       "      <td>test</td>\n",
       "      <td>H</td>\n",
       "    </tr>\n",
       "    <tr>\n",
       "      <th>4</th>\n",
       "      <td>../../data/Covidx/data_with_classes/valid/norm...</td>\n",
       "      <td>8989e25c-a698-48fc-b428-fff56931fc8f.png</td>\n",
       "      <td>Covidx</td>\n",
       "      <td>test</td>\n",
       "      <td>H</td>\n",
       "    </tr>\n",
       "  </tbody>\n",
       "</table>\n",
       "</div>"
      ],
      "text/plain": [
       "                                           file_path  \\\n",
       "0  ../../data/Covidx/data_with_classes/valid/norm...   \n",
       "1  ../../data/Covidx/data_with_classes/valid/norm...   \n",
       "2  ../../data/Covidx/data_with_classes/valid/norm...   \n",
       "3  ../../data/Covidx/data_with_classes/valid/norm...   \n",
       "4  ../../data/Covidx/data_with_classes/valid/norm...   \n",
       "\n",
       "                                  file_name  source split class  \n",
       "0  99432aa3-8d61-4ff2-a79a-f0a0218d6fa2.png  Covidx  test     H  \n",
       "1  27b32500-40ef-4c14-ab88-ace5e9ceea27.png  Covidx  test     H  \n",
       "2  3c8cc0d1-be7f-493d-9570-542d851f623b.png  Covidx  test     H  \n",
       "3  6804008c-94eb-4870-ba6e-b06514073e71.png  Covidx  test     H  \n",
       "4  8989e25c-a698-48fc-b428-fff56931fc8f.png  Covidx  test     H  "
      ]
     },
     "execution_count": 45,
     "metadata": {},
     "output_type": "execute_result"
    }
   ],
   "source": [
    "df_covidx.head()"
   ]
  },
  {
   "cell_type": "markdown",
   "id": "animated-xerox",
   "metadata": {},
   "source": [
    "Merge all dataframes:"
   ]
  },
  {
   "cell_type": "code",
   "execution_count": 46,
   "id": "recognized-honolulu",
   "metadata": {},
   "outputs": [],
   "source": [
    "df = pd.concat([df_uku,df_uku_all,df_synth,df_covidx],ignore_index=True)"
   ]
  },
  {
   "cell_type": "markdown",
   "id": "deadly-webster",
   "metadata": {},
   "source": [
    "Finally encode labels:"
   ]
  },
  {
   "cell_type": "code",
   "execution_count": 47,
   "id": "experimental-dating",
   "metadata": {},
   "outputs": [],
   "source": [
    "df['class'] = df['class'].astype('category')\n",
    "df['label_encoded'] = df['class'].cat.codes.astype('int64')"
   ]
  },
  {
   "cell_type": "code",
   "execution_count": 48,
   "id": "social-cardiff",
   "metadata": {},
   "outputs": [
    {
     "data": {
      "text/html": [
       "<div>\n",
       "<style scoped>\n",
       "    .dataframe tbody tr th:only-of-type {\n",
       "        vertical-align: middle;\n",
       "    }\n",
       "\n",
       "    .dataframe tbody tr th {\n",
       "        vertical-align: top;\n",
       "    }\n",
       "\n",
       "    .dataframe thead th {\n",
       "        text-align: right;\n",
       "    }\n",
       "</style>\n",
       "<table border=\"1\" class=\"dataframe\">\n",
       "  <thead>\n",
       "    <tr style=\"text-align: right;\">\n",
       "      <th></th>\n",
       "      <th>file_path</th>\n",
       "      <th>file_name</th>\n",
       "      <th>source</th>\n",
       "      <th>split</th>\n",
       "      <th>class</th>\n",
       "      <th>label_encoded</th>\n",
       "    </tr>\n",
       "  </thead>\n",
       "  <tbody>\n",
       "  </tbody>\n",
       "</table>\n",
       "</div>"
      ],
      "text/plain": [
       "Empty DataFrame\n",
       "Columns: [file_path, file_name, source, split, class, label_encoded]\n",
       "Index: []"
      ]
     },
     "execution_count": 48,
     "metadata": {},
     "output_type": "execute_result"
    }
   ],
   "source": [
    "df[df.isnull().any(axis=1)]"
   ]
  },
  {
   "cell_type": "code",
   "execution_count": 49,
   "id": "nasty-words",
   "metadata": {},
   "outputs": [
    {
     "data": {
      "text/html": [
       "<div>\n",
       "<style scoped>\n",
       "    .dataframe tbody tr th:only-of-type {\n",
       "        vertical-align: middle;\n",
       "    }\n",
       "\n",
       "    .dataframe tbody tr th {\n",
       "        vertical-align: top;\n",
       "    }\n",
       "\n",
       "    .dataframe thead th {\n",
       "        text-align: right;\n",
       "    }\n",
       "</style>\n",
       "<table border=\"1\" class=\"dataframe\">\n",
       "  <thead>\n",
       "    <tr style=\"text-align: right;\">\n",
       "      <th></th>\n",
       "      <th>file_path</th>\n",
       "      <th>file_name</th>\n",
       "      <th>source</th>\n",
       "      <th>split</th>\n",
       "      <th>class</th>\n",
       "      <th>label_encoded</th>\n",
       "    </tr>\n",
       "  </thead>\n",
       "  <tbody>\n",
       "    <tr>\n",
       "      <th>24645</th>\n",
       "      <td>../../data/Covidx/data_with_classes/train/norm...</td>\n",
       "      <td>7c6d38a6-bbc3-4dd5-b4ad-bc8a7758eeaf.png</td>\n",
       "      <td>Covidx</td>\n",
       "      <td>train</td>\n",
       "      <td>H</td>\n",
       "      <td>3</td>\n",
       "    </tr>\n",
       "    <tr>\n",
       "      <th>31245</th>\n",
       "      <td>../../data/Covidx/data_with_classes/train/norm...</td>\n",
       "      <td>b7b0bdad-ee4b-4381-af19-501eecb6e847.png</td>\n",
       "      <td>Covidx</td>\n",
       "      <td>train</td>\n",
       "      <td>H</td>\n",
       "      <td>3</td>\n",
       "    </tr>\n",
       "    <tr>\n",
       "      <th>7181</th>\n",
       "      <td>../../data/generated_data/cs_uu/nb/sample_8496...</td>\n",
       "      <td>sample_8496.png</td>\n",
       "      <td>Synth</td>\n",
       "      <td>train</td>\n",
       "      <td>H</td>\n",
       "      <td>3</td>\n",
       "    </tr>\n",
       "    <tr>\n",
       "      <th>3526</th>\n",
       "      <td>../../data/generated_data/cs_uu/nb/sample_6530...</td>\n",
       "      <td>sample_6530.png</td>\n",
       "      <td>Synth</td>\n",
       "      <td>train</td>\n",
       "      <td>H</td>\n",
       "      <td>3</td>\n",
       "    </tr>\n",
       "    <tr>\n",
       "      <th>19368</th>\n",
       "      <td>../../data/generated_data/cs_uu/covid/sample_8...</td>\n",
       "      <td>sample_8821.png</td>\n",
       "      <td>Synth</td>\n",
       "      <td>train</td>\n",
       "      <td>C</td>\n",
       "      <td>1</td>\n",
       "    </tr>\n",
       "  </tbody>\n",
       "</table>\n",
       "</div>"
      ],
      "text/plain": [
       "                                               file_path  \\\n",
       "24645  ../../data/Covidx/data_with_classes/train/norm...   \n",
       "31245  ../../data/Covidx/data_with_classes/train/norm...   \n",
       "7181   ../../data/generated_data/cs_uu/nb/sample_8496...   \n",
       "3526   ../../data/generated_data/cs_uu/nb/sample_6530...   \n",
       "19368  ../../data/generated_data/cs_uu/covid/sample_8...   \n",
       "\n",
       "                                      file_name  source  split class  \\\n",
       "24645  7c6d38a6-bbc3-4dd5-b4ad-bc8a7758eeaf.png  Covidx  train     H   \n",
       "31245  b7b0bdad-ee4b-4381-af19-501eecb6e847.png  Covidx  train     H   \n",
       "7181                            sample_8496.png   Synth  train     H   \n",
       "3526                            sample_6530.png   Synth  train     H   \n",
       "19368                           sample_8821.png   Synth  train     C   \n",
       "\n",
       "       label_encoded  \n",
       "24645              3  \n",
       "31245              3  \n",
       "7181               3  \n",
       "3526               3  \n",
       "19368              1  "
      ]
     },
     "execution_count": 49,
     "metadata": {},
     "output_type": "execute_result"
    }
   ],
   "source": [
    "df.sample(5)"
   ]
  },
  {
   "cell_type": "code",
   "execution_count": 50,
   "id": "concrete-department",
   "metadata": {},
   "outputs": [],
   "source": [
    "#df.to_csv('synth_paper_data.csv',index=False)"
   ]
  },
  {
   "cell_type": "markdown",
   "id": "correct-baseline",
   "metadata": {},
   "source": [
    "Move files for image generation:"
   ]
  },
  {
   "cell_type": "code",
   "execution_count": 51,
   "id": "hybrid-teacher",
   "metadata": {},
   "outputs": [],
   "source": [
    "df_synth = df.loc[df['source']=='UKU_all'].copy()"
   ]
  },
  {
   "cell_type": "code",
   "execution_count": 54,
   "id": "exposed-registrar",
   "metadata": {},
   "outputs": [],
   "source": [
    "df_synth['target_path'] = df_synth.agg(lambda x: f\"../../data/synth_paper2_cs/{x['split']}/{x['class']}/{x['file_name']}\",axis=1)"
   ]
  },
  {
   "cell_type": "code",
   "execution_count": 55,
   "id": "protecting-mandate",
   "metadata": {},
   "outputs": [
    {
     "data": {
      "text/html": [
       "<div>\n",
       "<style scoped>\n",
       "    .dataframe tbody tr th:only-of-type {\n",
       "        vertical-align: middle;\n",
       "    }\n",
       "\n",
       "    .dataframe tbody tr th {\n",
       "        vertical-align: top;\n",
       "    }\n",
       "\n",
       "    .dataframe thead th {\n",
       "        text-align: right;\n",
       "    }\n",
       "</style>\n",
       "<table border=\"1\" class=\"dataframe\">\n",
       "  <thead>\n",
       "    <tr style=\"text-align: right;\">\n",
       "      <th></th>\n",
       "      <th>file_path</th>\n",
       "      <th>file_name</th>\n",
       "      <th>source</th>\n",
       "      <th>split</th>\n",
       "      <th>class</th>\n",
       "      <th>label_encoded</th>\n",
       "      <th>target_path</th>\n",
       "    </tr>\n",
       "  </thead>\n",
       "  <tbody>\n",
       "    <tr>\n",
       "      <th>333</th>\n",
       "      <td>../../data/segmentation_test/raw/C59.png</td>\n",
       "      <td>C59.png</td>\n",
       "      <td>UKU_all</td>\n",
       "      <td>train</td>\n",
       "      <td>C</td>\n",
       "      <td>1</td>\n",
       "      <td>../../data/synth_paper2_cs/train/C/C59.png</td>\n",
       "    </tr>\n",
       "    <tr>\n",
       "      <th>334</th>\n",
       "      <td>../../data/segmentation_test/raw/NB46.png</td>\n",
       "      <td>NB46.png</td>\n",
       "      <td>UKU_all</td>\n",
       "      <td>train</td>\n",
       "      <td>H</td>\n",
       "      <td>3</td>\n",
       "      <td>../../data/synth_paper2_cs/train/H/NB46.png</td>\n",
       "    </tr>\n",
       "    <tr>\n",
       "      <th>335</th>\n",
       "      <td>../../data/segmentation_test/raw/NB663.png</td>\n",
       "      <td>NB663.png</td>\n",
       "      <td>UKU_all</td>\n",
       "      <td>train</td>\n",
       "      <td>H</td>\n",
       "      <td>3</td>\n",
       "      <td>../../data/synth_paper2_cs/train/H/NB663.png</td>\n",
       "    </tr>\n",
       "    <tr>\n",
       "      <th>336</th>\n",
       "      <td>../../data/segmentation_test/raw/V29.png</td>\n",
       "      <td>V29.png</td>\n",
       "      <td>UKU_all</td>\n",
       "      <td>train</td>\n",
       "      <td>V</td>\n",
       "      <td>4</td>\n",
       "      <td>../../data/synth_paper2_cs/train/V/V29.png</td>\n",
       "    </tr>\n",
       "    <tr>\n",
       "      <th>337</th>\n",
       "      <td>../../data/segmentation_test/raw/NB626.png</td>\n",
       "      <td>NB626.png</td>\n",
       "      <td>UKU_all</td>\n",
       "      <td>train</td>\n",
       "      <td>H</td>\n",
       "      <td>3</td>\n",
       "      <td>../../data/synth_paper2_cs/train/H/NB626.png</td>\n",
       "    </tr>\n",
       "    <tr>\n",
       "      <th>...</th>\n",
       "      <td>...</td>\n",
       "      <td>...</td>\n",
       "      <td>...</td>\n",
       "      <td>...</td>\n",
       "      <td>...</td>\n",
       "      <td>...</td>\n",
       "      <td>...</td>\n",
       "    </tr>\n",
       "    <tr>\n",
       "      <th>1410</th>\n",
       "      <td>../../data/segmentation_test/raw/P29.png</td>\n",
       "      <td>P29.png</td>\n",
       "      <td>UKU_all</td>\n",
       "      <td>train</td>\n",
       "      <td>F</td>\n",
       "      <td>2</td>\n",
       "      <td>../../data/synth_paper2_cs/train/F/P29.png</td>\n",
       "    </tr>\n",
       "    <tr>\n",
       "      <th>1411</th>\n",
       "      <td>../../data/segmentation_test/raw/NB364.png</td>\n",
       "      <td>NB364.png</td>\n",
       "      <td>UKU_all</td>\n",
       "      <td>train</td>\n",
       "      <td>H</td>\n",
       "      <td>3</td>\n",
       "      <td>../../data/synth_paper2_cs/train/H/NB364.png</td>\n",
       "    </tr>\n",
       "    <tr>\n",
       "      <th>1412</th>\n",
       "      <td>../../data/segmentation_test/raw/NB22.png</td>\n",
       "      <td>NB22.png</td>\n",
       "      <td>UKU_all</td>\n",
       "      <td>train</td>\n",
       "      <td>H</td>\n",
       "      <td>3</td>\n",
       "      <td>../../data/synth_paper2_cs/train/H/NB22.png</td>\n",
       "    </tr>\n",
       "    <tr>\n",
       "      <th>1413</th>\n",
       "      <td>../../data/segmentation_test/raw/NB669.png</td>\n",
       "      <td>NB669.png</td>\n",
       "      <td>UKU_all</td>\n",
       "      <td>test</td>\n",
       "      <td>H</td>\n",
       "      <td>3</td>\n",
       "      <td>../../data/synth_paper2_cs/test/H/NB669.png</td>\n",
       "    </tr>\n",
       "    <tr>\n",
       "      <th>1414</th>\n",
       "      <td>../../data/segmentation_test/raw/NB65.png</td>\n",
       "      <td>NB65.png</td>\n",
       "      <td>UKU_all</td>\n",
       "      <td>train</td>\n",
       "      <td>H</td>\n",
       "      <td>3</td>\n",
       "      <td>../../data/synth_paper2_cs/train/H/NB65.png</td>\n",
       "    </tr>\n",
       "  </tbody>\n",
       "</table>\n",
       "<p>1082 rows × 7 columns</p>\n",
       "</div>"
      ],
      "text/plain": [
       "                                       file_path  file_name   source  split  \\\n",
       "333     ../../data/segmentation_test/raw/C59.png    C59.png  UKU_all  train   \n",
       "334    ../../data/segmentation_test/raw/NB46.png   NB46.png  UKU_all  train   \n",
       "335   ../../data/segmentation_test/raw/NB663.png  NB663.png  UKU_all  train   \n",
       "336     ../../data/segmentation_test/raw/V29.png    V29.png  UKU_all  train   \n",
       "337   ../../data/segmentation_test/raw/NB626.png  NB626.png  UKU_all  train   \n",
       "...                                          ...        ...      ...    ...   \n",
       "1410    ../../data/segmentation_test/raw/P29.png    P29.png  UKU_all  train   \n",
       "1411  ../../data/segmentation_test/raw/NB364.png  NB364.png  UKU_all  train   \n",
       "1412   ../../data/segmentation_test/raw/NB22.png   NB22.png  UKU_all  train   \n",
       "1413  ../../data/segmentation_test/raw/NB669.png  NB669.png  UKU_all   test   \n",
       "1414   ../../data/segmentation_test/raw/NB65.png   NB65.png  UKU_all  train   \n",
       "\n",
       "     class  label_encoded                                   target_path  \n",
       "333      C              1    ../../data/synth_paper2_cs/train/C/C59.png  \n",
       "334      H              3   ../../data/synth_paper2_cs/train/H/NB46.png  \n",
       "335      H              3  ../../data/synth_paper2_cs/train/H/NB663.png  \n",
       "336      V              4    ../../data/synth_paper2_cs/train/V/V29.png  \n",
       "337      H              3  ../../data/synth_paper2_cs/train/H/NB626.png  \n",
       "...    ...            ...                                           ...  \n",
       "1410     F              2    ../../data/synth_paper2_cs/train/F/P29.png  \n",
       "1411     H              3  ../../data/synth_paper2_cs/train/H/NB364.png  \n",
       "1412     H              3   ../../data/synth_paper2_cs/train/H/NB22.png  \n",
       "1413     H              3   ../../data/synth_paper2_cs/test/H/NB669.png  \n",
       "1414     H              3   ../../data/synth_paper2_cs/train/H/NB65.png  \n",
       "\n",
       "[1082 rows x 7 columns]"
      ]
     },
     "execution_count": 55,
     "metadata": {},
     "output_type": "execute_result"
    }
   ],
   "source": [
    "df_synth"
   ]
  },
  {
   "cell_type": "code",
   "execution_count": 63,
   "id": "silver-sympathy",
   "metadata": {},
   "outputs": [
    {
     "name": "stderr",
     "output_type": "stream",
     "text": [
      "1082it [00:08, 120.63it/s]\n"
     ]
    }
   ],
   "source": [
    "for source,dest in tqdm(zip(df_synth['file_path'],df_synth['target_path'])):\n",
    "    if not Path(dest).parent.exists():\n",
    "        Path(dest).parent.mkdir(parents=True, exist_ok=True)\n",
    "    shutil.copy2(source, dest)"
   ]
  }
 ],
 "metadata": {
  "kernelspec": {
   "display_name": "Python 3",
   "language": "python",
   "name": "python3"
  },
  "language_info": {
   "codemirror_mode": {
    "name": "ipython",
    "version": 3
   },
   "file_extension": ".py",
   "mimetype": "text/x-python",
   "name": "python",
   "nbconvert_exporter": "python",
   "pygments_lexer": "ipython3",
   "version": "3.9.10"
  }
 },
 "nbformat": 4,
 "nbformat_minor": 5
}
